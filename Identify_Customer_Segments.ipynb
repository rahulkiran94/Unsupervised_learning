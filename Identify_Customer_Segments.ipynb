{
 "cells": [
  {
   "cell_type": "markdown",
   "metadata": {},
   "source": [
    "### Prerequsite - Upgrade Scikit Learn\n",
    "The current workspace has scikit-learn v0.19.1 installed. However, you can upgrade scikit-learn to 0.24.x. and use this [OneHotEncoder](https://scikit-learn.org/0.21/modules/generated/sklearn.preprocessing.OneHotEncoder.html) library. \n"
   ]
  },
  {
   "cell_type": "code",
   "execution_count": 124,
   "metadata": {},
   "outputs": [
    {
     "name": "stdout",
     "output_type": "stream",
     "text": [
      "The scikit-learn version is 1.3.2.\n"
     ]
    }
   ],
   "source": [
    "import sklearn\n",
    "print('The scikit-learn version is {}.'.format(sklearn.__version__))"
   ]
  },
  {
   "cell_type": "code",
   "execution_count": 125,
   "metadata": {},
   "outputs": [],
   "source": [
    "import warnings\n",
    "warnings.filterwarnings(\"ignore\")"
   ]
  },
  {
   "cell_type": "code",
   "execution_count": 126,
   "metadata": {},
   "outputs": [],
   "source": [
    "import os\n",
    "os.environ['PATH'] = f\"{os.environ['PATH']}:/root/.local/bin\""
   ]
  },
  {
   "cell_type": "raw",
   "metadata": {},
   "source": [
    "Restart the Kernel. "
   ]
  },
  {
   "cell_type": "code",
   "execution_count": 127,
   "metadata": {},
   "outputs": [
    {
     "name": "stdout",
     "output_type": "stream",
     "text": [
      "Requirement already satisfied: scikit-learn in /Library/Frameworks/Python.framework/Versions/3.11/lib/python3.11/site-packages (1.3.2)\n",
      "Requirement already satisfied: numpy<2.0,>=1.17.3 in /Library/Frameworks/Python.framework/Versions/3.11/lib/python3.11/site-packages (from scikit-learn) (1.26.2)\n",
      "Requirement already satisfied: scipy>=1.5.0 in /Library/Frameworks/Python.framework/Versions/3.11/lib/python3.11/site-packages (from scikit-learn) (1.11.4)\n",
      "Requirement already satisfied: joblib>=1.1.1 in /Library/Frameworks/Python.framework/Versions/3.11/lib/python3.11/site-packages (from scikit-learn) (1.3.2)\n",
      "Requirement already satisfied: threadpoolctl>=2.0.0 in /Library/Frameworks/Python.framework/Versions/3.11/lib/python3.11/site-packages (from scikit-learn) (3.2.0)\n",
      "\n",
      "\u001b[1m[\u001b[0m\u001b[34;49mnotice\u001b[0m\u001b[1;39;49m]\u001b[0m\u001b[39;49m A new release of pip is available: \u001b[0m\u001b[31;49m23.3.1\u001b[0m\u001b[39;49m -> \u001b[0m\u001b[32;49m23.3.2\u001b[0m\n",
      "\u001b[1m[\u001b[0m\u001b[34;49mnotice\u001b[0m\u001b[1;39;49m]\u001b[0m\u001b[39;49m To update, run: \u001b[0m\u001b[32;49mpip install --upgrade pip\u001b[0m\n",
      "The scikit-learn version is 1.3.2.\n"
     ]
    }
   ],
   "source": [
    "!python3 -m pip install --upgrade scikit-learn \n",
    "import sklearn\n",
    "print('The scikit-learn version is {}.'.format(sklearn.__version__))"
   ]
  },
  {
   "cell_type": "code",
   "execution_count": 128,
   "metadata": {},
   "outputs": [],
   "source": [
    "# Now you can import and use OneHotEncoder\n",
    "from sklearn.preprocessing import OneHotEncoder\n",
    "# your code goes here"
   ]
  },
  {
   "cell_type": "code",
   "execution_count": 129,
   "metadata": {},
   "outputs": [],
   "source": [
    "encoder = OneHotEncoder(sparse=False,drop='first')"
   ]
  },
  {
   "cell_type": "code",
   "execution_count": 130,
   "metadata": {
    "scrolled": true
   },
   "outputs": [
    {
     "name": "stdout",
     "output_type": "stream",
     "text": [
      "Requirement already satisfied: tensorflow-tensorboard<0.2.0,>=0.1.0 in /Library/Frameworks/Python.framework/Versions/3.11/lib/python3.11/site-packages (0.1.8)\n",
      "Requirement already satisfied: bleach==1.5.0 in /Library/Frameworks/Python.framework/Versions/3.11/lib/python3.11/site-packages (from tensorflow-tensorboard<0.2.0,>=0.1.0) (1.5.0)\n",
      "Requirement already satisfied: html5lib==0.9999999 in /Library/Frameworks/Python.framework/Versions/3.11/lib/python3.11/site-packages (from tensorflow-tensorboard<0.2.0,>=0.1.0) (0.9999999)\n",
      "Requirement already satisfied: markdown>=2.6.8 in /Library/Frameworks/Python.framework/Versions/3.11/lib/python3.11/site-packages (from tensorflow-tensorboard<0.2.0,>=0.1.0) (3.5.1)\n",
      "Requirement already satisfied: numpy>=1.11.0 in /Library/Frameworks/Python.framework/Versions/3.11/lib/python3.11/site-packages (from tensorflow-tensorboard<0.2.0,>=0.1.0) (1.26.2)\n",
      "Requirement already satisfied: protobuf>=3.2.0 in /Library/Frameworks/Python.framework/Versions/3.11/lib/python3.11/site-packages (from tensorflow-tensorboard<0.2.0,>=0.1.0) (4.23.4)\n",
      "Requirement already satisfied: six>=1.10.0 in /Library/Frameworks/Python.framework/Versions/3.11/lib/python3.11/site-packages (from tensorflow-tensorboard<0.2.0,>=0.1.0) (1.16.0)\n",
      "Requirement already satisfied: werkzeug>=0.11.10 in /Library/Frameworks/Python.framework/Versions/3.11/lib/python3.11/site-packages (from tensorflow-tensorboard<0.2.0,>=0.1.0) (3.0.1)\n",
      "Requirement already satisfied: wheel>=0.26 in /Library/Frameworks/Python.framework/Versions/3.11/lib/python3.11/site-packages (from tensorflow-tensorboard<0.2.0,>=0.1.0) (0.42.0)\n",
      "Requirement already satisfied: MarkupSafe>=2.1.1 in /Library/Frameworks/Python.framework/Versions/3.11/lib/python3.11/site-packages (from werkzeug>=0.11.10->tensorflow-tensorboard<0.2.0,>=0.1.0) (2.1.3)\n",
      "\n",
      "\u001b[1m[\u001b[0m\u001b[34;49mnotice\u001b[0m\u001b[1;39;49m]\u001b[0m\u001b[39;49m A new release of pip is available: \u001b[0m\u001b[31;49m23.3.1\u001b[0m\u001b[39;49m -> \u001b[0m\u001b[32;49m23.3.2\u001b[0m\n",
      "\u001b[1m[\u001b[0m\u001b[34;49mnotice\u001b[0m\u001b[1;39;49m]\u001b[0m\u001b[39;49m To update, run: \u001b[0m\u001b[32;49mpip install --upgrade pip\u001b[0m\n"
     ]
    }
   ],
   "source": [
    "# Similarly, should you need any other package, they can install it as:\n",
    "!python3 -m pip install 'tensorflow-tensorboard<0.2.0,>=0.1.0'"
   ]
  },
  {
   "cell_type": "markdown",
   "metadata": {},
   "source": [
    "# Project: Identify Customer Segments\n",
    "\n",
    "In this project, you will apply unsupervised learning techniques to identify segments of the population that form the core customer base for a mail-order sales company in Germany. These segments can then be used to direct marketing campaigns towards audiences that will have the highest expected rate of returns. The data that you will use has been provided by our partners at Bertelsmann Arvato Analytics, and represents a real-life data science task.\n",
    "\n",
    "This notebook will help you complete this task by providing a framework within which you will perform your analysis steps. In each step of the project, you will see some text describing the subtask that you will perform, followed by one or more code cells for you to complete your work. **Feel free to add additional code and markdown cells as you go along so that you can explore everything in precise chunks.** The code cells provided in the base template will outline only the major tasks, and will usually not be enough to cover all of the minor tasks that comprise it.\n",
    "\n",
    "It should be noted that while there will be precise guidelines on how you should handle certain tasks in the project, there will also be places where an exact specification is not provided. **There will be times in the project where you will need to make and justify your own decisions on how to treat the data.** These are places where there may not be only one way to handle the data. In real-life tasks, there may be many valid ways to approach an analysis task. One of the most important things you can do is clearly document your approach so that other scientists can understand the decisions you've made.\n",
    "\n",
    "At the end of most sections, there will be a Markdown cell labeled **Discussion**. In these cells, you will report your findings for the completed section, as well as document the decisions that you made in your approach to each subtask. **Your project will be evaluated not just on the code used to complete the tasks outlined, but also your communication about your observations and conclusions at each stage.**"
   ]
  },
  {
   "cell_type": "code",
   "execution_count": 131,
   "metadata": {},
   "outputs": [],
   "source": [
    "### import libraries here; add more as necessary\n",
    "import numpy as np\n",
    "import pandas as pd\n",
    "import matplotlib.pyplot as plt\n",
    "import seaborn as sns\n",
    "\n",
    "# magic word for producing visualizations in notebook\n",
    "%matplotlib inline\n",
    "\n",
    "'''\n",
    "Import note: The classroom currently uses sklearn version 0.19.\n",
    "If you need to use an imputer, it is available in sklearn.preprocessing.Imputer,\n",
    "instead of sklearn.impute as in newer versions of sklearn.\n",
    "'''\n",
    "pd.options.display.max_rows = None\n",
    "pd.options.display.max_columns = None"
   ]
  },
  {
   "cell_type": "markdown",
   "metadata": {},
   "source": [
    "### Step 0: Load the Data\n",
    "\n",
    "There are four files associated with this project (not including this one):\n",
    "\n",
    "- `Udacity_AZDIAS_Subset.csv`: Demographics data for the general population of Germany; 891211 persons (rows) x 85 features (columns).\n",
    "- `Udacity_CUSTOMERS_Subset.csv`: Demographics data for customers of a mail-order company; 191652 persons (rows) x 85 features (columns).\n",
    "- `Data_Dictionary.md`: Detailed information file about the features in the provided datasets.\n",
    "- `AZDIAS_Feature_Summary.csv`: Summary of feature attributes for demographics data; 85 features (rows) x 4 columns\n",
    "\n",
    "Each row of the demographics files represents a single person, but also includes information outside of individuals, including information about their household, building, and neighborhood. You will use this information to cluster the general population into groups with similar demographic properties. Then, you will see how the people in the customers dataset fit into those created clusters. The hope here is that certain clusters are over-represented in the customers data, as compared to the general population; those over-represented clusters will be assumed to be part of the core userbase. This information can then be used for further applications, such as targeting for a marketing campaign.\n",
    "\n",
    "To start off with, load in the demographics data for the general population into a pandas DataFrame, and do the same for the feature attributes summary. Note for all of the `.csv` data files in this project: they're semicolon (`;`) delimited, so you'll need an additional argument in your [`read_csv()`](https://pandas.pydata.org/pandas-docs/stable/generated/pandas.read_csv.html) call to read in the data properly. Also, considering the size of the main dataset, it may take some time for it to load completely.\n",
    "\n",
    "Once the dataset is loaded, it's recommended that you take a little bit of time just browsing the general structure of the dataset and feature summary file. You'll be getting deep into the innards of the cleaning in the first major step of the project, so gaining some general familiarity can help you get your bearings."
   ]
  },
  {
   "cell_type": "code",
   "execution_count": 132,
   "metadata": {},
   "outputs": [],
   "source": [
    "# Load in the general demographics data.\n",
    "general_df = pd.read_csv('Udacity_AZDIAS_Subset.csv', delimiter = ';')\n",
    "\n",
    "# Load in the feature summary file.\n",
    "features_df = pd.read_csv('AZDIAS_Feature_Summary.csv', delimiter = ';')\n"
   ]
  },
  {
   "cell_type": "code",
   "execution_count": 133,
   "metadata": {},
   "outputs": [
    {
     "data": {
      "text/html": [
       "<div>\n",
       "<style scoped>\n",
       "    .dataframe tbody tr th:only-of-type {\n",
       "        vertical-align: middle;\n",
       "    }\n",
       "\n",
       "    .dataframe tbody tr th {\n",
       "        vertical-align: top;\n",
       "    }\n",
       "\n",
       "    .dataframe thead th {\n",
       "        text-align: right;\n",
       "    }\n",
       "</style>\n",
       "<table border=\"1\" class=\"dataframe\">\n",
       "  <thead>\n",
       "    <tr style=\"text-align: right;\">\n",
       "      <th></th>\n",
       "      <th>AGER_TYP</th>\n",
       "      <th>ALTERSKATEGORIE_GROB</th>\n",
       "      <th>ANREDE_KZ</th>\n",
       "      <th>CJT_GESAMTTYP</th>\n",
       "      <th>FINANZ_MINIMALIST</th>\n",
       "      <th>FINANZ_SPARER</th>\n",
       "      <th>FINANZ_VORSORGER</th>\n",
       "      <th>FINANZ_ANLEGER</th>\n",
       "      <th>FINANZ_UNAUFFAELLIGER</th>\n",
       "      <th>FINANZ_HAUSBAUER</th>\n",
       "      <th>FINANZTYP</th>\n",
       "      <th>GEBURTSJAHR</th>\n",
       "      <th>GFK_URLAUBERTYP</th>\n",
       "      <th>GREEN_AVANTGARDE</th>\n",
       "      <th>HEALTH_TYP</th>\n",
       "      <th>LP_LEBENSPHASE_FEIN</th>\n",
       "      <th>LP_LEBENSPHASE_GROB</th>\n",
       "      <th>LP_FAMILIE_FEIN</th>\n",
       "      <th>LP_FAMILIE_GROB</th>\n",
       "      <th>LP_STATUS_FEIN</th>\n",
       "      <th>LP_STATUS_GROB</th>\n",
       "      <th>NATIONALITAET_KZ</th>\n",
       "      <th>PRAEGENDE_JUGENDJAHRE</th>\n",
       "      <th>RETOURTYP_BK_S</th>\n",
       "      <th>SEMIO_SOZ</th>\n",
       "      <th>SEMIO_FAM</th>\n",
       "      <th>SEMIO_REL</th>\n",
       "      <th>SEMIO_MAT</th>\n",
       "      <th>SEMIO_VERT</th>\n",
       "      <th>SEMIO_LUST</th>\n",
       "      <th>SEMIO_ERL</th>\n",
       "      <th>SEMIO_KULT</th>\n",
       "      <th>SEMIO_RAT</th>\n",
       "      <th>SEMIO_KRIT</th>\n",
       "      <th>SEMIO_DOM</th>\n",
       "      <th>SEMIO_KAEM</th>\n",
       "      <th>SEMIO_PFLICHT</th>\n",
       "      <th>SEMIO_TRADV</th>\n",
       "      <th>SHOPPER_TYP</th>\n",
       "      <th>SOHO_KZ</th>\n",
       "      <th>TITEL_KZ</th>\n",
       "      <th>VERS_TYP</th>\n",
       "      <th>ZABEOTYP</th>\n",
       "      <th>ALTER_HH</th>\n",
       "      <th>ANZ_PERSONEN</th>\n",
       "      <th>ANZ_TITEL</th>\n",
       "      <th>HH_EINKOMMEN_SCORE</th>\n",
       "      <th>KK_KUNDENTYP</th>\n",
       "      <th>W_KEIT_KIND_HH</th>\n",
       "      <th>WOHNDAUER_2008</th>\n",
       "      <th>ANZ_HAUSHALTE_AKTIV</th>\n",
       "      <th>ANZ_HH_TITEL</th>\n",
       "      <th>GEBAEUDETYP</th>\n",
       "      <th>KONSUMNAEHE</th>\n",
       "      <th>MIN_GEBAEUDEJAHR</th>\n",
       "      <th>OST_WEST_KZ</th>\n",
       "      <th>WOHNLAGE</th>\n",
       "      <th>CAMEO_DEUG_2015</th>\n",
       "      <th>CAMEO_DEU_2015</th>\n",
       "      <th>CAMEO_INTL_2015</th>\n",
       "      <th>KBA05_ANTG1</th>\n",
       "      <th>KBA05_ANTG2</th>\n",
       "      <th>KBA05_ANTG3</th>\n",
       "      <th>KBA05_ANTG4</th>\n",
       "      <th>KBA05_BAUMAX</th>\n",
       "      <th>KBA05_GBZ</th>\n",
       "      <th>BALLRAUM</th>\n",
       "      <th>EWDICHTE</th>\n",
       "      <th>INNENSTADT</th>\n",
       "      <th>GEBAEUDETYP_RASTER</th>\n",
       "      <th>KKK</th>\n",
       "      <th>MOBI_REGIO</th>\n",
       "      <th>ONLINE_AFFINITAET</th>\n",
       "      <th>REGIOTYP</th>\n",
       "      <th>KBA13_ANZAHL_PKW</th>\n",
       "      <th>PLZ8_ANTG1</th>\n",
       "      <th>PLZ8_ANTG2</th>\n",
       "      <th>PLZ8_ANTG3</th>\n",
       "      <th>PLZ8_ANTG4</th>\n",
       "      <th>PLZ8_BAUMAX</th>\n",
       "      <th>PLZ8_HHZ</th>\n",
       "      <th>PLZ8_GBZ</th>\n",
       "      <th>ARBEIT</th>\n",
       "      <th>ORTSGR_KLS9</th>\n",
       "      <th>RELAT_AB</th>\n",
       "    </tr>\n",
       "  </thead>\n",
       "  <tbody>\n",
       "    <tr>\n",
       "      <th>0</th>\n",
       "      <td>-1</td>\n",
       "      <td>2</td>\n",
       "      <td>1</td>\n",
       "      <td>2.0</td>\n",
       "      <td>3</td>\n",
       "      <td>4</td>\n",
       "      <td>3</td>\n",
       "      <td>5</td>\n",
       "      <td>5</td>\n",
       "      <td>3</td>\n",
       "      <td>4</td>\n",
       "      <td>0</td>\n",
       "      <td>10.0</td>\n",
       "      <td>0</td>\n",
       "      <td>-1</td>\n",
       "      <td>15.0</td>\n",
       "      <td>4.0</td>\n",
       "      <td>2.0</td>\n",
       "      <td>2.0</td>\n",
       "      <td>1.0</td>\n",
       "      <td>1.0</td>\n",
       "      <td>0</td>\n",
       "      <td>0</td>\n",
       "      <td>5.0</td>\n",
       "      <td>2</td>\n",
       "      <td>6</td>\n",
       "      <td>7</td>\n",
       "      <td>5</td>\n",
       "      <td>1</td>\n",
       "      <td>5</td>\n",
       "      <td>3</td>\n",
       "      <td>3</td>\n",
       "      <td>4</td>\n",
       "      <td>7</td>\n",
       "      <td>6</td>\n",
       "      <td>6</td>\n",
       "      <td>5</td>\n",
       "      <td>3</td>\n",
       "      <td>-1</td>\n",
       "      <td>NaN</td>\n",
       "      <td>NaN</td>\n",
       "      <td>-1</td>\n",
       "      <td>3</td>\n",
       "      <td>NaN</td>\n",
       "      <td>NaN</td>\n",
       "      <td>NaN</td>\n",
       "      <td>2.0</td>\n",
       "      <td>NaN</td>\n",
       "      <td>NaN</td>\n",
       "      <td>NaN</td>\n",
       "      <td>NaN</td>\n",
       "      <td>NaN</td>\n",
       "      <td>NaN</td>\n",
       "      <td>NaN</td>\n",
       "      <td>NaN</td>\n",
       "      <td>NaN</td>\n",
       "      <td>NaN</td>\n",
       "      <td>NaN</td>\n",
       "      <td>NaN</td>\n",
       "      <td>NaN</td>\n",
       "      <td>NaN</td>\n",
       "      <td>NaN</td>\n",
       "      <td>NaN</td>\n",
       "      <td>NaN</td>\n",
       "      <td>NaN</td>\n",
       "      <td>NaN</td>\n",
       "      <td>NaN</td>\n",
       "      <td>NaN</td>\n",
       "      <td>NaN</td>\n",
       "      <td>NaN</td>\n",
       "      <td>NaN</td>\n",
       "      <td>NaN</td>\n",
       "      <td>1.0</td>\n",
       "      <td>NaN</td>\n",
       "      <td>NaN</td>\n",
       "      <td>NaN</td>\n",
       "      <td>NaN</td>\n",
       "      <td>NaN</td>\n",
       "      <td>NaN</td>\n",
       "      <td>NaN</td>\n",
       "      <td>NaN</td>\n",
       "      <td>NaN</td>\n",
       "      <td>NaN</td>\n",
       "      <td>NaN</td>\n",
       "      <td>NaN</td>\n",
       "    </tr>\n",
       "    <tr>\n",
       "      <th>1</th>\n",
       "      <td>-1</td>\n",
       "      <td>1</td>\n",
       "      <td>2</td>\n",
       "      <td>5.0</td>\n",
       "      <td>1</td>\n",
       "      <td>5</td>\n",
       "      <td>2</td>\n",
       "      <td>5</td>\n",
       "      <td>4</td>\n",
       "      <td>5</td>\n",
       "      <td>1</td>\n",
       "      <td>1996</td>\n",
       "      <td>10.0</td>\n",
       "      <td>0</td>\n",
       "      <td>3</td>\n",
       "      <td>21.0</td>\n",
       "      <td>6.0</td>\n",
       "      <td>5.0</td>\n",
       "      <td>3.0</td>\n",
       "      <td>2.0</td>\n",
       "      <td>1.0</td>\n",
       "      <td>1</td>\n",
       "      <td>14</td>\n",
       "      <td>1.0</td>\n",
       "      <td>5</td>\n",
       "      <td>4</td>\n",
       "      <td>4</td>\n",
       "      <td>3</td>\n",
       "      <td>1</td>\n",
       "      <td>2</td>\n",
       "      <td>2</td>\n",
       "      <td>3</td>\n",
       "      <td>6</td>\n",
       "      <td>4</td>\n",
       "      <td>7</td>\n",
       "      <td>4</td>\n",
       "      <td>7</td>\n",
       "      <td>6</td>\n",
       "      <td>3</td>\n",
       "      <td>1.0</td>\n",
       "      <td>0.0</td>\n",
       "      <td>2</td>\n",
       "      <td>5</td>\n",
       "      <td>0.0</td>\n",
       "      <td>2.0</td>\n",
       "      <td>0.0</td>\n",
       "      <td>6.0</td>\n",
       "      <td>NaN</td>\n",
       "      <td>3.0</td>\n",
       "      <td>9.0</td>\n",
       "      <td>11.0</td>\n",
       "      <td>0.0</td>\n",
       "      <td>8.0</td>\n",
       "      <td>1.0</td>\n",
       "      <td>1992.0</td>\n",
       "      <td>W</td>\n",
       "      <td>4.0</td>\n",
       "      <td>8</td>\n",
       "      <td>8A</td>\n",
       "      <td>51</td>\n",
       "      <td>0.0</td>\n",
       "      <td>0.0</td>\n",
       "      <td>0.0</td>\n",
       "      <td>2.0</td>\n",
       "      <td>5.0</td>\n",
       "      <td>1.0</td>\n",
       "      <td>6.0</td>\n",
       "      <td>3.0</td>\n",
       "      <td>8.0</td>\n",
       "      <td>3.0</td>\n",
       "      <td>2.0</td>\n",
       "      <td>1.0</td>\n",
       "      <td>3.0</td>\n",
       "      <td>3.0</td>\n",
       "      <td>963.0</td>\n",
       "      <td>2.0</td>\n",
       "      <td>3.0</td>\n",
       "      <td>2.0</td>\n",
       "      <td>1.0</td>\n",
       "      <td>1.0</td>\n",
       "      <td>5.0</td>\n",
       "      <td>4.0</td>\n",
       "      <td>3.0</td>\n",
       "      <td>5.0</td>\n",
       "      <td>4.0</td>\n",
       "    </tr>\n",
       "    <tr>\n",
       "      <th>2</th>\n",
       "      <td>-1</td>\n",
       "      <td>3</td>\n",
       "      <td>2</td>\n",
       "      <td>3.0</td>\n",
       "      <td>1</td>\n",
       "      <td>4</td>\n",
       "      <td>1</td>\n",
       "      <td>2</td>\n",
       "      <td>3</td>\n",
       "      <td>5</td>\n",
       "      <td>1</td>\n",
       "      <td>1979</td>\n",
       "      <td>10.0</td>\n",
       "      <td>1</td>\n",
       "      <td>3</td>\n",
       "      <td>3.0</td>\n",
       "      <td>1.0</td>\n",
       "      <td>1.0</td>\n",
       "      <td>1.0</td>\n",
       "      <td>3.0</td>\n",
       "      <td>2.0</td>\n",
       "      <td>1</td>\n",
       "      <td>15</td>\n",
       "      <td>3.0</td>\n",
       "      <td>4</td>\n",
       "      <td>1</td>\n",
       "      <td>3</td>\n",
       "      <td>3</td>\n",
       "      <td>4</td>\n",
       "      <td>4</td>\n",
       "      <td>6</td>\n",
       "      <td>3</td>\n",
       "      <td>4</td>\n",
       "      <td>7</td>\n",
       "      <td>7</td>\n",
       "      <td>7</td>\n",
       "      <td>3</td>\n",
       "      <td>3</td>\n",
       "      <td>2</td>\n",
       "      <td>0.0</td>\n",
       "      <td>0.0</td>\n",
       "      <td>1</td>\n",
       "      <td>5</td>\n",
       "      <td>17.0</td>\n",
       "      <td>1.0</td>\n",
       "      <td>0.0</td>\n",
       "      <td>4.0</td>\n",
       "      <td>NaN</td>\n",
       "      <td>3.0</td>\n",
       "      <td>9.0</td>\n",
       "      <td>10.0</td>\n",
       "      <td>0.0</td>\n",
       "      <td>1.0</td>\n",
       "      <td>5.0</td>\n",
       "      <td>1992.0</td>\n",
       "      <td>W</td>\n",
       "      <td>2.0</td>\n",
       "      <td>4</td>\n",
       "      <td>4C</td>\n",
       "      <td>24</td>\n",
       "      <td>1.0</td>\n",
       "      <td>3.0</td>\n",
       "      <td>1.0</td>\n",
       "      <td>0.0</td>\n",
       "      <td>0.0</td>\n",
       "      <td>3.0</td>\n",
       "      <td>2.0</td>\n",
       "      <td>4.0</td>\n",
       "      <td>4.0</td>\n",
       "      <td>4.0</td>\n",
       "      <td>2.0</td>\n",
       "      <td>3.0</td>\n",
       "      <td>2.0</td>\n",
       "      <td>2.0</td>\n",
       "      <td>712.0</td>\n",
       "      <td>3.0</td>\n",
       "      <td>3.0</td>\n",
       "      <td>1.0</td>\n",
       "      <td>0.0</td>\n",
       "      <td>1.0</td>\n",
       "      <td>4.0</td>\n",
       "      <td>4.0</td>\n",
       "      <td>3.0</td>\n",
       "      <td>5.0</td>\n",
       "      <td>2.0</td>\n",
       "    </tr>\n",
       "    <tr>\n",
       "      <th>3</th>\n",
       "      <td>2</td>\n",
       "      <td>4</td>\n",
       "      <td>2</td>\n",
       "      <td>2.0</td>\n",
       "      <td>4</td>\n",
       "      <td>2</td>\n",
       "      <td>5</td>\n",
       "      <td>2</td>\n",
       "      <td>1</td>\n",
       "      <td>2</td>\n",
       "      <td>6</td>\n",
       "      <td>1957</td>\n",
       "      <td>1.0</td>\n",
       "      <td>0</td>\n",
       "      <td>2</td>\n",
       "      <td>0.0</td>\n",
       "      <td>0.0</td>\n",
       "      <td>0.0</td>\n",
       "      <td>0.0</td>\n",
       "      <td>9.0</td>\n",
       "      <td>4.0</td>\n",
       "      <td>1</td>\n",
       "      <td>8</td>\n",
       "      <td>2.0</td>\n",
       "      <td>5</td>\n",
       "      <td>1</td>\n",
       "      <td>2</td>\n",
       "      <td>1</td>\n",
       "      <td>4</td>\n",
       "      <td>4</td>\n",
       "      <td>7</td>\n",
       "      <td>4</td>\n",
       "      <td>3</td>\n",
       "      <td>4</td>\n",
       "      <td>4</td>\n",
       "      <td>5</td>\n",
       "      <td>4</td>\n",
       "      <td>4</td>\n",
       "      <td>1</td>\n",
       "      <td>0.0</td>\n",
       "      <td>0.0</td>\n",
       "      <td>1</td>\n",
       "      <td>3</td>\n",
       "      <td>13.0</td>\n",
       "      <td>0.0</td>\n",
       "      <td>0.0</td>\n",
       "      <td>1.0</td>\n",
       "      <td>NaN</td>\n",
       "      <td>NaN</td>\n",
       "      <td>9.0</td>\n",
       "      <td>1.0</td>\n",
       "      <td>0.0</td>\n",
       "      <td>1.0</td>\n",
       "      <td>4.0</td>\n",
       "      <td>1997.0</td>\n",
       "      <td>W</td>\n",
       "      <td>7.0</td>\n",
       "      <td>2</td>\n",
       "      <td>2A</td>\n",
       "      <td>12</td>\n",
       "      <td>4.0</td>\n",
       "      <td>1.0</td>\n",
       "      <td>0.0</td>\n",
       "      <td>0.0</td>\n",
       "      <td>1.0</td>\n",
       "      <td>4.0</td>\n",
       "      <td>4.0</td>\n",
       "      <td>2.0</td>\n",
       "      <td>6.0</td>\n",
       "      <td>4.0</td>\n",
       "      <td>0.0</td>\n",
       "      <td>4.0</td>\n",
       "      <td>1.0</td>\n",
       "      <td>0.0</td>\n",
       "      <td>596.0</td>\n",
       "      <td>2.0</td>\n",
       "      <td>2.0</td>\n",
       "      <td>2.0</td>\n",
       "      <td>0.0</td>\n",
       "      <td>1.0</td>\n",
       "      <td>3.0</td>\n",
       "      <td>4.0</td>\n",
       "      <td>2.0</td>\n",
       "      <td>3.0</td>\n",
       "      <td>3.0</td>\n",
       "    </tr>\n",
       "    <tr>\n",
       "      <th>4</th>\n",
       "      <td>-1</td>\n",
       "      <td>3</td>\n",
       "      <td>1</td>\n",
       "      <td>5.0</td>\n",
       "      <td>4</td>\n",
       "      <td>3</td>\n",
       "      <td>4</td>\n",
       "      <td>1</td>\n",
       "      <td>3</td>\n",
       "      <td>2</td>\n",
       "      <td>5</td>\n",
       "      <td>1963</td>\n",
       "      <td>5.0</td>\n",
       "      <td>0</td>\n",
       "      <td>3</td>\n",
       "      <td>32.0</td>\n",
       "      <td>10.0</td>\n",
       "      <td>10.0</td>\n",
       "      <td>5.0</td>\n",
       "      <td>3.0</td>\n",
       "      <td>2.0</td>\n",
       "      <td>1</td>\n",
       "      <td>8</td>\n",
       "      <td>5.0</td>\n",
       "      <td>6</td>\n",
       "      <td>4</td>\n",
       "      <td>4</td>\n",
       "      <td>2</td>\n",
       "      <td>7</td>\n",
       "      <td>4</td>\n",
       "      <td>4</td>\n",
       "      <td>6</td>\n",
       "      <td>2</td>\n",
       "      <td>3</td>\n",
       "      <td>2</td>\n",
       "      <td>2</td>\n",
       "      <td>4</td>\n",
       "      <td>2</td>\n",
       "      <td>2</td>\n",
       "      <td>0.0</td>\n",
       "      <td>0.0</td>\n",
       "      <td>2</td>\n",
       "      <td>4</td>\n",
       "      <td>20.0</td>\n",
       "      <td>4.0</td>\n",
       "      <td>0.0</td>\n",
       "      <td>5.0</td>\n",
       "      <td>1.0</td>\n",
       "      <td>2.0</td>\n",
       "      <td>9.0</td>\n",
       "      <td>3.0</td>\n",
       "      <td>0.0</td>\n",
       "      <td>1.0</td>\n",
       "      <td>4.0</td>\n",
       "      <td>1992.0</td>\n",
       "      <td>W</td>\n",
       "      <td>3.0</td>\n",
       "      <td>6</td>\n",
       "      <td>6B</td>\n",
       "      <td>43</td>\n",
       "      <td>1.0</td>\n",
       "      <td>4.0</td>\n",
       "      <td>1.0</td>\n",
       "      <td>0.0</td>\n",
       "      <td>0.0</td>\n",
       "      <td>3.0</td>\n",
       "      <td>2.0</td>\n",
       "      <td>5.0</td>\n",
       "      <td>1.0</td>\n",
       "      <td>5.0</td>\n",
       "      <td>3.0</td>\n",
       "      <td>3.0</td>\n",
       "      <td>5.0</td>\n",
       "      <td>5.0</td>\n",
       "      <td>435.0</td>\n",
       "      <td>2.0</td>\n",
       "      <td>4.0</td>\n",
       "      <td>2.0</td>\n",
       "      <td>1.0</td>\n",
       "      <td>2.0</td>\n",
       "      <td>3.0</td>\n",
       "      <td>3.0</td>\n",
       "      <td>4.0</td>\n",
       "      <td>6.0</td>\n",
       "      <td>5.0</td>\n",
       "    </tr>\n",
       "  </tbody>\n",
       "</table>\n",
       "</div>"
      ],
      "text/plain": [
       "   AGER_TYP  ALTERSKATEGORIE_GROB  ANREDE_KZ  CJT_GESAMTTYP  \\\n",
       "0        -1                     2          1            2.0   \n",
       "1        -1                     1          2            5.0   \n",
       "2        -1                     3          2            3.0   \n",
       "3         2                     4          2            2.0   \n",
       "4        -1                     3          1            5.0   \n",
       "\n",
       "   FINANZ_MINIMALIST  FINANZ_SPARER  FINANZ_VORSORGER  FINANZ_ANLEGER  \\\n",
       "0                  3              4                 3               5   \n",
       "1                  1              5                 2               5   \n",
       "2                  1              4                 1               2   \n",
       "3                  4              2                 5               2   \n",
       "4                  4              3                 4               1   \n",
       "\n",
       "   FINANZ_UNAUFFAELLIGER  FINANZ_HAUSBAUER  FINANZTYP  GEBURTSJAHR  \\\n",
       "0                      5                 3          4            0   \n",
       "1                      4                 5          1         1996   \n",
       "2                      3                 5          1         1979   \n",
       "3                      1                 2          6         1957   \n",
       "4                      3                 2          5         1963   \n",
       "\n",
       "   GFK_URLAUBERTYP  GREEN_AVANTGARDE  HEALTH_TYP  LP_LEBENSPHASE_FEIN  \\\n",
       "0             10.0                 0          -1                 15.0   \n",
       "1             10.0                 0           3                 21.0   \n",
       "2             10.0                 1           3                  3.0   \n",
       "3              1.0                 0           2                  0.0   \n",
       "4              5.0                 0           3                 32.0   \n",
       "\n",
       "   LP_LEBENSPHASE_GROB  LP_FAMILIE_FEIN  LP_FAMILIE_GROB  LP_STATUS_FEIN  \\\n",
       "0                  4.0              2.0              2.0             1.0   \n",
       "1                  6.0              5.0              3.0             2.0   \n",
       "2                  1.0              1.0              1.0             3.0   \n",
       "3                  0.0              0.0              0.0             9.0   \n",
       "4                 10.0             10.0              5.0             3.0   \n",
       "\n",
       "   LP_STATUS_GROB  NATIONALITAET_KZ  PRAEGENDE_JUGENDJAHRE  RETOURTYP_BK_S  \\\n",
       "0             1.0                 0                      0             5.0   \n",
       "1             1.0                 1                     14             1.0   \n",
       "2             2.0                 1                     15             3.0   \n",
       "3             4.0                 1                      8             2.0   \n",
       "4             2.0                 1                      8             5.0   \n",
       "\n",
       "   SEMIO_SOZ  SEMIO_FAM  SEMIO_REL  SEMIO_MAT  SEMIO_VERT  SEMIO_LUST  \\\n",
       "0          2          6          7          5           1           5   \n",
       "1          5          4          4          3           1           2   \n",
       "2          4          1          3          3           4           4   \n",
       "3          5          1          2          1           4           4   \n",
       "4          6          4          4          2           7           4   \n",
       "\n",
       "   SEMIO_ERL  SEMIO_KULT  SEMIO_RAT  SEMIO_KRIT  SEMIO_DOM  SEMIO_KAEM  \\\n",
       "0          3           3          4           7          6           6   \n",
       "1          2           3          6           4          7           4   \n",
       "2          6           3          4           7          7           7   \n",
       "3          7           4          3           4          4           5   \n",
       "4          4           6          2           3          2           2   \n",
       "\n",
       "   SEMIO_PFLICHT  SEMIO_TRADV  SHOPPER_TYP  SOHO_KZ  TITEL_KZ  VERS_TYP  \\\n",
       "0              5            3           -1      NaN       NaN        -1   \n",
       "1              7            6            3      1.0       0.0         2   \n",
       "2              3            3            2      0.0       0.0         1   \n",
       "3              4            4            1      0.0       0.0         1   \n",
       "4              4            2            2      0.0       0.0         2   \n",
       "\n",
       "   ZABEOTYP  ALTER_HH  ANZ_PERSONEN  ANZ_TITEL  HH_EINKOMMEN_SCORE  \\\n",
       "0         3       NaN           NaN        NaN                 2.0   \n",
       "1         5       0.0           2.0        0.0                 6.0   \n",
       "2         5      17.0           1.0        0.0                 4.0   \n",
       "3         3      13.0           0.0        0.0                 1.0   \n",
       "4         4      20.0           4.0        0.0                 5.0   \n",
       "\n",
       "   KK_KUNDENTYP  W_KEIT_KIND_HH  WOHNDAUER_2008  ANZ_HAUSHALTE_AKTIV  \\\n",
       "0           NaN             NaN             NaN                  NaN   \n",
       "1           NaN             3.0             9.0                 11.0   \n",
       "2           NaN             3.0             9.0                 10.0   \n",
       "3           NaN             NaN             9.0                  1.0   \n",
       "4           1.0             2.0             9.0                  3.0   \n",
       "\n",
       "   ANZ_HH_TITEL  GEBAEUDETYP  KONSUMNAEHE  MIN_GEBAEUDEJAHR OST_WEST_KZ  \\\n",
       "0           NaN          NaN          NaN               NaN         NaN   \n",
       "1           0.0          8.0          1.0            1992.0           W   \n",
       "2           0.0          1.0          5.0            1992.0           W   \n",
       "3           0.0          1.0          4.0            1997.0           W   \n",
       "4           0.0          1.0          4.0            1992.0           W   \n",
       "\n",
       "   WOHNLAGE CAMEO_DEUG_2015 CAMEO_DEU_2015 CAMEO_INTL_2015  KBA05_ANTG1  \\\n",
       "0       NaN             NaN            NaN             NaN          NaN   \n",
       "1       4.0               8             8A              51          0.0   \n",
       "2       2.0               4             4C              24          1.0   \n",
       "3       7.0               2             2A              12          4.0   \n",
       "4       3.0               6             6B              43          1.0   \n",
       "\n",
       "   KBA05_ANTG2  KBA05_ANTG3  KBA05_ANTG4  KBA05_BAUMAX  KBA05_GBZ  BALLRAUM  \\\n",
       "0          NaN          NaN          NaN           NaN        NaN       NaN   \n",
       "1          0.0          0.0          2.0           5.0        1.0       6.0   \n",
       "2          3.0          1.0          0.0           0.0        3.0       2.0   \n",
       "3          1.0          0.0          0.0           1.0        4.0       4.0   \n",
       "4          4.0          1.0          0.0           0.0        3.0       2.0   \n",
       "\n",
       "   EWDICHTE  INNENSTADT  GEBAEUDETYP_RASTER  KKK  MOBI_REGIO  \\\n",
       "0       NaN         NaN                 NaN  NaN         NaN   \n",
       "1       3.0         8.0                 3.0  2.0         1.0   \n",
       "2       4.0         4.0                 4.0  2.0         3.0   \n",
       "3       2.0         6.0                 4.0  0.0         4.0   \n",
       "4       5.0         1.0                 5.0  3.0         3.0   \n",
       "\n",
       "   ONLINE_AFFINITAET  REGIOTYP  KBA13_ANZAHL_PKW  PLZ8_ANTG1  PLZ8_ANTG2  \\\n",
       "0                1.0       NaN               NaN         NaN         NaN   \n",
       "1                3.0       3.0             963.0         2.0         3.0   \n",
       "2                2.0       2.0             712.0         3.0         3.0   \n",
       "3                1.0       0.0             596.0         2.0         2.0   \n",
       "4                5.0       5.0             435.0         2.0         4.0   \n",
       "\n",
       "   PLZ8_ANTG3  PLZ8_ANTG4  PLZ8_BAUMAX  PLZ8_HHZ  PLZ8_GBZ  ARBEIT  \\\n",
       "0         NaN         NaN          NaN       NaN       NaN     NaN   \n",
       "1         2.0         1.0          1.0       5.0       4.0     3.0   \n",
       "2         1.0         0.0          1.0       4.0       4.0     3.0   \n",
       "3         2.0         0.0          1.0       3.0       4.0     2.0   \n",
       "4         2.0         1.0          2.0       3.0       3.0     4.0   \n",
       "\n",
       "   ORTSGR_KLS9  RELAT_AB  \n",
       "0          NaN       NaN  \n",
       "1          5.0       4.0  \n",
       "2          5.0       2.0  \n",
       "3          3.0       3.0  \n",
       "4          6.0       5.0  "
      ]
     },
     "execution_count": 133,
     "metadata": {},
     "output_type": "execute_result"
    }
   ],
   "source": [
    "# Check the structure of the data after it's loaded (e.g. print the number of\n",
    "# rows and columns, print the first few rows).\n",
    "\n",
    "general_df.head(5)"
   ]
  },
  {
   "cell_type": "code",
   "execution_count": 134,
   "metadata": {},
   "outputs": [
    {
     "data": {
      "text/plain": [
       "(891221, 85)"
      ]
     },
     "execution_count": 134,
     "metadata": {},
     "output_type": "execute_result"
    }
   ],
   "source": [
    "general_df.shape"
   ]
  },
  {
   "cell_type": "code",
   "execution_count": 135,
   "metadata": {},
   "outputs": [],
   "source": [
    "natural_missing = pd.DataFrame(general_df.isna().sum())"
   ]
  },
  {
   "cell_type": "code",
   "execution_count": 136,
   "metadata": {},
   "outputs": [
    {
     "data": {
      "text/html": [
       "<div>\n",
       "<style scoped>\n",
       "    .dataframe tbody tr th:only-of-type {\n",
       "        vertical-align: middle;\n",
       "    }\n",
       "\n",
       "    .dataframe tbody tr th {\n",
       "        vertical-align: top;\n",
       "    }\n",
       "\n",
       "    .dataframe thead th {\n",
       "        text-align: right;\n",
       "    }\n",
       "</style>\n",
       "<table border=\"1\" class=\"dataframe\">\n",
       "  <thead>\n",
       "    <tr style=\"text-align: right;\">\n",
       "      <th></th>\n",
       "      <th>0</th>\n",
       "    </tr>\n",
       "  </thead>\n",
       "  <tbody>\n",
       "    <tr>\n",
       "      <th>AGER_TYP</th>\n",
       "      <td>0</td>\n",
       "    </tr>\n",
       "    <tr>\n",
       "      <th>ALTERSKATEGORIE_GROB</th>\n",
       "      <td>0</td>\n",
       "    </tr>\n",
       "    <tr>\n",
       "      <th>ANREDE_KZ</th>\n",
       "      <td>0</td>\n",
       "    </tr>\n",
       "    <tr>\n",
       "      <th>CJT_GESAMTTYP</th>\n",
       "      <td>4854</td>\n",
       "    </tr>\n",
       "    <tr>\n",
       "      <th>FINANZ_MINIMALIST</th>\n",
       "      <td>0</td>\n",
       "    </tr>\n",
       "    <tr>\n",
       "      <th>FINANZ_SPARER</th>\n",
       "      <td>0</td>\n",
       "    </tr>\n",
       "    <tr>\n",
       "      <th>FINANZ_VORSORGER</th>\n",
       "      <td>0</td>\n",
       "    </tr>\n",
       "    <tr>\n",
       "      <th>FINANZ_ANLEGER</th>\n",
       "      <td>0</td>\n",
       "    </tr>\n",
       "    <tr>\n",
       "      <th>FINANZ_UNAUFFAELLIGER</th>\n",
       "      <td>0</td>\n",
       "    </tr>\n",
       "    <tr>\n",
       "      <th>FINANZ_HAUSBAUER</th>\n",
       "      <td>0</td>\n",
       "    </tr>\n",
       "    <tr>\n",
       "      <th>FINANZTYP</th>\n",
       "      <td>0</td>\n",
       "    </tr>\n",
       "    <tr>\n",
       "      <th>GEBURTSJAHR</th>\n",
       "      <td>0</td>\n",
       "    </tr>\n",
       "    <tr>\n",
       "      <th>GFK_URLAUBERTYP</th>\n",
       "      <td>4854</td>\n",
       "    </tr>\n",
       "    <tr>\n",
       "      <th>GREEN_AVANTGARDE</th>\n",
       "      <td>0</td>\n",
       "    </tr>\n",
       "    <tr>\n",
       "      <th>HEALTH_TYP</th>\n",
       "      <td>0</td>\n",
       "    </tr>\n",
       "    <tr>\n",
       "      <th>LP_LEBENSPHASE_FEIN</th>\n",
       "      <td>4854</td>\n",
       "    </tr>\n",
       "    <tr>\n",
       "      <th>LP_LEBENSPHASE_GROB</th>\n",
       "      <td>4854</td>\n",
       "    </tr>\n",
       "    <tr>\n",
       "      <th>LP_FAMILIE_FEIN</th>\n",
       "      <td>4854</td>\n",
       "    </tr>\n",
       "    <tr>\n",
       "      <th>LP_FAMILIE_GROB</th>\n",
       "      <td>4854</td>\n",
       "    </tr>\n",
       "    <tr>\n",
       "      <th>LP_STATUS_FEIN</th>\n",
       "      <td>4854</td>\n",
       "    </tr>\n",
       "    <tr>\n",
       "      <th>LP_STATUS_GROB</th>\n",
       "      <td>4854</td>\n",
       "    </tr>\n",
       "    <tr>\n",
       "      <th>NATIONALITAET_KZ</th>\n",
       "      <td>0</td>\n",
       "    </tr>\n",
       "    <tr>\n",
       "      <th>PRAEGENDE_JUGENDJAHRE</th>\n",
       "      <td>0</td>\n",
       "    </tr>\n",
       "    <tr>\n",
       "      <th>RETOURTYP_BK_S</th>\n",
       "      <td>4854</td>\n",
       "    </tr>\n",
       "    <tr>\n",
       "      <th>SEMIO_SOZ</th>\n",
       "      <td>0</td>\n",
       "    </tr>\n",
       "    <tr>\n",
       "      <th>SEMIO_FAM</th>\n",
       "      <td>0</td>\n",
       "    </tr>\n",
       "    <tr>\n",
       "      <th>SEMIO_REL</th>\n",
       "      <td>0</td>\n",
       "    </tr>\n",
       "    <tr>\n",
       "      <th>SEMIO_MAT</th>\n",
       "      <td>0</td>\n",
       "    </tr>\n",
       "    <tr>\n",
       "      <th>SEMIO_VERT</th>\n",
       "      <td>0</td>\n",
       "    </tr>\n",
       "    <tr>\n",
       "      <th>SEMIO_LUST</th>\n",
       "      <td>0</td>\n",
       "    </tr>\n",
       "    <tr>\n",
       "      <th>SEMIO_ERL</th>\n",
       "      <td>0</td>\n",
       "    </tr>\n",
       "    <tr>\n",
       "      <th>SEMIO_KULT</th>\n",
       "      <td>0</td>\n",
       "    </tr>\n",
       "    <tr>\n",
       "      <th>SEMIO_RAT</th>\n",
       "      <td>0</td>\n",
       "    </tr>\n",
       "    <tr>\n",
       "      <th>SEMIO_KRIT</th>\n",
       "      <td>0</td>\n",
       "    </tr>\n",
       "    <tr>\n",
       "      <th>SEMIO_DOM</th>\n",
       "      <td>0</td>\n",
       "    </tr>\n",
       "    <tr>\n",
       "      <th>SEMIO_KAEM</th>\n",
       "      <td>0</td>\n",
       "    </tr>\n",
       "    <tr>\n",
       "      <th>SEMIO_PFLICHT</th>\n",
       "      <td>0</td>\n",
       "    </tr>\n",
       "    <tr>\n",
       "      <th>SEMIO_TRADV</th>\n",
       "      <td>0</td>\n",
       "    </tr>\n",
       "    <tr>\n",
       "      <th>SHOPPER_TYP</th>\n",
       "      <td>0</td>\n",
       "    </tr>\n",
       "    <tr>\n",
       "      <th>SOHO_KZ</th>\n",
       "      <td>73499</td>\n",
       "    </tr>\n",
       "    <tr>\n",
       "      <th>TITEL_KZ</th>\n",
       "      <td>73499</td>\n",
       "    </tr>\n",
       "    <tr>\n",
       "      <th>VERS_TYP</th>\n",
       "      <td>0</td>\n",
       "    </tr>\n",
       "    <tr>\n",
       "      <th>ZABEOTYP</th>\n",
       "      <td>0</td>\n",
       "    </tr>\n",
       "    <tr>\n",
       "      <th>ALTER_HH</th>\n",
       "      <td>73499</td>\n",
       "    </tr>\n",
       "    <tr>\n",
       "      <th>ANZ_PERSONEN</th>\n",
       "      <td>73499</td>\n",
       "    </tr>\n",
       "    <tr>\n",
       "      <th>ANZ_TITEL</th>\n",
       "      <td>73499</td>\n",
       "    </tr>\n",
       "    <tr>\n",
       "      <th>HH_EINKOMMEN_SCORE</th>\n",
       "      <td>18348</td>\n",
       "    </tr>\n",
       "    <tr>\n",
       "      <th>KK_KUNDENTYP</th>\n",
       "      <td>584612</td>\n",
       "    </tr>\n",
       "    <tr>\n",
       "      <th>W_KEIT_KIND_HH</th>\n",
       "      <td>107602</td>\n",
       "    </tr>\n",
       "    <tr>\n",
       "      <th>WOHNDAUER_2008</th>\n",
       "      <td>73499</td>\n",
       "    </tr>\n",
       "    <tr>\n",
       "      <th>ANZ_HAUSHALTE_AKTIV</th>\n",
       "      <td>93148</td>\n",
       "    </tr>\n",
       "    <tr>\n",
       "      <th>ANZ_HH_TITEL</th>\n",
       "      <td>97008</td>\n",
       "    </tr>\n",
       "    <tr>\n",
       "      <th>GEBAEUDETYP</th>\n",
       "      <td>93148</td>\n",
       "    </tr>\n",
       "    <tr>\n",
       "      <th>KONSUMNAEHE</th>\n",
       "      <td>73969</td>\n",
       "    </tr>\n",
       "    <tr>\n",
       "      <th>MIN_GEBAEUDEJAHR</th>\n",
       "      <td>93148</td>\n",
       "    </tr>\n",
       "    <tr>\n",
       "      <th>OST_WEST_KZ</th>\n",
       "      <td>93148</td>\n",
       "    </tr>\n",
       "    <tr>\n",
       "      <th>WOHNLAGE</th>\n",
       "      <td>93148</td>\n",
       "    </tr>\n",
       "    <tr>\n",
       "      <th>CAMEO_DEUG_2015</th>\n",
       "      <td>98979</td>\n",
       "    </tr>\n",
       "    <tr>\n",
       "      <th>CAMEO_DEU_2015</th>\n",
       "      <td>98979</td>\n",
       "    </tr>\n",
       "    <tr>\n",
       "      <th>CAMEO_INTL_2015</th>\n",
       "      <td>98979</td>\n",
       "    </tr>\n",
       "    <tr>\n",
       "      <th>KBA05_ANTG1</th>\n",
       "      <td>133324</td>\n",
       "    </tr>\n",
       "    <tr>\n",
       "      <th>KBA05_ANTG2</th>\n",
       "      <td>133324</td>\n",
       "    </tr>\n",
       "    <tr>\n",
       "      <th>KBA05_ANTG3</th>\n",
       "      <td>133324</td>\n",
       "    </tr>\n",
       "    <tr>\n",
       "      <th>KBA05_ANTG4</th>\n",
       "      <td>133324</td>\n",
       "    </tr>\n",
       "    <tr>\n",
       "      <th>KBA05_BAUMAX</th>\n",
       "      <td>133324</td>\n",
       "    </tr>\n",
       "    <tr>\n",
       "      <th>KBA05_GBZ</th>\n",
       "      <td>133324</td>\n",
       "    </tr>\n",
       "    <tr>\n",
       "      <th>BALLRAUM</th>\n",
       "      <td>93740</td>\n",
       "    </tr>\n",
       "    <tr>\n",
       "      <th>EWDICHTE</th>\n",
       "      <td>93740</td>\n",
       "    </tr>\n",
       "    <tr>\n",
       "      <th>INNENSTADT</th>\n",
       "      <td>93740</td>\n",
       "    </tr>\n",
       "    <tr>\n",
       "      <th>GEBAEUDETYP_RASTER</th>\n",
       "      <td>93155</td>\n",
       "    </tr>\n",
       "    <tr>\n",
       "      <th>KKK</th>\n",
       "      <td>121196</td>\n",
       "    </tr>\n",
       "    <tr>\n",
       "      <th>MOBI_REGIO</th>\n",
       "      <td>133324</td>\n",
       "    </tr>\n",
       "    <tr>\n",
       "      <th>ONLINE_AFFINITAET</th>\n",
       "      <td>4854</td>\n",
       "    </tr>\n",
       "    <tr>\n",
       "      <th>REGIOTYP</th>\n",
       "      <td>121196</td>\n",
       "    </tr>\n",
       "    <tr>\n",
       "      <th>KBA13_ANZAHL_PKW</th>\n",
       "      <td>105800</td>\n",
       "    </tr>\n",
       "    <tr>\n",
       "      <th>PLZ8_ANTG1</th>\n",
       "      <td>116515</td>\n",
       "    </tr>\n",
       "    <tr>\n",
       "      <th>PLZ8_ANTG2</th>\n",
       "      <td>116515</td>\n",
       "    </tr>\n",
       "    <tr>\n",
       "      <th>PLZ8_ANTG3</th>\n",
       "      <td>116515</td>\n",
       "    </tr>\n",
       "    <tr>\n",
       "      <th>PLZ8_ANTG4</th>\n",
       "      <td>116515</td>\n",
       "    </tr>\n",
       "    <tr>\n",
       "      <th>PLZ8_BAUMAX</th>\n",
       "      <td>116515</td>\n",
       "    </tr>\n",
       "    <tr>\n",
       "      <th>PLZ8_HHZ</th>\n",
       "      <td>116515</td>\n",
       "    </tr>\n",
       "    <tr>\n",
       "      <th>PLZ8_GBZ</th>\n",
       "      <td>116515</td>\n",
       "    </tr>\n",
       "    <tr>\n",
       "      <th>ARBEIT</th>\n",
       "      <td>97216</td>\n",
       "    </tr>\n",
       "    <tr>\n",
       "      <th>ORTSGR_KLS9</th>\n",
       "      <td>97216</td>\n",
       "    </tr>\n",
       "    <tr>\n",
       "      <th>RELAT_AB</th>\n",
       "      <td>97216</td>\n",
       "    </tr>\n",
       "  </tbody>\n",
       "</table>\n",
       "</div>"
      ],
      "text/plain": [
       "                            0\n",
       "AGER_TYP                    0\n",
       "ALTERSKATEGORIE_GROB        0\n",
       "ANREDE_KZ                   0\n",
       "CJT_GESAMTTYP            4854\n",
       "FINANZ_MINIMALIST           0\n",
       "FINANZ_SPARER               0\n",
       "FINANZ_VORSORGER            0\n",
       "FINANZ_ANLEGER              0\n",
       "FINANZ_UNAUFFAELLIGER       0\n",
       "FINANZ_HAUSBAUER            0\n",
       "FINANZTYP                   0\n",
       "GEBURTSJAHR                 0\n",
       "GFK_URLAUBERTYP          4854\n",
       "GREEN_AVANTGARDE            0\n",
       "HEALTH_TYP                  0\n",
       "LP_LEBENSPHASE_FEIN      4854\n",
       "LP_LEBENSPHASE_GROB      4854\n",
       "LP_FAMILIE_FEIN          4854\n",
       "LP_FAMILIE_GROB          4854\n",
       "LP_STATUS_FEIN           4854\n",
       "LP_STATUS_GROB           4854\n",
       "NATIONALITAET_KZ            0\n",
       "PRAEGENDE_JUGENDJAHRE       0\n",
       "RETOURTYP_BK_S           4854\n",
       "SEMIO_SOZ                   0\n",
       "SEMIO_FAM                   0\n",
       "SEMIO_REL                   0\n",
       "SEMIO_MAT                   0\n",
       "SEMIO_VERT                  0\n",
       "SEMIO_LUST                  0\n",
       "SEMIO_ERL                   0\n",
       "SEMIO_KULT                  0\n",
       "SEMIO_RAT                   0\n",
       "SEMIO_KRIT                  0\n",
       "SEMIO_DOM                   0\n",
       "SEMIO_KAEM                  0\n",
       "SEMIO_PFLICHT               0\n",
       "SEMIO_TRADV                 0\n",
       "SHOPPER_TYP                 0\n",
       "SOHO_KZ                 73499\n",
       "TITEL_KZ                73499\n",
       "VERS_TYP                    0\n",
       "ZABEOTYP                    0\n",
       "ALTER_HH                73499\n",
       "ANZ_PERSONEN            73499\n",
       "ANZ_TITEL               73499\n",
       "HH_EINKOMMEN_SCORE      18348\n",
       "KK_KUNDENTYP           584612\n",
       "W_KEIT_KIND_HH         107602\n",
       "WOHNDAUER_2008          73499\n",
       "ANZ_HAUSHALTE_AKTIV     93148\n",
       "ANZ_HH_TITEL            97008\n",
       "GEBAEUDETYP             93148\n",
       "KONSUMNAEHE             73969\n",
       "MIN_GEBAEUDEJAHR        93148\n",
       "OST_WEST_KZ             93148\n",
       "WOHNLAGE                93148\n",
       "CAMEO_DEUG_2015         98979\n",
       "CAMEO_DEU_2015          98979\n",
       "CAMEO_INTL_2015         98979\n",
       "KBA05_ANTG1            133324\n",
       "KBA05_ANTG2            133324\n",
       "KBA05_ANTG3            133324\n",
       "KBA05_ANTG4            133324\n",
       "KBA05_BAUMAX           133324\n",
       "KBA05_GBZ              133324\n",
       "BALLRAUM                93740\n",
       "EWDICHTE                93740\n",
       "INNENSTADT              93740\n",
       "GEBAEUDETYP_RASTER      93155\n",
       "KKK                    121196\n",
       "MOBI_REGIO             133324\n",
       "ONLINE_AFFINITAET        4854\n",
       "REGIOTYP               121196\n",
       "KBA13_ANZAHL_PKW       105800\n",
       "PLZ8_ANTG1             116515\n",
       "PLZ8_ANTG2             116515\n",
       "PLZ8_ANTG3             116515\n",
       "PLZ8_ANTG4             116515\n",
       "PLZ8_BAUMAX            116515\n",
       "PLZ8_HHZ               116515\n",
       "PLZ8_GBZ               116515\n",
       "ARBEIT                  97216\n",
       "ORTSGR_KLS9             97216\n",
       "RELAT_AB                97216"
      ]
     },
     "execution_count": 136,
     "metadata": {},
     "output_type": "execute_result"
    }
   ],
   "source": [
    "natural_missing "
   ]
  },
  {
   "cell_type": "markdown",
   "metadata": {},
   "source": [
    "> **Tip**: Add additional cells to keep everything in reasonably-sized chunks! Keyboard shortcut `esc --> a` (press escape to enter command mode, then press the 'A' key) adds a new cell before the active cell, and `esc --> b` adds a new cell after the active cell. If you need to convert an active cell to a markdown cell, use `esc --> m` and to convert to a code cell, use `esc --> y`. \n",
    "\n",
    "## Step 1: Preprocessing\n",
    "\n",
    "### Step 1.1: Assess Missing Data\n",
    "\n",
    "The feature summary file contains a summary of properties for each demographics data column. You will use this file to help you make cleaning decisions during this stage of the project. First of all, you should assess the demographics data in terms of missing data. Pay attention to the following points as you perform your analysis, and take notes on what you observe. Make sure that you fill in the **Discussion** cell with your findings and decisions at the end of each step that has one!\n",
    "\n",
    "#### Step 1.1.1: Convert Missing Value Codes to NaNs\n",
    "The fourth column of the feature attributes summary (loaded in above as `feat_info`) documents the codes from the data dictionary that indicate missing or unknown data. While the file encodes this as a list (e.g. `[-1,0]`), this will get read in as a string object. You'll need to do a little bit of parsing to make use of it to identify and clean the data. Convert data that matches a 'missing' or 'unknown' value code into a numpy NaN value. You might want to see how much data takes on a 'missing' or 'unknown' code, and how much data is naturally missing, as a point of interest.\n",
    "\n",
    "**As one more reminder, you are encouraged to add additional cells to break up your analysis into manageable chunks.**"
   ]
  },
  {
   "cell_type": "code",
   "execution_count": 137,
   "metadata": {},
   "outputs": [
    {
     "data": {
      "text/plain": [
       "'\\ncategorical data is basically putting the data into category without ranking\\n\\nordinal data is basically ranking data and putting them in groups \\n'"
      ]
     },
     "execution_count": 137,
     "metadata": {},
     "output_type": "execute_result"
    }
   ],
   "source": [
    "\"\"\"\n",
    "categorical data is basically putting the data into category without ranking\n",
    "\n",
    "ordinal data is basically ranking data and putting them in groups \n",
    "\"\"\""
   ]
  },
  {
   "cell_type": "code",
   "execution_count": 138,
   "metadata": {},
   "outputs": [
    {
     "data": {
      "text/html": [
       "<div>\n",
       "<style scoped>\n",
       "    .dataframe tbody tr th:only-of-type {\n",
       "        vertical-align: middle;\n",
       "    }\n",
       "\n",
       "    .dataframe tbody tr th {\n",
       "        vertical-align: top;\n",
       "    }\n",
       "\n",
       "    .dataframe thead th {\n",
       "        text-align: right;\n",
       "    }\n",
       "</style>\n",
       "<table border=\"1\" class=\"dataframe\">\n",
       "  <thead>\n",
       "    <tr style=\"text-align: right;\">\n",
       "      <th></th>\n",
       "      <th>attribute</th>\n",
       "      <th>information_level</th>\n",
       "      <th>type</th>\n",
       "      <th>missing_or_unknown</th>\n",
       "    </tr>\n",
       "  </thead>\n",
       "  <tbody>\n",
       "    <tr>\n",
       "      <th>0</th>\n",
       "      <td>AGER_TYP</td>\n",
       "      <td>person</td>\n",
       "      <td>categorical</td>\n",
       "      <td>[-1,0]</td>\n",
       "    </tr>\n",
       "    <tr>\n",
       "      <th>1</th>\n",
       "      <td>ALTERSKATEGORIE_GROB</td>\n",
       "      <td>person</td>\n",
       "      <td>ordinal</td>\n",
       "      <td>[-1,0,9]</td>\n",
       "    </tr>\n",
       "    <tr>\n",
       "      <th>2</th>\n",
       "      <td>ANREDE_KZ</td>\n",
       "      <td>person</td>\n",
       "      <td>categorical</td>\n",
       "      <td>[-1,0]</td>\n",
       "    </tr>\n",
       "    <tr>\n",
       "      <th>3</th>\n",
       "      <td>CJT_GESAMTTYP</td>\n",
       "      <td>person</td>\n",
       "      <td>categorical</td>\n",
       "      <td>[0]</td>\n",
       "    </tr>\n",
       "    <tr>\n",
       "      <th>4</th>\n",
       "      <td>FINANZ_MINIMALIST</td>\n",
       "      <td>person</td>\n",
       "      <td>ordinal</td>\n",
       "      <td>[-1]</td>\n",
       "    </tr>\n",
       "    <tr>\n",
       "      <th>5</th>\n",
       "      <td>FINANZ_SPARER</td>\n",
       "      <td>person</td>\n",
       "      <td>ordinal</td>\n",
       "      <td>[-1]</td>\n",
       "    </tr>\n",
       "    <tr>\n",
       "      <th>6</th>\n",
       "      <td>FINANZ_VORSORGER</td>\n",
       "      <td>person</td>\n",
       "      <td>ordinal</td>\n",
       "      <td>[-1]</td>\n",
       "    </tr>\n",
       "    <tr>\n",
       "      <th>7</th>\n",
       "      <td>FINANZ_ANLEGER</td>\n",
       "      <td>person</td>\n",
       "      <td>ordinal</td>\n",
       "      <td>[-1]</td>\n",
       "    </tr>\n",
       "    <tr>\n",
       "      <th>8</th>\n",
       "      <td>FINANZ_UNAUFFAELLIGER</td>\n",
       "      <td>person</td>\n",
       "      <td>ordinal</td>\n",
       "      <td>[-1]</td>\n",
       "    </tr>\n",
       "    <tr>\n",
       "      <th>9</th>\n",
       "      <td>FINANZ_HAUSBAUER</td>\n",
       "      <td>person</td>\n",
       "      <td>ordinal</td>\n",
       "      <td>[-1]</td>\n",
       "    </tr>\n",
       "    <tr>\n",
       "      <th>10</th>\n",
       "      <td>FINANZTYP</td>\n",
       "      <td>person</td>\n",
       "      <td>categorical</td>\n",
       "      <td>[-1]</td>\n",
       "    </tr>\n",
       "    <tr>\n",
       "      <th>11</th>\n",
       "      <td>GEBURTSJAHR</td>\n",
       "      <td>person</td>\n",
       "      <td>numeric</td>\n",
       "      <td>[0]</td>\n",
       "    </tr>\n",
       "    <tr>\n",
       "      <th>12</th>\n",
       "      <td>GFK_URLAUBERTYP</td>\n",
       "      <td>person</td>\n",
       "      <td>categorical</td>\n",
       "      <td>[]</td>\n",
       "    </tr>\n",
       "    <tr>\n",
       "      <th>13</th>\n",
       "      <td>GREEN_AVANTGARDE</td>\n",
       "      <td>person</td>\n",
       "      <td>categorical</td>\n",
       "      <td>[]</td>\n",
       "    </tr>\n",
       "    <tr>\n",
       "      <th>14</th>\n",
       "      <td>HEALTH_TYP</td>\n",
       "      <td>person</td>\n",
       "      <td>ordinal</td>\n",
       "      <td>[-1,0]</td>\n",
       "    </tr>\n",
       "    <tr>\n",
       "      <th>15</th>\n",
       "      <td>LP_LEBENSPHASE_FEIN</td>\n",
       "      <td>person</td>\n",
       "      <td>mixed</td>\n",
       "      <td>[0]</td>\n",
       "    </tr>\n",
       "    <tr>\n",
       "      <th>16</th>\n",
       "      <td>LP_LEBENSPHASE_GROB</td>\n",
       "      <td>person</td>\n",
       "      <td>mixed</td>\n",
       "      <td>[0]</td>\n",
       "    </tr>\n",
       "    <tr>\n",
       "      <th>17</th>\n",
       "      <td>LP_FAMILIE_FEIN</td>\n",
       "      <td>person</td>\n",
       "      <td>categorical</td>\n",
       "      <td>[0]</td>\n",
       "    </tr>\n",
       "    <tr>\n",
       "      <th>18</th>\n",
       "      <td>LP_FAMILIE_GROB</td>\n",
       "      <td>person</td>\n",
       "      <td>categorical</td>\n",
       "      <td>[0]</td>\n",
       "    </tr>\n",
       "    <tr>\n",
       "      <th>19</th>\n",
       "      <td>LP_STATUS_FEIN</td>\n",
       "      <td>person</td>\n",
       "      <td>categorical</td>\n",
       "      <td>[0]</td>\n",
       "    </tr>\n",
       "    <tr>\n",
       "      <th>20</th>\n",
       "      <td>LP_STATUS_GROB</td>\n",
       "      <td>person</td>\n",
       "      <td>categorical</td>\n",
       "      <td>[0]</td>\n",
       "    </tr>\n",
       "    <tr>\n",
       "      <th>21</th>\n",
       "      <td>NATIONALITAET_KZ</td>\n",
       "      <td>person</td>\n",
       "      <td>categorical</td>\n",
       "      <td>[-1,0]</td>\n",
       "    </tr>\n",
       "    <tr>\n",
       "      <th>22</th>\n",
       "      <td>PRAEGENDE_JUGENDJAHRE</td>\n",
       "      <td>person</td>\n",
       "      <td>mixed</td>\n",
       "      <td>[-1,0]</td>\n",
       "    </tr>\n",
       "    <tr>\n",
       "      <th>23</th>\n",
       "      <td>RETOURTYP_BK_S</td>\n",
       "      <td>person</td>\n",
       "      <td>ordinal</td>\n",
       "      <td>[0]</td>\n",
       "    </tr>\n",
       "    <tr>\n",
       "      <th>24</th>\n",
       "      <td>SEMIO_SOZ</td>\n",
       "      <td>person</td>\n",
       "      <td>ordinal</td>\n",
       "      <td>[-1,9]</td>\n",
       "    </tr>\n",
       "    <tr>\n",
       "      <th>25</th>\n",
       "      <td>SEMIO_FAM</td>\n",
       "      <td>person</td>\n",
       "      <td>ordinal</td>\n",
       "      <td>[-1,9]</td>\n",
       "    </tr>\n",
       "    <tr>\n",
       "      <th>26</th>\n",
       "      <td>SEMIO_REL</td>\n",
       "      <td>person</td>\n",
       "      <td>ordinal</td>\n",
       "      <td>[-1,9]</td>\n",
       "    </tr>\n",
       "    <tr>\n",
       "      <th>27</th>\n",
       "      <td>SEMIO_MAT</td>\n",
       "      <td>person</td>\n",
       "      <td>ordinal</td>\n",
       "      <td>[-1,9]</td>\n",
       "    </tr>\n",
       "    <tr>\n",
       "      <th>28</th>\n",
       "      <td>SEMIO_VERT</td>\n",
       "      <td>person</td>\n",
       "      <td>ordinal</td>\n",
       "      <td>[-1,9]</td>\n",
       "    </tr>\n",
       "    <tr>\n",
       "      <th>29</th>\n",
       "      <td>SEMIO_LUST</td>\n",
       "      <td>person</td>\n",
       "      <td>ordinal</td>\n",
       "      <td>[-1,9]</td>\n",
       "    </tr>\n",
       "    <tr>\n",
       "      <th>30</th>\n",
       "      <td>SEMIO_ERL</td>\n",
       "      <td>person</td>\n",
       "      <td>ordinal</td>\n",
       "      <td>[-1,9]</td>\n",
       "    </tr>\n",
       "    <tr>\n",
       "      <th>31</th>\n",
       "      <td>SEMIO_KULT</td>\n",
       "      <td>person</td>\n",
       "      <td>ordinal</td>\n",
       "      <td>[-1,9]</td>\n",
       "    </tr>\n",
       "    <tr>\n",
       "      <th>32</th>\n",
       "      <td>SEMIO_RAT</td>\n",
       "      <td>person</td>\n",
       "      <td>ordinal</td>\n",
       "      <td>[-1,9]</td>\n",
       "    </tr>\n",
       "    <tr>\n",
       "      <th>33</th>\n",
       "      <td>SEMIO_KRIT</td>\n",
       "      <td>person</td>\n",
       "      <td>ordinal</td>\n",
       "      <td>[-1,9]</td>\n",
       "    </tr>\n",
       "    <tr>\n",
       "      <th>34</th>\n",
       "      <td>SEMIO_DOM</td>\n",
       "      <td>person</td>\n",
       "      <td>ordinal</td>\n",
       "      <td>[-1,9]</td>\n",
       "    </tr>\n",
       "    <tr>\n",
       "      <th>35</th>\n",
       "      <td>SEMIO_KAEM</td>\n",
       "      <td>person</td>\n",
       "      <td>ordinal</td>\n",
       "      <td>[-1,9]</td>\n",
       "    </tr>\n",
       "    <tr>\n",
       "      <th>36</th>\n",
       "      <td>SEMIO_PFLICHT</td>\n",
       "      <td>person</td>\n",
       "      <td>ordinal</td>\n",
       "      <td>[-1,9]</td>\n",
       "    </tr>\n",
       "    <tr>\n",
       "      <th>37</th>\n",
       "      <td>SEMIO_TRADV</td>\n",
       "      <td>person</td>\n",
       "      <td>ordinal</td>\n",
       "      <td>[-1,9]</td>\n",
       "    </tr>\n",
       "    <tr>\n",
       "      <th>38</th>\n",
       "      <td>SHOPPER_TYP</td>\n",
       "      <td>person</td>\n",
       "      <td>categorical</td>\n",
       "      <td>[-1]</td>\n",
       "    </tr>\n",
       "    <tr>\n",
       "      <th>39</th>\n",
       "      <td>SOHO_KZ</td>\n",
       "      <td>person</td>\n",
       "      <td>categorical</td>\n",
       "      <td>[-1]</td>\n",
       "    </tr>\n",
       "    <tr>\n",
       "      <th>40</th>\n",
       "      <td>TITEL_KZ</td>\n",
       "      <td>person</td>\n",
       "      <td>categorical</td>\n",
       "      <td>[-1,0]</td>\n",
       "    </tr>\n",
       "    <tr>\n",
       "      <th>41</th>\n",
       "      <td>VERS_TYP</td>\n",
       "      <td>person</td>\n",
       "      <td>categorical</td>\n",
       "      <td>[-1]</td>\n",
       "    </tr>\n",
       "    <tr>\n",
       "      <th>42</th>\n",
       "      <td>ZABEOTYP</td>\n",
       "      <td>person</td>\n",
       "      <td>categorical</td>\n",
       "      <td>[-1,9]</td>\n",
       "    </tr>\n",
       "    <tr>\n",
       "      <th>43</th>\n",
       "      <td>ALTER_HH</td>\n",
       "      <td>household</td>\n",
       "      <td>interval</td>\n",
       "      <td>[0]</td>\n",
       "    </tr>\n",
       "    <tr>\n",
       "      <th>44</th>\n",
       "      <td>ANZ_PERSONEN</td>\n",
       "      <td>household</td>\n",
       "      <td>numeric</td>\n",
       "      <td>[]</td>\n",
       "    </tr>\n",
       "    <tr>\n",
       "      <th>45</th>\n",
       "      <td>ANZ_TITEL</td>\n",
       "      <td>household</td>\n",
       "      <td>numeric</td>\n",
       "      <td>[]</td>\n",
       "    </tr>\n",
       "    <tr>\n",
       "      <th>46</th>\n",
       "      <td>HH_EINKOMMEN_SCORE</td>\n",
       "      <td>household</td>\n",
       "      <td>ordinal</td>\n",
       "      <td>[-1,0]</td>\n",
       "    </tr>\n",
       "    <tr>\n",
       "      <th>47</th>\n",
       "      <td>KK_KUNDENTYP</td>\n",
       "      <td>household</td>\n",
       "      <td>categorical</td>\n",
       "      <td>[-1]</td>\n",
       "    </tr>\n",
       "    <tr>\n",
       "      <th>48</th>\n",
       "      <td>W_KEIT_KIND_HH</td>\n",
       "      <td>household</td>\n",
       "      <td>ordinal</td>\n",
       "      <td>[-1,0]</td>\n",
       "    </tr>\n",
       "    <tr>\n",
       "      <th>49</th>\n",
       "      <td>WOHNDAUER_2008</td>\n",
       "      <td>household</td>\n",
       "      <td>ordinal</td>\n",
       "      <td>[-1,0]</td>\n",
       "    </tr>\n",
       "    <tr>\n",
       "      <th>50</th>\n",
       "      <td>ANZ_HAUSHALTE_AKTIV</td>\n",
       "      <td>building</td>\n",
       "      <td>numeric</td>\n",
       "      <td>[0]</td>\n",
       "    </tr>\n",
       "    <tr>\n",
       "      <th>51</th>\n",
       "      <td>ANZ_HH_TITEL</td>\n",
       "      <td>building</td>\n",
       "      <td>numeric</td>\n",
       "      <td>[]</td>\n",
       "    </tr>\n",
       "    <tr>\n",
       "      <th>52</th>\n",
       "      <td>GEBAEUDETYP</td>\n",
       "      <td>building</td>\n",
       "      <td>categorical</td>\n",
       "      <td>[-1,0]</td>\n",
       "    </tr>\n",
       "    <tr>\n",
       "      <th>53</th>\n",
       "      <td>KONSUMNAEHE</td>\n",
       "      <td>building</td>\n",
       "      <td>ordinal</td>\n",
       "      <td>[]</td>\n",
       "    </tr>\n",
       "    <tr>\n",
       "      <th>54</th>\n",
       "      <td>MIN_GEBAEUDEJAHR</td>\n",
       "      <td>building</td>\n",
       "      <td>numeric</td>\n",
       "      <td>[0]</td>\n",
       "    </tr>\n",
       "    <tr>\n",
       "      <th>55</th>\n",
       "      <td>OST_WEST_KZ</td>\n",
       "      <td>building</td>\n",
       "      <td>categorical</td>\n",
       "      <td>[-1]</td>\n",
       "    </tr>\n",
       "    <tr>\n",
       "      <th>56</th>\n",
       "      <td>WOHNLAGE</td>\n",
       "      <td>building</td>\n",
       "      <td>mixed</td>\n",
       "      <td>[-1]</td>\n",
       "    </tr>\n",
       "    <tr>\n",
       "      <th>57</th>\n",
       "      <td>CAMEO_DEUG_2015</td>\n",
       "      <td>microcell_rr4</td>\n",
       "      <td>categorical</td>\n",
       "      <td>[-1,X]</td>\n",
       "    </tr>\n",
       "    <tr>\n",
       "      <th>58</th>\n",
       "      <td>CAMEO_DEU_2015</td>\n",
       "      <td>microcell_rr4</td>\n",
       "      <td>categorical</td>\n",
       "      <td>[XX]</td>\n",
       "    </tr>\n",
       "    <tr>\n",
       "      <th>59</th>\n",
       "      <td>CAMEO_INTL_2015</td>\n",
       "      <td>microcell_rr4</td>\n",
       "      <td>mixed</td>\n",
       "      <td>[-1,XX]</td>\n",
       "    </tr>\n",
       "    <tr>\n",
       "      <th>60</th>\n",
       "      <td>KBA05_ANTG1</td>\n",
       "      <td>microcell_rr3</td>\n",
       "      <td>ordinal</td>\n",
       "      <td>[-1]</td>\n",
       "    </tr>\n",
       "    <tr>\n",
       "      <th>61</th>\n",
       "      <td>KBA05_ANTG2</td>\n",
       "      <td>microcell_rr3</td>\n",
       "      <td>ordinal</td>\n",
       "      <td>[-1]</td>\n",
       "    </tr>\n",
       "    <tr>\n",
       "      <th>62</th>\n",
       "      <td>KBA05_ANTG3</td>\n",
       "      <td>microcell_rr3</td>\n",
       "      <td>ordinal</td>\n",
       "      <td>[-1]</td>\n",
       "    </tr>\n",
       "    <tr>\n",
       "      <th>63</th>\n",
       "      <td>KBA05_ANTG4</td>\n",
       "      <td>microcell_rr3</td>\n",
       "      <td>ordinal</td>\n",
       "      <td>[-1]</td>\n",
       "    </tr>\n",
       "    <tr>\n",
       "      <th>64</th>\n",
       "      <td>KBA05_BAUMAX</td>\n",
       "      <td>microcell_rr3</td>\n",
       "      <td>mixed</td>\n",
       "      <td>[-1,0]</td>\n",
       "    </tr>\n",
       "    <tr>\n",
       "      <th>65</th>\n",
       "      <td>KBA05_GBZ</td>\n",
       "      <td>microcell_rr3</td>\n",
       "      <td>ordinal</td>\n",
       "      <td>[-1,0]</td>\n",
       "    </tr>\n",
       "    <tr>\n",
       "      <th>66</th>\n",
       "      <td>BALLRAUM</td>\n",
       "      <td>postcode</td>\n",
       "      <td>ordinal</td>\n",
       "      <td>[-1]</td>\n",
       "    </tr>\n",
       "    <tr>\n",
       "      <th>67</th>\n",
       "      <td>EWDICHTE</td>\n",
       "      <td>postcode</td>\n",
       "      <td>ordinal</td>\n",
       "      <td>[-1]</td>\n",
       "    </tr>\n",
       "    <tr>\n",
       "      <th>68</th>\n",
       "      <td>INNENSTADT</td>\n",
       "      <td>postcode</td>\n",
       "      <td>ordinal</td>\n",
       "      <td>[-1]</td>\n",
       "    </tr>\n",
       "    <tr>\n",
       "      <th>69</th>\n",
       "      <td>GEBAEUDETYP_RASTER</td>\n",
       "      <td>region_rr1</td>\n",
       "      <td>ordinal</td>\n",
       "      <td>[]</td>\n",
       "    </tr>\n",
       "    <tr>\n",
       "      <th>70</th>\n",
       "      <td>KKK</td>\n",
       "      <td>region_rr1</td>\n",
       "      <td>ordinal</td>\n",
       "      <td>[-1,0]</td>\n",
       "    </tr>\n",
       "    <tr>\n",
       "      <th>71</th>\n",
       "      <td>MOBI_REGIO</td>\n",
       "      <td>region_rr1</td>\n",
       "      <td>ordinal</td>\n",
       "      <td>[]</td>\n",
       "    </tr>\n",
       "    <tr>\n",
       "      <th>72</th>\n",
       "      <td>ONLINE_AFFINITAET</td>\n",
       "      <td>region_rr1</td>\n",
       "      <td>ordinal</td>\n",
       "      <td>[]</td>\n",
       "    </tr>\n",
       "    <tr>\n",
       "      <th>73</th>\n",
       "      <td>REGIOTYP</td>\n",
       "      <td>region_rr1</td>\n",
       "      <td>ordinal</td>\n",
       "      <td>[-1,0]</td>\n",
       "    </tr>\n",
       "    <tr>\n",
       "      <th>74</th>\n",
       "      <td>KBA13_ANZAHL_PKW</td>\n",
       "      <td>macrocell_plz8</td>\n",
       "      <td>numeric</td>\n",
       "      <td>[]</td>\n",
       "    </tr>\n",
       "    <tr>\n",
       "      <th>75</th>\n",
       "      <td>PLZ8_ANTG1</td>\n",
       "      <td>macrocell_plz8</td>\n",
       "      <td>ordinal</td>\n",
       "      <td>[-1]</td>\n",
       "    </tr>\n",
       "    <tr>\n",
       "      <th>76</th>\n",
       "      <td>PLZ8_ANTG2</td>\n",
       "      <td>macrocell_plz8</td>\n",
       "      <td>ordinal</td>\n",
       "      <td>[-1]</td>\n",
       "    </tr>\n",
       "    <tr>\n",
       "      <th>77</th>\n",
       "      <td>PLZ8_ANTG3</td>\n",
       "      <td>macrocell_plz8</td>\n",
       "      <td>ordinal</td>\n",
       "      <td>[-1]</td>\n",
       "    </tr>\n",
       "    <tr>\n",
       "      <th>78</th>\n",
       "      <td>PLZ8_ANTG4</td>\n",
       "      <td>macrocell_plz8</td>\n",
       "      <td>ordinal</td>\n",
       "      <td>[-1]</td>\n",
       "    </tr>\n",
       "    <tr>\n",
       "      <th>79</th>\n",
       "      <td>PLZ8_BAUMAX</td>\n",
       "      <td>macrocell_plz8</td>\n",
       "      <td>mixed</td>\n",
       "      <td>[-1,0]</td>\n",
       "    </tr>\n",
       "    <tr>\n",
       "      <th>80</th>\n",
       "      <td>PLZ8_HHZ</td>\n",
       "      <td>macrocell_plz8</td>\n",
       "      <td>ordinal</td>\n",
       "      <td>[-1]</td>\n",
       "    </tr>\n",
       "    <tr>\n",
       "      <th>81</th>\n",
       "      <td>PLZ8_GBZ</td>\n",
       "      <td>macrocell_plz8</td>\n",
       "      <td>ordinal</td>\n",
       "      <td>[-1]</td>\n",
       "    </tr>\n",
       "    <tr>\n",
       "      <th>82</th>\n",
       "      <td>ARBEIT</td>\n",
       "      <td>community</td>\n",
       "      <td>ordinal</td>\n",
       "      <td>[-1,9]</td>\n",
       "    </tr>\n",
       "    <tr>\n",
       "      <th>83</th>\n",
       "      <td>ORTSGR_KLS9</td>\n",
       "      <td>community</td>\n",
       "      <td>ordinal</td>\n",
       "      <td>[-1,0]</td>\n",
       "    </tr>\n",
       "    <tr>\n",
       "      <th>84</th>\n",
       "      <td>RELAT_AB</td>\n",
       "      <td>community</td>\n",
       "      <td>ordinal</td>\n",
       "      <td>[-1,9]</td>\n",
       "    </tr>\n",
       "  </tbody>\n",
       "</table>\n",
       "</div>"
      ],
      "text/plain": [
       "                attribute information_level         type missing_or_unknown\n",
       "0                AGER_TYP            person  categorical             [-1,0]\n",
       "1    ALTERSKATEGORIE_GROB            person      ordinal           [-1,0,9]\n",
       "2               ANREDE_KZ            person  categorical             [-1,0]\n",
       "3           CJT_GESAMTTYP            person  categorical                [0]\n",
       "4       FINANZ_MINIMALIST            person      ordinal               [-1]\n",
       "5           FINANZ_SPARER            person      ordinal               [-1]\n",
       "6        FINANZ_VORSORGER            person      ordinal               [-1]\n",
       "7          FINANZ_ANLEGER            person      ordinal               [-1]\n",
       "8   FINANZ_UNAUFFAELLIGER            person      ordinal               [-1]\n",
       "9        FINANZ_HAUSBAUER            person      ordinal               [-1]\n",
       "10              FINANZTYP            person  categorical               [-1]\n",
       "11            GEBURTSJAHR            person      numeric                [0]\n",
       "12        GFK_URLAUBERTYP            person  categorical                 []\n",
       "13       GREEN_AVANTGARDE            person  categorical                 []\n",
       "14             HEALTH_TYP            person      ordinal             [-1,0]\n",
       "15    LP_LEBENSPHASE_FEIN            person        mixed                [0]\n",
       "16    LP_LEBENSPHASE_GROB            person        mixed                [0]\n",
       "17        LP_FAMILIE_FEIN            person  categorical                [0]\n",
       "18        LP_FAMILIE_GROB            person  categorical                [0]\n",
       "19         LP_STATUS_FEIN            person  categorical                [0]\n",
       "20         LP_STATUS_GROB            person  categorical                [0]\n",
       "21       NATIONALITAET_KZ            person  categorical             [-1,0]\n",
       "22  PRAEGENDE_JUGENDJAHRE            person        mixed             [-1,0]\n",
       "23         RETOURTYP_BK_S            person      ordinal                [0]\n",
       "24              SEMIO_SOZ            person      ordinal             [-1,9]\n",
       "25              SEMIO_FAM            person      ordinal             [-1,9]\n",
       "26              SEMIO_REL            person      ordinal             [-1,9]\n",
       "27              SEMIO_MAT            person      ordinal             [-1,9]\n",
       "28             SEMIO_VERT            person      ordinal             [-1,9]\n",
       "29             SEMIO_LUST            person      ordinal             [-1,9]\n",
       "30              SEMIO_ERL            person      ordinal             [-1,9]\n",
       "31             SEMIO_KULT            person      ordinal             [-1,9]\n",
       "32              SEMIO_RAT            person      ordinal             [-1,9]\n",
       "33             SEMIO_KRIT            person      ordinal             [-1,9]\n",
       "34              SEMIO_DOM            person      ordinal             [-1,9]\n",
       "35             SEMIO_KAEM            person      ordinal             [-1,9]\n",
       "36          SEMIO_PFLICHT            person      ordinal             [-1,9]\n",
       "37            SEMIO_TRADV            person      ordinal             [-1,9]\n",
       "38            SHOPPER_TYP            person  categorical               [-1]\n",
       "39                SOHO_KZ            person  categorical               [-1]\n",
       "40               TITEL_KZ            person  categorical             [-1,0]\n",
       "41               VERS_TYP            person  categorical               [-1]\n",
       "42               ZABEOTYP            person  categorical             [-1,9]\n",
       "43               ALTER_HH         household     interval                [0]\n",
       "44           ANZ_PERSONEN         household      numeric                 []\n",
       "45              ANZ_TITEL         household      numeric                 []\n",
       "46     HH_EINKOMMEN_SCORE         household      ordinal             [-1,0]\n",
       "47           KK_KUNDENTYP         household  categorical               [-1]\n",
       "48         W_KEIT_KIND_HH         household      ordinal             [-1,0]\n",
       "49         WOHNDAUER_2008         household      ordinal             [-1,0]\n",
       "50    ANZ_HAUSHALTE_AKTIV          building      numeric                [0]\n",
       "51           ANZ_HH_TITEL          building      numeric                 []\n",
       "52            GEBAEUDETYP          building  categorical             [-1,0]\n",
       "53            KONSUMNAEHE          building      ordinal                 []\n",
       "54       MIN_GEBAEUDEJAHR          building      numeric                [0]\n",
       "55            OST_WEST_KZ          building  categorical               [-1]\n",
       "56               WOHNLAGE          building        mixed               [-1]\n",
       "57        CAMEO_DEUG_2015     microcell_rr4  categorical             [-1,X]\n",
       "58         CAMEO_DEU_2015     microcell_rr4  categorical               [XX]\n",
       "59        CAMEO_INTL_2015     microcell_rr4        mixed            [-1,XX]\n",
       "60            KBA05_ANTG1     microcell_rr3      ordinal               [-1]\n",
       "61            KBA05_ANTG2     microcell_rr3      ordinal               [-1]\n",
       "62            KBA05_ANTG3     microcell_rr3      ordinal               [-1]\n",
       "63            KBA05_ANTG4     microcell_rr3      ordinal               [-1]\n",
       "64           KBA05_BAUMAX     microcell_rr3        mixed             [-1,0]\n",
       "65              KBA05_GBZ     microcell_rr3      ordinal             [-1,0]\n",
       "66               BALLRAUM          postcode      ordinal               [-1]\n",
       "67               EWDICHTE          postcode      ordinal               [-1]\n",
       "68             INNENSTADT          postcode      ordinal               [-1]\n",
       "69     GEBAEUDETYP_RASTER        region_rr1      ordinal                 []\n",
       "70                    KKK        region_rr1      ordinal             [-1,0]\n",
       "71             MOBI_REGIO        region_rr1      ordinal                 []\n",
       "72      ONLINE_AFFINITAET        region_rr1      ordinal                 []\n",
       "73               REGIOTYP        region_rr1      ordinal             [-1,0]\n",
       "74       KBA13_ANZAHL_PKW    macrocell_plz8      numeric                 []\n",
       "75             PLZ8_ANTG1    macrocell_plz8      ordinal               [-1]\n",
       "76             PLZ8_ANTG2    macrocell_plz8      ordinal               [-1]\n",
       "77             PLZ8_ANTG3    macrocell_plz8      ordinal               [-1]\n",
       "78             PLZ8_ANTG4    macrocell_plz8      ordinal               [-1]\n",
       "79            PLZ8_BAUMAX    macrocell_plz8        mixed             [-1,0]\n",
       "80               PLZ8_HHZ    macrocell_plz8      ordinal               [-1]\n",
       "81               PLZ8_GBZ    macrocell_plz8      ordinal               [-1]\n",
       "82                 ARBEIT         community      ordinal             [-1,9]\n",
       "83            ORTSGR_KLS9         community      ordinal             [-1,0]\n",
       "84               RELAT_AB         community      ordinal             [-1,9]"
      ]
     },
     "execution_count": 138,
     "metadata": {},
     "output_type": "execute_result"
    }
   ],
   "source": [
    "features_df "
   ]
  },
  {
   "cell_type": "code",
   "execution_count": 139,
   "metadata": {},
   "outputs": [],
   "source": [
    "def string_to_list(old_list):\n",
    "    new_list = []\n",
    "    old_list = old_list[1:-1].split(',')\n",
    "    for i in list(old_list):\n",
    "        try:\n",
    "            new_list.append(int(i))\n",
    "        except:\n",
    "            new_list.append(i)\n",
    "    return new_list"
   ]
  },
  {
   "cell_type": "code",
   "execution_count": 140,
   "metadata": {},
   "outputs": [],
   "source": [
    "features_df['NA_tags'] = features_df['missing_or_unknown'].apply(string_to_list)"
   ]
  },
  {
   "cell_type": "code",
   "execution_count": 141,
   "metadata": {},
   "outputs": [],
   "source": [
    "processing_df = general_df.copy()\n",
    "\n",
    "# Identify missing or unknown data values and convert them to NaNs.\n",
    "\n",
    "for j in range(len(features_df)):\n",
    "    column_name = features_df.iloc[j][0]\n",
    "    missing_list = features_df.iloc[j][4]\n",
    "    \n",
    "    processing_df[column_name] =  processing_df[column_name].apply(lambda x: np.nan if x in missing_list else x)"
   ]
  },
  {
   "cell_type": "code",
   "execution_count": 142,
   "metadata": {},
   "outputs": [
    {
     "data": {
      "text/plain": [
       "8373929"
      ]
     },
     "execution_count": 142,
     "metadata": {},
     "output_type": "execute_result"
    }
   ],
   "source": [
    "processing_df.isna().sum().sum()"
   ]
  },
  {
   "cell_type": "code",
   "execution_count": 143,
   "metadata": {},
   "outputs": [],
   "source": [
    "natural_missing_perct = round((natural_missing/general_df.shape[0]) * 100,2)"
   ]
  },
  {
   "cell_type": "code",
   "execution_count": 144,
   "metadata": {},
   "outputs": [
    {
     "data": {
      "text/html": [
       "<div>\n",
       "<style scoped>\n",
       "    .dataframe tbody tr th:only-of-type {\n",
       "        vertical-align: middle;\n",
       "    }\n",
       "\n",
       "    .dataframe tbody tr th {\n",
       "        vertical-align: top;\n",
       "    }\n",
       "\n",
       "    .dataframe thead th {\n",
       "        text-align: right;\n",
       "    }\n",
       "</style>\n",
       "<table border=\"1\" class=\"dataframe\">\n",
       "  <thead>\n",
       "    <tr style=\"text-align: right;\">\n",
       "      <th></th>\n",
       "      <th>0</th>\n",
       "    </tr>\n",
       "  </thead>\n",
       "  <tbody>\n",
       "    <tr>\n",
       "      <th>AGER_TYP</th>\n",
       "      <td>0.00</td>\n",
       "    </tr>\n",
       "    <tr>\n",
       "      <th>ALTERSKATEGORIE_GROB</th>\n",
       "      <td>0.00</td>\n",
       "    </tr>\n",
       "    <tr>\n",
       "      <th>ANREDE_KZ</th>\n",
       "      <td>0.00</td>\n",
       "    </tr>\n",
       "    <tr>\n",
       "      <th>CJT_GESAMTTYP</th>\n",
       "      <td>0.54</td>\n",
       "    </tr>\n",
       "    <tr>\n",
       "      <th>FINANZ_MINIMALIST</th>\n",
       "      <td>0.00</td>\n",
       "    </tr>\n",
       "    <tr>\n",
       "      <th>FINANZ_SPARER</th>\n",
       "      <td>0.00</td>\n",
       "    </tr>\n",
       "    <tr>\n",
       "      <th>FINANZ_VORSORGER</th>\n",
       "      <td>0.00</td>\n",
       "    </tr>\n",
       "    <tr>\n",
       "      <th>FINANZ_ANLEGER</th>\n",
       "      <td>0.00</td>\n",
       "    </tr>\n",
       "    <tr>\n",
       "      <th>FINANZ_UNAUFFAELLIGER</th>\n",
       "      <td>0.00</td>\n",
       "    </tr>\n",
       "    <tr>\n",
       "      <th>FINANZ_HAUSBAUER</th>\n",
       "      <td>0.00</td>\n",
       "    </tr>\n",
       "    <tr>\n",
       "      <th>FINANZTYP</th>\n",
       "      <td>0.00</td>\n",
       "    </tr>\n",
       "    <tr>\n",
       "      <th>GEBURTSJAHR</th>\n",
       "      <td>0.00</td>\n",
       "    </tr>\n",
       "    <tr>\n",
       "      <th>GFK_URLAUBERTYP</th>\n",
       "      <td>0.54</td>\n",
       "    </tr>\n",
       "    <tr>\n",
       "      <th>GREEN_AVANTGARDE</th>\n",
       "      <td>0.00</td>\n",
       "    </tr>\n",
       "    <tr>\n",
       "      <th>HEALTH_TYP</th>\n",
       "      <td>0.00</td>\n",
       "    </tr>\n",
       "    <tr>\n",
       "      <th>LP_LEBENSPHASE_FEIN</th>\n",
       "      <td>0.54</td>\n",
       "    </tr>\n",
       "    <tr>\n",
       "      <th>LP_LEBENSPHASE_GROB</th>\n",
       "      <td>0.54</td>\n",
       "    </tr>\n",
       "    <tr>\n",
       "      <th>LP_FAMILIE_FEIN</th>\n",
       "      <td>0.54</td>\n",
       "    </tr>\n",
       "    <tr>\n",
       "      <th>LP_FAMILIE_GROB</th>\n",
       "      <td>0.54</td>\n",
       "    </tr>\n",
       "    <tr>\n",
       "      <th>LP_STATUS_FEIN</th>\n",
       "      <td>0.54</td>\n",
       "    </tr>\n",
       "    <tr>\n",
       "      <th>LP_STATUS_GROB</th>\n",
       "      <td>0.54</td>\n",
       "    </tr>\n",
       "    <tr>\n",
       "      <th>NATIONALITAET_KZ</th>\n",
       "      <td>0.00</td>\n",
       "    </tr>\n",
       "    <tr>\n",
       "      <th>PRAEGENDE_JUGENDJAHRE</th>\n",
       "      <td>0.00</td>\n",
       "    </tr>\n",
       "    <tr>\n",
       "      <th>RETOURTYP_BK_S</th>\n",
       "      <td>0.54</td>\n",
       "    </tr>\n",
       "    <tr>\n",
       "      <th>SEMIO_SOZ</th>\n",
       "      <td>0.00</td>\n",
       "    </tr>\n",
       "    <tr>\n",
       "      <th>SEMIO_FAM</th>\n",
       "      <td>0.00</td>\n",
       "    </tr>\n",
       "    <tr>\n",
       "      <th>SEMIO_REL</th>\n",
       "      <td>0.00</td>\n",
       "    </tr>\n",
       "    <tr>\n",
       "      <th>SEMIO_MAT</th>\n",
       "      <td>0.00</td>\n",
       "    </tr>\n",
       "    <tr>\n",
       "      <th>SEMIO_VERT</th>\n",
       "      <td>0.00</td>\n",
       "    </tr>\n",
       "    <tr>\n",
       "      <th>SEMIO_LUST</th>\n",
       "      <td>0.00</td>\n",
       "    </tr>\n",
       "    <tr>\n",
       "      <th>SEMIO_ERL</th>\n",
       "      <td>0.00</td>\n",
       "    </tr>\n",
       "    <tr>\n",
       "      <th>SEMIO_KULT</th>\n",
       "      <td>0.00</td>\n",
       "    </tr>\n",
       "    <tr>\n",
       "      <th>SEMIO_RAT</th>\n",
       "      <td>0.00</td>\n",
       "    </tr>\n",
       "    <tr>\n",
       "      <th>SEMIO_KRIT</th>\n",
       "      <td>0.00</td>\n",
       "    </tr>\n",
       "    <tr>\n",
       "      <th>SEMIO_DOM</th>\n",
       "      <td>0.00</td>\n",
       "    </tr>\n",
       "    <tr>\n",
       "      <th>SEMIO_KAEM</th>\n",
       "      <td>0.00</td>\n",
       "    </tr>\n",
       "    <tr>\n",
       "      <th>SEMIO_PFLICHT</th>\n",
       "      <td>0.00</td>\n",
       "    </tr>\n",
       "    <tr>\n",
       "      <th>SEMIO_TRADV</th>\n",
       "      <td>0.00</td>\n",
       "    </tr>\n",
       "    <tr>\n",
       "      <th>SHOPPER_TYP</th>\n",
       "      <td>0.00</td>\n",
       "    </tr>\n",
       "    <tr>\n",
       "      <th>SOHO_KZ</th>\n",
       "      <td>8.25</td>\n",
       "    </tr>\n",
       "    <tr>\n",
       "      <th>TITEL_KZ</th>\n",
       "      <td>8.25</td>\n",
       "    </tr>\n",
       "    <tr>\n",
       "      <th>VERS_TYP</th>\n",
       "      <td>0.00</td>\n",
       "    </tr>\n",
       "    <tr>\n",
       "      <th>ZABEOTYP</th>\n",
       "      <td>0.00</td>\n",
       "    </tr>\n",
       "    <tr>\n",
       "      <th>ALTER_HH</th>\n",
       "      <td>8.25</td>\n",
       "    </tr>\n",
       "    <tr>\n",
       "      <th>ANZ_PERSONEN</th>\n",
       "      <td>8.25</td>\n",
       "    </tr>\n",
       "    <tr>\n",
       "      <th>ANZ_TITEL</th>\n",
       "      <td>8.25</td>\n",
       "    </tr>\n",
       "    <tr>\n",
       "      <th>HH_EINKOMMEN_SCORE</th>\n",
       "      <td>2.06</td>\n",
       "    </tr>\n",
       "    <tr>\n",
       "      <th>KK_KUNDENTYP</th>\n",
       "      <td>65.60</td>\n",
       "    </tr>\n",
       "    <tr>\n",
       "      <th>W_KEIT_KIND_HH</th>\n",
       "      <td>12.07</td>\n",
       "    </tr>\n",
       "    <tr>\n",
       "      <th>WOHNDAUER_2008</th>\n",
       "      <td>8.25</td>\n",
       "    </tr>\n",
       "    <tr>\n",
       "      <th>ANZ_HAUSHALTE_AKTIV</th>\n",
       "      <td>10.45</td>\n",
       "    </tr>\n",
       "    <tr>\n",
       "      <th>ANZ_HH_TITEL</th>\n",
       "      <td>10.88</td>\n",
       "    </tr>\n",
       "    <tr>\n",
       "      <th>GEBAEUDETYP</th>\n",
       "      <td>10.45</td>\n",
       "    </tr>\n",
       "    <tr>\n",
       "      <th>KONSUMNAEHE</th>\n",
       "      <td>8.30</td>\n",
       "    </tr>\n",
       "    <tr>\n",
       "      <th>MIN_GEBAEUDEJAHR</th>\n",
       "      <td>10.45</td>\n",
       "    </tr>\n",
       "    <tr>\n",
       "      <th>OST_WEST_KZ</th>\n",
       "      <td>10.45</td>\n",
       "    </tr>\n",
       "    <tr>\n",
       "      <th>WOHNLAGE</th>\n",
       "      <td>10.45</td>\n",
       "    </tr>\n",
       "    <tr>\n",
       "      <th>CAMEO_DEUG_2015</th>\n",
       "      <td>11.11</td>\n",
       "    </tr>\n",
       "    <tr>\n",
       "      <th>CAMEO_DEU_2015</th>\n",
       "      <td>11.11</td>\n",
       "    </tr>\n",
       "    <tr>\n",
       "      <th>CAMEO_INTL_2015</th>\n",
       "      <td>11.11</td>\n",
       "    </tr>\n",
       "    <tr>\n",
       "      <th>KBA05_ANTG1</th>\n",
       "      <td>14.96</td>\n",
       "    </tr>\n",
       "    <tr>\n",
       "      <th>KBA05_ANTG2</th>\n",
       "      <td>14.96</td>\n",
       "    </tr>\n",
       "    <tr>\n",
       "      <th>KBA05_ANTG3</th>\n",
       "      <td>14.96</td>\n",
       "    </tr>\n",
       "    <tr>\n",
       "      <th>KBA05_ANTG4</th>\n",
       "      <td>14.96</td>\n",
       "    </tr>\n",
       "    <tr>\n",
       "      <th>KBA05_BAUMAX</th>\n",
       "      <td>14.96</td>\n",
       "    </tr>\n",
       "    <tr>\n",
       "      <th>KBA05_GBZ</th>\n",
       "      <td>14.96</td>\n",
       "    </tr>\n",
       "    <tr>\n",
       "      <th>BALLRAUM</th>\n",
       "      <td>10.52</td>\n",
       "    </tr>\n",
       "    <tr>\n",
       "      <th>EWDICHTE</th>\n",
       "      <td>10.52</td>\n",
       "    </tr>\n",
       "    <tr>\n",
       "      <th>INNENSTADT</th>\n",
       "      <td>10.52</td>\n",
       "    </tr>\n",
       "    <tr>\n",
       "      <th>GEBAEUDETYP_RASTER</th>\n",
       "      <td>10.45</td>\n",
       "    </tr>\n",
       "    <tr>\n",
       "      <th>KKK</th>\n",
       "      <td>13.60</td>\n",
       "    </tr>\n",
       "    <tr>\n",
       "      <th>MOBI_REGIO</th>\n",
       "      <td>14.96</td>\n",
       "    </tr>\n",
       "    <tr>\n",
       "      <th>ONLINE_AFFINITAET</th>\n",
       "      <td>0.54</td>\n",
       "    </tr>\n",
       "    <tr>\n",
       "      <th>REGIOTYP</th>\n",
       "      <td>13.60</td>\n",
       "    </tr>\n",
       "    <tr>\n",
       "      <th>KBA13_ANZAHL_PKW</th>\n",
       "      <td>11.87</td>\n",
       "    </tr>\n",
       "    <tr>\n",
       "      <th>PLZ8_ANTG1</th>\n",
       "      <td>13.07</td>\n",
       "    </tr>\n",
       "    <tr>\n",
       "      <th>PLZ8_ANTG2</th>\n",
       "      <td>13.07</td>\n",
       "    </tr>\n",
       "    <tr>\n",
       "      <th>PLZ8_ANTG3</th>\n",
       "      <td>13.07</td>\n",
       "    </tr>\n",
       "    <tr>\n",
       "      <th>PLZ8_ANTG4</th>\n",
       "      <td>13.07</td>\n",
       "    </tr>\n",
       "    <tr>\n",
       "      <th>PLZ8_BAUMAX</th>\n",
       "      <td>13.07</td>\n",
       "    </tr>\n",
       "    <tr>\n",
       "      <th>PLZ8_HHZ</th>\n",
       "      <td>13.07</td>\n",
       "    </tr>\n",
       "    <tr>\n",
       "      <th>PLZ8_GBZ</th>\n",
       "      <td>13.07</td>\n",
       "    </tr>\n",
       "    <tr>\n",
       "      <th>ARBEIT</th>\n",
       "      <td>10.91</td>\n",
       "    </tr>\n",
       "    <tr>\n",
       "      <th>ORTSGR_KLS9</th>\n",
       "      <td>10.91</td>\n",
       "    </tr>\n",
       "    <tr>\n",
       "      <th>RELAT_AB</th>\n",
       "      <td>10.91</td>\n",
       "    </tr>\n",
       "  </tbody>\n",
       "</table>\n",
       "</div>"
      ],
      "text/plain": [
       "                           0\n",
       "AGER_TYP                0.00\n",
       "ALTERSKATEGORIE_GROB    0.00\n",
       "ANREDE_KZ               0.00\n",
       "CJT_GESAMTTYP           0.54\n",
       "FINANZ_MINIMALIST       0.00\n",
       "FINANZ_SPARER           0.00\n",
       "FINANZ_VORSORGER        0.00\n",
       "FINANZ_ANLEGER          0.00\n",
       "FINANZ_UNAUFFAELLIGER   0.00\n",
       "FINANZ_HAUSBAUER        0.00\n",
       "FINANZTYP               0.00\n",
       "GEBURTSJAHR             0.00\n",
       "GFK_URLAUBERTYP         0.54\n",
       "GREEN_AVANTGARDE        0.00\n",
       "HEALTH_TYP              0.00\n",
       "LP_LEBENSPHASE_FEIN     0.54\n",
       "LP_LEBENSPHASE_GROB     0.54\n",
       "LP_FAMILIE_FEIN         0.54\n",
       "LP_FAMILIE_GROB         0.54\n",
       "LP_STATUS_FEIN          0.54\n",
       "LP_STATUS_GROB          0.54\n",
       "NATIONALITAET_KZ        0.00\n",
       "PRAEGENDE_JUGENDJAHRE   0.00\n",
       "RETOURTYP_BK_S          0.54\n",
       "SEMIO_SOZ               0.00\n",
       "SEMIO_FAM               0.00\n",
       "SEMIO_REL               0.00\n",
       "SEMIO_MAT               0.00\n",
       "SEMIO_VERT              0.00\n",
       "SEMIO_LUST              0.00\n",
       "SEMIO_ERL               0.00\n",
       "SEMIO_KULT              0.00\n",
       "SEMIO_RAT               0.00\n",
       "SEMIO_KRIT              0.00\n",
       "SEMIO_DOM               0.00\n",
       "SEMIO_KAEM              0.00\n",
       "SEMIO_PFLICHT           0.00\n",
       "SEMIO_TRADV             0.00\n",
       "SHOPPER_TYP             0.00\n",
       "SOHO_KZ                 8.25\n",
       "TITEL_KZ                8.25\n",
       "VERS_TYP                0.00\n",
       "ZABEOTYP                0.00\n",
       "ALTER_HH                8.25\n",
       "ANZ_PERSONEN            8.25\n",
       "ANZ_TITEL               8.25\n",
       "HH_EINKOMMEN_SCORE      2.06\n",
       "KK_KUNDENTYP           65.60\n",
       "W_KEIT_KIND_HH         12.07\n",
       "WOHNDAUER_2008          8.25\n",
       "ANZ_HAUSHALTE_AKTIV    10.45\n",
       "ANZ_HH_TITEL           10.88\n",
       "GEBAEUDETYP            10.45\n",
       "KONSUMNAEHE             8.30\n",
       "MIN_GEBAEUDEJAHR       10.45\n",
       "OST_WEST_KZ            10.45\n",
       "WOHNLAGE               10.45\n",
       "CAMEO_DEUG_2015        11.11\n",
       "CAMEO_DEU_2015         11.11\n",
       "CAMEO_INTL_2015        11.11\n",
       "KBA05_ANTG1            14.96\n",
       "KBA05_ANTG2            14.96\n",
       "KBA05_ANTG3            14.96\n",
       "KBA05_ANTG4            14.96\n",
       "KBA05_BAUMAX           14.96\n",
       "KBA05_GBZ              14.96\n",
       "BALLRAUM               10.52\n",
       "EWDICHTE               10.52\n",
       "INNENSTADT             10.52\n",
       "GEBAEUDETYP_RASTER     10.45\n",
       "KKK                    13.60\n",
       "MOBI_REGIO             14.96\n",
       "ONLINE_AFFINITAET       0.54\n",
       "REGIOTYP               13.60\n",
       "KBA13_ANZAHL_PKW       11.87\n",
       "PLZ8_ANTG1             13.07\n",
       "PLZ8_ANTG2             13.07\n",
       "PLZ8_ANTG3             13.07\n",
       "PLZ8_ANTG4             13.07\n",
       "PLZ8_BAUMAX            13.07\n",
       "PLZ8_HHZ               13.07\n",
       "PLZ8_GBZ               13.07\n",
       "ARBEIT                 10.91\n",
       "ORTSGR_KLS9            10.91\n",
       "RELAT_AB               10.91"
      ]
     },
     "execution_count": 144,
     "metadata": {},
     "output_type": "execute_result"
    }
   ],
   "source": [
    "natural_missing_perct"
   ]
  },
  {
   "cell_type": "code",
   "execution_count": 145,
   "metadata": {},
   "outputs": [
    {
     "data": {
      "text/plain": [
       "(array([43.,  7., 34.,  0.,  0.,  0.,  0.,  0.,  0.,  0.,  0.,  0.,  1.]),\n",
       " array([ 0.        ,  5.04615385, 10.09230769, 15.13846154, 20.18461538,\n",
       "        25.23076923, 30.27692308, 35.32307692, 40.36923077, 45.41538462,\n",
       "        50.46153846, 55.50769231, 60.55384615, 65.6       ]),\n",
       " <BarContainer object of 13 artists>)"
      ]
     },
     "execution_count": 145,
     "metadata": {},
     "output_type": "execute_result"
    },
    {
     "data": {
      "image/png": "[encoded data removed]",
      "text/plain": [
       "<Figure size 640x480 with 1 Axes>"
      ]
     },
     "metadata": {},
     "output_type": "display_data"
    }
   ],
   "source": [
    "plt.hist(natural_missing_perct[0],bins = 'auto', color = '#0504aa', alpha = 0.7 ,rwidth=0.85)"
   ]
  },
  {
   "cell_type": "code",
   "execution_count": 146,
   "metadata": {},
   "outputs": [],
   "source": [
    "missing_or_unknown = pd.DataFrame(processing_df.isna().sum()) - natural_missing"
   ]
  },
  {
   "cell_type": "code",
   "execution_count": 147,
   "metadata": {},
   "outputs": [],
   "source": [
    "missing_or_unknown_perct = round((missing_or_unknown/general_df.shape[0]) * 100,2)"
   ]
  },
  {
   "cell_type": "code",
   "execution_count": 148,
   "metadata": {},
   "outputs": [
    {
     "data": {
      "text/plain": [
       "(array([73.,  7.,  1.,  0.,  2.,  0.,  0.,  0.,  1.,  1.]),\n",
       " array([ 0.   ,  9.151, 18.302, 27.453, 36.604, 45.755, 54.906, 64.057,\n",
       "        73.208, 82.359, 91.51 ]),\n",
       " <BarContainer object of 10 artists>)"
      ]
     },
     "execution_count": 148,
     "metadata": {},
     "output_type": "execute_result"
    },
    {
     "data": {
      "image/png": "[encoded data removed]",
      "text/plain": [
       "<Figure size 640x480 with 1 Axes>"
      ]
     },
     "metadata": {},
     "output_type": "display_data"
    }
   ],
   "source": [
    "plt.hist(missing_or_unknown_perct,bins = 10, color = '#0504aa', alpha = 0.7 ,rwidth=0.85)"
   ]
  },
  {
   "cell_type": "markdown",
   "metadata": {},
   "source": [
    "#### Step 1.1.2: Assess Missing Data in Each Column\n",
    "\n",
    "How much missing data is present in each column? There are a few columns that are outliers in terms of the proportion of values that are missing. You will want to use matplotlib's [`hist()`](https://matplotlib.org/api/_as_gen/matplotlib.pyplot.hist.html) function to visualize the distribution of missing value counts to find these columns. Identify and document these columns. While some of these columns might have justifications for keeping or re-encoding the data, for this project you should just remove them from the dataframe. (Feel free to make remarks about these outlier columns in the discussion, however!)\n",
    "\n",
    "For the remaining features, are there any patterns in which columns have, or share, missing data?"
   ]
  },
  {
   "cell_type": "code",
   "execution_count": 149,
   "metadata": {},
   "outputs": [],
   "source": [
    "# Perform an assessment of how much missing data there is in each column of the\n",
    "# dataset.\n",
    "\n",
    "total_missing = pd.DataFrame(processing_df.isnull().sum())"
   ]
  },
  {
   "cell_type": "code",
   "execution_count": 150,
   "metadata": {},
   "outputs": [],
   "source": [
    "total_missing_perct = round((total_missing/processing_df.shape[0]) * 100 ,2)"
   ]
  },
  {
   "cell_type": "code",
   "execution_count": 151,
   "metadata": {},
   "outputs": [
    {
     "data": {
      "text/plain": [
       "(array([32., 25., 20.,  2.,  0.,  1.,  0.,  1.,  0.,  1.,  0.,  1.,  0.,\n",
       "         1.,  0.,  0.,  1.]),\n",
       " array([ 0.        ,  5.86823529, 11.73647059, 17.60470588, 23.47294118,\n",
       "        29.34117647, 35.20941176, 41.07764706, 46.94588235, 52.81411765,\n",
       "        58.68235294, 64.55058824, 70.41882353, 76.28705882, 82.15529412,\n",
       "        88.02352941, 93.89176471, 99.76      ]),\n",
       " <BarContainer object of 17 artists>)"
      ]
     },
     "execution_count": 151,
     "metadata": {},
     "output_type": "execute_result"
    },
    {
     "data": {
      "image/png": "[encoded data removed]",
      "text/plain": [
       "<Figure size 640x480 with 1 Axes>"
      ]
     },
     "metadata": {},
     "output_type": "display_data"
    }
   ],
   "source": [
    "plt.hist(total_missing_perct,bins = 'auto', rwidth = 0.85, alpha = 0.8, color = '#92dc7e')"
   ]
  },
  {
   "cell_type": "code",
   "execution_count": 152,
   "metadata": {},
   "outputs": [
    {
     "data": {
      "text/plain": [
       "['AGER_TYP',\n",
       " 'GEBURTSJAHR',\n",
       " 'TITEL_KZ',\n",
       " 'ALTER_HH',\n",
       " 'KK_KUNDENTYP',\n",
       " 'KBA05_BAUMAX']"
      ]
     },
     "execution_count": 152,
     "metadata": {},
     "output_type": "execute_result"
    }
   ],
   "source": [
    "list(total_missing_perct[total_missing_perct[0] > 20].index)"
   ]
  },
  {
   "cell_type": "markdown",
   "metadata": {},
   "source": [
    "#### Discussion 1.1.2: Assess Missing Data in Each Column\n",
    "\n",
    "(Double click this cell and replace this text with your own text, reporting your observations regarding the amount of missing data in each column. Are there any patterns in missing values? Which columns were removed from the dataset?)"
   ]
  },
  {
   "cell_type": "markdown",
   "metadata": {},
   "source": [
    " There are 6 columns that has more than 20% of its data are missing. Out of which 4 of those columns have  missing or unknown data and the rest are mixutre of outliers and missing data . "
   ]
  },
  {
   "cell_type": "markdown",
   "metadata": {},
   "source": [
    "#### Step 1.1.3: Assess Missing Data in Each Row\n",
    "\n",
    "Now, you'll perform a similar assessment for the rows of the dataset. How much data is missing in each row? As with the columns, you should see some groups of points that have a very different numbers of missing values. Divide the data into two subsets: one for data points that are above some threshold for missing values, and a second subset for points below that threshold.\n",
    "\n",
    "In order to know what to do with the outlier rows, we should see if the distribution of data values on columns that are not missing data (or are missing very little data) are similar or different between the two groups. Select at least five of these columns and compare the distribution of values.\n",
    "- You can use seaborn's [`countplot()`](https://seaborn.pydata.org/generated/seaborn.countplot.html) function to create a bar chart of code frequencies and matplotlib's [`subplot()`](https://matplotlib.org/api/_as_gen/matplotlib.pyplot.subplot.html) function to put bar charts for the two subplots side by side.\n",
    "- To reduce repeated code, you might want to write a function that can perform this comparison, taking as one of its arguments a column to be compared.\n",
    "\n",
    "Depending on what you observe in your comparison, this will have implications on how you approach your conclusions later in the analysis. If the distributions of non-missing features look similar between the data with many missing values and the data with few or no missing values, then we could argue that simply dropping those points from the analysis won't present a major issue. On the other hand, if the data with many missing values looks very different from the data with few or no missing values, then we should make a note on those data as special. We'll revisit these data later on. **Either way, you should continue your analysis for now using just the subset of the data with few or no missing values.**"
   ]
  },
  {
   "cell_type": "code",
   "execution_count": 153,
   "metadata": {},
   "outputs": [],
   "source": [
    "# How much data is missing in each row of the dataset?\n",
    "missing_data = processing_df.isna().sum(axis=1)"
   ]
  },
  {
   "cell_type": "code",
   "execution_count": 154,
   "metadata": {},
   "outputs": [
    {
     "data": {
      "text/plain": [
       "<Axes: ylabel='Density'>"
      ]
     },
     "execution_count": 154,
     "metadata": {},
     "output_type": "execute_result"
    },
    {
     "data": {
      "image/png": "[encoded data removed]",
      "text/plain": [
       "<Figure size 640x480 with 1 Axes>"
      ]
     },
     "metadata": {},
     "output_type": "display_data"
    }
   ],
   "source": [
    "sns.set(style = 'darkgrid')\n",
    "sns.distplot(missing_data)"
   ]
  },
  {
   "cell_type": "code",
   "execution_count": 155,
   "metadata": {},
   "outputs": [],
   "source": [
    "# Write code to divide the data into two subsets based on the number of missing\n",
    "# values in each row.\n",
    "\n",
    "#threshold we would be taking is 20%\n",
    "threshold = 20\n",
    "\n",
    "below_thresold = processing_df.drop(columns = list(total_missing_perct[total_missing_perct[0] > threshold].index))\n",
    "above_thresold = processing_df.drop(columns = list(total_missing_perct[total_missing_perct[0] <= threshold].index))"
   ]
  },
  {
   "cell_type": "code",
   "execution_count": 156,
   "metadata": {},
   "outputs": [],
   "source": [
    "def comparison_plot(column1,df,column2,df_2):\n",
    "    plt.figure(figsize = (10,4))\n",
    "    plt.subplot(1,2,1)\n",
    "    sns.countplot(x= column1 , data = df.fillna('Missing'))\n",
    "    plt.subplot(1,2,2)\n",
    "    sns.countplot(x = column2 , data = df_2.fillna('Missing'))\n",
    "    plt.show()"
   ]
  },
  {
   "cell_type": "code",
   "execution_count": 157,
   "metadata": {},
   "outputs": [
    {
     "data": {
      "text/plain": [
       "Index(['ALTERSKATEGORIE_GROB', 'ANREDE_KZ', 'CJT_GESAMTTYP',\n",
       "       'FINANZ_MINIMALIST', 'FINANZ_SPARER', 'FINANZ_VORSORGER',\n",
       "       'FINANZ_ANLEGER', 'FINANZ_UNAUFFAELLIGER', 'FINANZ_HAUSBAUER',\n",
       "       'FINANZTYP', 'GFK_URLAUBERTYP', 'GREEN_AVANTGARDE', 'HEALTH_TYP',\n",
       "       'LP_LEBENSPHASE_FEIN', 'LP_LEBENSPHASE_GROB', 'LP_FAMILIE_FEIN',\n",
       "       'LP_FAMILIE_GROB', 'LP_STATUS_FEIN', 'LP_STATUS_GROB',\n",
       "       'NATIONALITAET_KZ', 'PRAEGENDE_JUGENDJAHRE', 'RETOURTYP_BK_S',\n",
       "       'SEMIO_SOZ', 'SEMIO_FAM', 'SEMIO_REL', 'SEMIO_MAT', 'SEMIO_VERT',\n",
       "       'SEMIO_LUST', 'SEMIO_ERL', 'SEMIO_KULT', 'SEMIO_RAT', 'SEMIO_KRIT',\n",
       "       'SEMIO_DOM', 'SEMIO_KAEM', 'SEMIO_PFLICHT', 'SEMIO_TRADV',\n",
       "       'SHOPPER_TYP', 'SOHO_KZ', 'VERS_TYP', 'ZABEOTYP', 'ANZ_PERSONEN',\n",
       "       'ANZ_TITEL', 'HH_EINKOMMEN_SCORE', 'W_KEIT_KIND_HH', 'WOHNDAUER_2008',\n",
       "       'ANZ_HAUSHALTE_AKTIV', 'ANZ_HH_TITEL', 'GEBAEUDETYP', 'KONSUMNAEHE',\n",
       "       'MIN_GEBAEUDEJAHR', 'OST_WEST_KZ', 'WOHNLAGE', 'CAMEO_DEUG_2015',\n",
       "       'CAMEO_DEU_2015', 'CAMEO_INTL_2015', 'KBA05_ANTG1', 'KBA05_ANTG2',\n",
       "       'KBA05_ANTG3', 'KBA05_ANTG4', 'KBA05_GBZ', 'BALLRAUM', 'EWDICHTE',\n",
       "       'INNENSTADT', 'GEBAEUDETYP_RASTER', 'KKK', 'MOBI_REGIO',\n",
       "       'ONLINE_AFFINITAET', 'REGIOTYP', 'KBA13_ANZAHL_PKW', 'PLZ8_ANTG1',\n",
       "       'PLZ8_ANTG2', 'PLZ8_ANTG3', 'PLZ8_ANTG4', 'PLZ8_BAUMAX', 'PLZ8_HHZ',\n",
       "       'PLZ8_GBZ', 'ARBEIT', 'ORTSGR_KLS9', 'RELAT_AB'],\n",
       "      dtype='object')"
      ]
     },
     "execution_count": 157,
     "metadata": {},
     "output_type": "execute_result"
    }
   ],
   "source": [
    "# Compare the distribution of values for at least five columns where there are\n",
    "# no or few missing values, between the two subsets.\n",
    "\n",
    "below_thresold.columns"
   ]
  },
  {
   "cell_type": "code",
   "execution_count": 158,
   "metadata": {},
   "outputs": [
    {
     "data": {
      "text/plain": [
       "Index(['AGER_TYP', 'GEBURTSJAHR', 'TITEL_KZ', 'ALTER_HH', 'KK_KUNDENTYP',\n",
       "       'KBA05_BAUMAX'],\n",
       "      dtype='object')"
      ]
     },
     "execution_count": 158,
     "metadata": {},
     "output_type": "execute_result"
    }
   ],
   "source": [
    "above_thresold.columns"
   ]
  },
  {
   "cell_type": "code",
   "execution_count": 159,
   "metadata": {},
   "outputs": [
    {
     "data": {
      "image/png": "[encoded data removed]",
      "text/plain": [
       "<Figure size 1000x400 with 2 Axes>"
      ]
     },
     "metadata": {},
     "output_type": "display_data"
    }
   ],
   "source": [
    "comparison_plot('ALTERSKATEGORIE_GROB',below_thresold,'AGER_TYP',above_thresold)"
   ]
  },
  {
   "cell_type": "code",
   "execution_count": 160,
   "metadata": {},
   "outputs": [
    {
     "data": {
      "image/png": "[encoded data removed]",
      "text/plain": [
       "<Figure size 1000x400 with 2 Axes>"
      ]
     },
     "metadata": {},
     "output_type": "display_data"
    }
   ],
   "source": [
    "comparison_plot('ALTERSKATEGORIE_GROB',below_thresold,'TITEL_KZ',above_thresold)"
   ]
  },
  {
   "cell_type": "code",
   "execution_count": 161,
   "metadata": {},
   "outputs": [
    {
     "data": {
      "image/png": "[encoded data removed]",
      "text/plain": [
       "<Figure size 1000x400 with 2 Axes>"
      ]
     },
     "metadata": {},
     "output_type": "display_data"
    }
   ],
   "source": [
    "comparison_plot('SOHO_KZ',below_thresold,'GEBURTSJAHR',above_thresold)"
   ]
  },
  {
   "cell_type": "code",
   "execution_count": 162,
   "metadata": {},
   "outputs": [
    {
     "data": {
      "image/png": "[encoded data removed]",
      "text/plain": [
       "<Figure size 1000x400 with 2 Axes>"
      ]
     },
     "metadata": {},
     "output_type": "display_data"
    }
   ],
   "source": [
    "comparison_plot('KKK',below_thresold,'ALTER_HH',above_thresold)"
   ]
  },
  {
   "cell_type": "code",
   "execution_count": 163,
   "metadata": {},
   "outputs": [
    {
     "data": {
      "image/png": "[encoded data removed]",
      "text/plain": [
       "<Figure size 1000x400 with 2 Axes>"
      ]
     },
     "metadata": {},
     "output_type": "display_data"
    }
   ],
   "source": [
    "comparison_plot('REGIOTYP',below_thresold,'KK_KUNDENTYP',above_thresold)"
   ]
  },
  {
   "cell_type": "code",
   "execution_count": 164,
   "metadata": {},
   "outputs": [
    {
     "data": {
      "image/png": "[encoded data removed]",
      "text/plain": [
       "<Figure size 1000x400 with 2 Axes>"
      ]
     },
     "metadata": {},
     "output_type": "display_data"
    }
   ],
   "source": [
    "comparison_plot('ANZ_HH_TITEL',below_thresold,'KBA05_BAUMAX',above_thresold)"
   ]
  },
  {
   "cell_type": "markdown",
   "metadata": {},
   "source": [
    "#### Discussion 1.1.3: Assess Missing Data in Each Row\n",
    "\n",
    "(Double-click this cell and replace this text with your own text, reporting your observations regarding missing data in rows. Are the data with lots of missing values are qualitatively different from data with few or no missing values?)"
   ]
  },
  {
   "cell_type": "markdown",
   "metadata": {},
   "source": [
    "Except TITEL_KZ column has a bit different so we can keep it as special. Rest of the distribution between the many missing data vs the few or no missing values looked more or else similar with just 4 or 6 times more missing data. "
   ]
  },
  {
   "cell_type": "markdown",
   "metadata": {},
   "source": [
    "### Step 1.2: Select and Re-Encode Features\n",
    "\n",
    "Checking for missing data isn't the only way in which you can prepare a dataset for analysis. Since the unsupervised learning techniques to be used will only work on data that is encoded numerically, you need to make a few encoding changes or additional assumptions to be able to make progress. In addition, while almost all of the values in the dataset are encoded using numbers, not all of them represent numeric values. Check the third column of the feature summary (`feat_info`) for a summary of types of measurement.\n",
    "- For numeric and interval data, these features can be kept without changes.\n",
    "- Most of the variables in the dataset are ordinal in nature. While ordinal values may technically be non-linear in spacing, make the simplifying assumption that the ordinal variables can be treated as being interval in nature (that is, kept without any changes).\n",
    "- Special handling may be necessary for the remaining two variable types: categorical, and 'mixed'.\n",
    "\n",
    "In the first two parts of this sub-step, you will perform an investigation of the categorical and mixed-type features and make a decision on each of them, whether you will keep, drop, or re-encode each. Then, in the last part, you will create a new data frame with only the selected and engineered columns.\n",
    "\n",
    "Data wrangling is often the trickiest part of the data analysis process, and there's a lot of it to be done here. But stick with it: once you're done with this step, you'll be ready to get to the machine learning parts of the project!"
   ]
  },
  {
   "cell_type": "code",
   "execution_count": 165,
   "metadata": {},
   "outputs": [],
   "source": [
    "wo_outliers_df = processing_df.drop(columns = ['TITEL_KZ'])"
   ]
  },
  {
   "cell_type": "code",
   "execution_count": 166,
   "metadata": {},
   "outputs": [
    {
     "data": {
      "text/plain": [
       "type\n",
       "ordinal        49\n",
       "categorical    21\n",
       "numeric         7\n",
       "mixed           7\n",
       "interval        1\n",
       "Name: count, dtype: int64"
      ]
     },
     "execution_count": 166,
     "metadata": {},
     "output_type": "execute_result"
    }
   ],
   "source": [
    "# How many features are there of each data type?\n",
    "\n",
    "features_df['type'].value_counts()"
   ]
  },
  {
   "cell_type": "markdown",
   "metadata": {},
   "source": [
    "#### Step 1.2.1: Re-Encode Categorical Features\n",
    "\n",
    "For categorical data, you would ordinarily need to encode the levels as dummy variables. Depending on the number of categories, perform one of the following:\n",
    "- For binary (two-level) categoricals that take numeric values, you can keep them without needing to do anything.\n",
    "- There is one binary variable that takes on non-numeric values. For this one, you need to re-encode the values as numbers or create a dummy variable.\n",
    "- For multi-level categoricals (three or more values), you can choose to encode the values using multiple dummy variables (e.g. via [OneHotEncoder](http://scikit-learn.org/stable/modules/generated/sklearn.preprocessing.OneHotEncoder.html)), or (to keep things straightforward) just drop them from the analysis. As always, document your choices in the Discussion section."
   ]
  },
  {
   "cell_type": "code",
   "execution_count": 167,
   "metadata": {},
   "outputs": [],
   "source": [
    "#LP_FAMILIE_FEIN and LP_FAMILIE_GROB, or CAMEO_DEUG_2015 and CAMEO_DEU_2015 are columns with more or else containing the same information\n",
    "# seeing these columns I feel LP_FAMILIE_GROB and CAMEO_DEUG_2015 are better since it contains less ordinals and explains data precise"
   ]
  },
  {
   "cell_type": "code",
   "execution_count": 168,
   "metadata": {},
   "outputs": [],
   "source": [
    "drop_duplicates_df = wo_outliers_df.drop(['LP_FAMILIE_FEIN','CAMEO_DEUG_2015'],axis= 1)"
   ]
  },
  {
   "cell_type": "code",
   "execution_count": 169,
   "metadata": {},
   "outputs": [
    {
     "data": {
      "text/plain": [
       "(891221, 82)"
      ]
     },
     "execution_count": 169,
     "metadata": {},
     "output_type": "execute_result"
    }
   ],
   "source": [
    "drop_duplicates_df.shape"
   ]
  },
  {
   "cell_type": "code",
   "execution_count": 170,
   "metadata": {
    "scrolled": true
   },
   "outputs": [],
   "source": [
    "# for columns containing numeric categorical data, we would be converting them into ordinal data using encoder\n",
    "encoding_list = []\n",
    "for col in features_df[features_df['type'] == 'categorical'].attribute.tolist():\n",
    "    if (col in drop_duplicates_df.columns):\n",
    "        if len(drop_duplicates_df[col].dropna().unique()) > 2:\n",
    "            encoding_list.append(col)"
   ]
  },
  {
   "cell_type": "code",
   "execution_count": 171,
   "metadata": {},
   "outputs": [],
   "source": [
    "from collections import Counter\n",
    "\n",
    "# i want to introduce a new technique explained by the mentor so that the encoding would make less sparse data .\n",
    "def categories_for_encoding(data,col,threshold=0.6):\n",
    "    data = data.dropna()\n",
    "    threshold_value = int(len(data)*threshold)\n",
    "    counts = Counter(data)\n",
    "    s = 0\n",
    "    categories = list()\n",
    "    for key,value in counts.most_common():\n",
    "        s += counts[key]\n",
    "        categories.append(key)\n",
    "        if s > threshold_value:\n",
    "            break\n",
    "    categories.append('other_'+col)\n",
    "    return categories"
   ]
  },
  {
   "cell_type": "code",
   "execution_count": 172,
   "metadata": {},
   "outputs": [
    {
     "name": "stdout",
     "output_type": "stream",
     "text": [
      "AGER_TYP\n",
      "CJT_GESAMTTYP\n",
      "FINANZTYP\n",
      "GFK_URLAUBERTYP\n",
      "[2. 3. 1. 5. 4.]   -->  [1.0, 5.0, 'other_LP_FAMILIE_GROB']\n",
      "LP_STATUS_FEIN\n",
      "[1. 2. 4. 5. 3.]   -->  [1.0, 2.0, 'other_LP_STATUS_GROB']\n",
      "[1. 3. 2.]   -->  [1.0, 'other_NATIONALITAET_KZ']\n",
      "SHOPPER_TYP\n",
      "ZABEOTYP\n",
      "KK_KUNDENTYP\n",
      "GEBAEUDETYP\n",
      "CAMEO_DEU_2015\n"
     ]
    }
   ],
   "source": [
    "# for multilevel cateogeries if I can reduce the encoding list than I will keep or else drop for sake of analysis\n",
    "\n",
    "for col in encoding_list:\n",
    "    actual_list = drop_duplicates_df[col].dropna().unique()\n",
    "    new_list = categories_for_encoding(drop_duplicates_df[col],col)\n",
    "    if (len(new_list) < len(actual_list)) & (len(actual_list) <= 5):\n",
    "        #keep\n",
    "        print(actual_list,'  --> ',new_list)\n",
    "        drop_duplicates_df[col].apply(lambda x :  x if x in new_list else new_list[-1])\n",
    "    else:\n",
    "        print(col)\n",
    "        drop_duplicates_df.drop([col],axis=1, inplace = True)"
   ]
  },
  {
   "cell_type": "code",
   "execution_count": 173,
   "metadata": {},
   "outputs": [],
   "source": [
    "new_encoding_list = ['LP_STATUS_GROB','NATIONALITAET_KZ','LP_FAMILIE_GROB']"
   ]
  },
  {
   "cell_type": "code",
   "execution_count": 174,
   "metadata": {},
   "outputs": [],
   "source": [
    "encoding_df = pd.DataFrame()\n",
    "\n",
    "for each_col in new_encoding_list:\n",
    "    df = pd.DataFrame(encoder.fit_transform(drop_duplicates_df[[each_col]]),\n",
    "             columns = encoder.get_feature_names_out([each_col])\n",
    "            )\n",
    "    encoding_df = pd.concat([encoding_df,df],axis = 1)"
   ]
  },
  {
   "cell_type": "code",
   "execution_count": 175,
   "metadata": {},
   "outputs": [],
   "source": [
    "# dummies_df = pd.DataFrame()\n",
    "\n",
    "# for each_col in ['CAMEO_DEU_2015','CAMEO_DEUG_2015']:\n",
    "#     df = pd.get_dummies(wo_outliers_df[each_col])\n",
    "#     dummies_df = pd.concat([dummies_df,df],axis=1)"
   ]
  },
  {
   "cell_type": "code",
   "execution_count": 176,
   "metadata": {},
   "outputs": [],
   "source": [
    "temp_df = drop_duplicates_df.copy()\n",
    "\n",
    "new_temp_df = pd.concat([temp_df,encoding_df],axis = 1)\n",
    "\n",
    "new_temp_df.drop(columns = new_encoding_list, inplace=True)"
   ]
  },
  {
   "cell_type": "markdown",
   "metadata": {},
   "source": [
    "#### Discussion 1.2.1: Re-Encode Categorical Features\n",
    "\n",
    "(Double-click this cell and replace this text with your own text, reporting your findings and decisions regarding categorical features. Which ones did you keep, which did you drop, and what engineering steps did you perform?)"
   ]
  },
  {
   "cell_type": "markdown",
   "metadata": {},
   "source": [
    "I kept all the categorical features for now as am still curious whether they might yield any help with the classification later on. I have performed one hot encoding for all the numeric categorical columns and performed get dummies for the ones with string data"
   ]
  },
  {
   "cell_type": "markdown",
   "metadata": {},
   "source": [
    "#### Step 1.2.2: Engineer Mixed-Type Features\n",
    "\n",
    "There are a handful of features that are marked as \"mixed\" in the feature summary that require special treatment in order to be included in the analysis. There are two in particular that deserve attention; the handling of the rest are up to your own choices:\n",
    "- \"PRAEGENDE_JUGENDJAHRE\" combines information on three dimensions: generation by decade, movement (mainstream vs. avantgarde), and nation (east vs. west). While there aren't enough levels to disentangle east from west, you should create two new variables to capture the other two dimensions: an interval-type variable for decade, and a binary variable for movement.\n",
    "- \"CAMEO_INTL_2015\" combines information on two axes: wealth and life stage. Break up the two-digit codes by their 'tens'-place and 'ones'-place digits into two new ordinal variables (which, for the purposes of this project, is equivalent to just treating them as their raw numeric values).\n",
    "- If you decide to keep or engineer new features around the other mixed-type features, make sure you note your steps in the Discussion section.\n",
    "\n",
    "Be sure to check `Data_Dictionary.md` for the details needed to finish these tasks."
   ]
  },
  {
   "cell_type": "code",
   "execution_count": 177,
   "metadata": {},
   "outputs": [
    {
     "name": "stdout",
     "output_type": "stream",
     "text": [
      "Requirement already satisfied: markdown2 in /Library/Frameworks/Python.framework/Versions/3.11/lib/python3.11/site-packages (2.4.12)\n",
      "\n",
      "\u001b[1m[\u001b[0m\u001b[34;49mnotice\u001b[0m\u001b[1;39;49m]\u001b[0m\u001b[39;49m A new release of pip is available: \u001b[0m\u001b[31;49m23.3.1\u001b[0m\u001b[39;49m -> \u001b[0m\u001b[32;49m23.3.2\u001b[0m\n",
      "\u001b[1m[\u001b[0m\u001b[34;49mnotice\u001b[0m\u001b[1;39;49m]\u001b[0m\u001b[39;49m To update, run: \u001b[0m\u001b[32;49mpip install --upgrade pip\u001b[0m\n"
     ]
    }
   ],
   "source": [
    "!pip install markdown2"
   ]
  },
  {
   "cell_type": "code",
   "execution_count": 178,
   "metadata": {},
   "outputs": [],
   "source": [
    "import markdown2\n",
    "\n",
    "def read_md_file(file_path):\n",
    "    \n",
    "    with open(file_path, 'r', encoding='utf-8') as file:\n",
    "        md_content = file.read()\n",
    "        \n",
    "    html_content = markdown2.markdown(md_content)\n",
    "    \n",
    "    return html_content"
   ]
  },
  {
   "cell_type": "code",
   "execution_count": 179,
   "metadata": {},
   "outputs": [],
   "source": [
    "html_output = read_md_file('Data_Dictionary.md')"
   ]
  },
  {
   "cell_type": "code",
   "execution_count": 180,
   "metadata": {},
   "outputs": [],
   "source": [
    "#print(html_output)"
   ]
  },
  {
   "cell_type": "markdown",
   "metadata": {},
   "source": [
    "1.18. PRAEGENDE_JUGENDJAHRE</h3>\n",
    "\n",
    "<p>Dominating movement of person's youth (avantgarde vs. mainstream; east vs. west)\n",
    "\n",
    "- -1: unknown\n",
    "-  0: unknown\n",
    "-  1: 40s - war years (Mainstream, E+W)\n",
    "-  2: 40s - reconstruction years (Avantgarde, E+W)\n",
    "-  3: 50s - economic miracle (Mainstream, E+W)\n",
    "-  4: 50s - milk bar / Individualisation (Avantgarde, E+W)\n",
    "-  5: 60s - economic miracle (Mainstream, E+W)\n",
    "-  6: 60s - generation 68 / student protestors (Avantgarde, W)\n",
    "-  7: 60s - opponents to the building of the Wall (Avantgarde, E)\n",
    "-  8: 70s - family orientation (Mainstream, E+W)\n",
    "-  9: 70s - peace movement (Avantgarde, E+W)\n",
    "- 10: 80s - Generation Golf (Mainstream, W)\n",
    "- 11: 80s - ecological awareness (Avantgarde, W)\n",
    "- 12: 80s - FDJ / communist party youth organisation (Mainstream, E)\n",
    "- 13: 80s - Swords into ploughshares (Avantgarde, E)\n",
    "- 14: 90s - digital media kids (Mainstream, E+W)\n",
    "- 15: 90s - ecological awareness (Avantgarde, E+W)</p>"
   ]
  },
  {
   "cell_type": "code",
   "execution_count": 181,
   "metadata": {},
   "outputs": [],
   "source": [
    "#\"PRAEGENDE_JUGENDJAHRE\" combines information on three dimensions: \n",
    "# generation by decade, \n",
    "# movement (mainstream vs. avantgarde), \n",
    "# and nation (east vs. west). \n",
    "# other two dimensions: an interval-type variable for decade, and a binary variable for movement.\n",
    "\n",
    "# [1,3,5,8,10,12,14] - Mainstream\n",
    "# [2,4,6,7,9,11,13,15] - Avantgarde\n",
    "# np.nan - Unknown \n",
    "\n",
    "# Decade\n",
    "# [1,2] - 40s\n",
    "# [3,4] - 50s\n",
    "# [5-7] - 60s\n",
    "# [8,9] - 70s\n",
    "# [10-13] - 80s\n",
    "# [14-15] - 90s"
   ]
  },
  {
   "cell_type": "code",
   "execution_count": 182,
   "metadata": {},
   "outputs": [],
   "source": [
    "def movement(value):\n",
    "    if value in [1,3,5,8,10,12,14]:\n",
    "        # 'mainstream' \n",
    "        return 0\n",
    "    elif value in [2,4,6,7,9,11,13,15]:\n",
    "        # 'avantgarde'\n",
    "        return 1\n",
    "    else:\n",
    "        # 'unknown'\n",
    "        return -1"
   ]
  },
  {
   "cell_type": "code",
   "execution_count": 183,
   "metadata": {},
   "outputs": [],
   "source": [
    "def generation_by_decade(value):\n",
    "    if value in [1,2]:\n",
    "        return 40\n",
    "    elif value in [3,4]:\n",
    "        return 50\n",
    "    elif value in [5,6,7]:\n",
    "        return 60\n",
    "    elif value in [8,9]:\n",
    "        return 70\n",
    "    elif value in [10,11,12,13]:\n",
    "        return 80\n",
    "    elif value in [14,15]:\n",
    "        return 90\n",
    "    else:\n",
    "        return value"
   ]
  },
  {
   "cell_type": "code",
   "execution_count": 184,
   "metadata": {},
   "outputs": [],
   "source": [
    "def generate_new_variables(df):\n",
    "    df['movement'] = df['PRAEGENDE_JUGENDJAHRE'].apply(lambda x: movement(x))\n",
    "    df['generation_by_decade'] = df['PRAEGENDE_JUGENDJAHRE'].apply(lambda x: generation_by_decade(x))\n",
    "    \n",
    "    return df"
   ]
  },
  {
   "cell_type": "code",
   "execution_count": 185,
   "metadata": {},
   "outputs": [
    {
     "data": {
      "text/plain": [
       "(891221, 82)"
      ]
     },
     "execution_count": 185,
     "metadata": {},
     "output_type": "execute_result"
    }
   ],
   "source": [
    "new_temp_df.shape # we did further feature scaling down"
   ]
  },
  {
   "cell_type": "code",
   "execution_count": 186,
   "metadata": {},
   "outputs": [],
   "source": [
    "after_pra_df = generate_new_variables(new_temp_df)"
   ]
  },
  {
   "cell_type": "code",
   "execution_count": 187,
   "metadata": {},
   "outputs": [
    {
     "data": {
      "text/html": [
       "<div>\n",
       "<style scoped>\n",
       "    .dataframe tbody tr th:only-of-type {\n",
       "        vertical-align: middle;\n",
       "    }\n",
       "\n",
       "    .dataframe tbody tr th {\n",
       "        vertical-align: top;\n",
       "    }\n",
       "\n",
       "    .dataframe thead th {\n",
       "        text-align: right;\n",
       "    }\n",
       "</style>\n",
       "<table border=\"1\" class=\"dataframe\">\n",
       "  <thead>\n",
       "    <tr style=\"text-align: right;\">\n",
       "      <th></th>\n",
       "      <th>PRAEGENDE_JUGENDJAHRE</th>\n",
       "      <th>movement</th>\n",
       "      <th>generation_by_decade</th>\n",
       "    </tr>\n",
       "  </thead>\n",
       "  <tbody>\n",
       "    <tr>\n",
       "      <th>0</th>\n",
       "      <td>NaN</td>\n",
       "      <td>-1</td>\n",
       "      <td>NaN</td>\n",
       "    </tr>\n",
       "    <tr>\n",
       "      <th>1</th>\n",
       "      <td>14.0</td>\n",
       "      <td>0</td>\n",
       "      <td>90.0</td>\n",
       "    </tr>\n",
       "    <tr>\n",
       "      <th>2</th>\n",
       "      <td>15.0</td>\n",
       "      <td>1</td>\n",
       "      <td>90.0</td>\n",
       "    </tr>\n",
       "    <tr>\n",
       "      <th>3</th>\n",
       "      <td>8.0</td>\n",
       "      <td>0</td>\n",
       "      <td>70.0</td>\n",
       "    </tr>\n",
       "    <tr>\n",
       "      <th>4</th>\n",
       "      <td>8.0</td>\n",
       "      <td>0</td>\n",
       "      <td>70.0</td>\n",
       "    </tr>\n",
       "    <tr>\n",
       "      <th>5</th>\n",
       "      <td>3.0</td>\n",
       "      <td>0</td>\n",
       "      <td>50.0</td>\n",
       "    </tr>\n",
       "    <tr>\n",
       "      <th>6</th>\n",
       "      <td>10.0</td>\n",
       "      <td>0</td>\n",
       "      <td>80.0</td>\n",
       "    </tr>\n",
       "    <tr>\n",
       "      <th>7</th>\n",
       "      <td>8.0</td>\n",
       "      <td>0</td>\n",
       "      <td>70.0</td>\n",
       "    </tr>\n",
       "    <tr>\n",
       "      <th>8</th>\n",
       "      <td>11.0</td>\n",
       "      <td>1</td>\n",
       "      <td>80.0</td>\n",
       "    </tr>\n",
       "    <tr>\n",
       "      <th>9</th>\n",
       "      <td>15.0</td>\n",
       "      <td>1</td>\n",
       "      <td>90.0</td>\n",
       "    </tr>\n",
       "    <tr>\n",
       "      <th>10</th>\n",
       "      <td>3.0</td>\n",
       "      <td>0</td>\n",
       "      <td>50.0</td>\n",
       "    </tr>\n",
       "    <tr>\n",
       "      <th>11</th>\n",
       "      <td>NaN</td>\n",
       "      <td>-1</td>\n",
       "      <td>NaN</td>\n",
       "    </tr>\n",
       "    <tr>\n",
       "      <th>12</th>\n",
       "      <td>8.0</td>\n",
       "      <td>0</td>\n",
       "      <td>70.0</td>\n",
       "    </tr>\n",
       "    <tr>\n",
       "      <th>13</th>\n",
       "      <td>15.0</td>\n",
       "      <td>1</td>\n",
       "      <td>90.0</td>\n",
       "    </tr>\n",
       "    <tr>\n",
       "      <th>14</th>\n",
       "      <td>NaN</td>\n",
       "      <td>-1</td>\n",
       "      <td>NaN</td>\n",
       "    </tr>\n",
       "    <tr>\n",
       "      <th>15</th>\n",
       "      <td>5.0</td>\n",
       "      <td>0</td>\n",
       "      <td>60.0</td>\n",
       "    </tr>\n",
       "    <tr>\n",
       "      <th>16</th>\n",
       "      <td>14.0</td>\n",
       "      <td>0</td>\n",
       "      <td>90.0</td>\n",
       "    </tr>\n",
       "    <tr>\n",
       "      <th>17</th>\n",
       "      <td>NaN</td>\n",
       "      <td>-1</td>\n",
       "      <td>NaN</td>\n",
       "    </tr>\n",
       "    <tr>\n",
       "      <th>18</th>\n",
       "      <td>10.0</td>\n",
       "      <td>0</td>\n",
       "      <td>80.0</td>\n",
       "    </tr>\n",
       "    <tr>\n",
       "      <th>19</th>\n",
       "      <td>9.0</td>\n",
       "      <td>1</td>\n",
       "      <td>70.0</td>\n",
       "    </tr>\n",
       "  </tbody>\n",
       "</table>\n",
       "</div>"
      ],
      "text/plain": [
       "    PRAEGENDE_JUGENDJAHRE  movement  generation_by_decade\n",
       "0                     NaN        -1                   NaN\n",
       "1                    14.0         0                  90.0\n",
       "2                    15.0         1                  90.0\n",
       "3                     8.0         0                  70.0\n",
       "4                     8.0         0                  70.0\n",
       "5                     3.0         0                  50.0\n",
       "6                    10.0         0                  80.0\n",
       "7                     8.0         0                  70.0\n",
       "8                    11.0         1                  80.0\n",
       "9                    15.0         1                  90.0\n",
       "10                    3.0         0                  50.0\n",
       "11                    NaN        -1                   NaN\n",
       "12                    8.0         0                  70.0\n",
       "13                   15.0         1                  90.0\n",
       "14                    NaN        -1                   NaN\n",
       "15                    5.0         0                  60.0\n",
       "16                   14.0         0                  90.0\n",
       "17                    NaN        -1                   NaN\n",
       "18                   10.0         0                  80.0\n",
       "19                    9.0         1                  70.0"
      ]
     },
     "execution_count": 187,
     "metadata": {},
     "output_type": "execute_result"
    }
   ],
   "source": [
    "# Investigate \"PRAEGENDE_JUGENDJAHRE\" and engineer two new variables.\n",
    "\n",
    "after_pra_df[['PRAEGENDE_JUGENDJAHRE','movement','generation_by_decade']].head(20)\n"
   ]
  },
  {
   "cell_type": "markdown",
   "metadata": {},
   "source": [
    "<h3>4.3. CAMEO<em>INTL</em>2015</h3>\n",
    "\n",
    "<p>German CAMEO: Wealth / Life Stage Typology, mapped to international code\n",
    "\n",
    "- -1: unknown\n",
    "- 11: Wealthy Households - Pre-Family Couples &amp; Singles\n",
    "- 12: Wealthy Households - Young Couples With Children\n",
    "- 13: Wealthy Households - Families With School Age Children\n",
    "- 14: Wealthy Households - Older Families &amp;  Mature Couples\n",
    "- 15: Wealthy Households - Elders In Retirement\n",
    "- 21: Prosperous Households - Pre-Family Couples &amp; Singles\n",
    "- 22: Prosperous Households - Young Couples With Children\n",
    "- 23: Prosperous Households - Families With School Age Children\n",
    "- 24: Prosperous Households - Older Families &amp; Mature Couples\n",
    "- 25: Prosperous Households - Elders In Retirement\n",
    "- 31: Comfortable Households - Pre-Family Couples &amp; Singles\n",
    "- 32: Comfortable Households - Young Couples With Children\n",
    "- 33: Comfortable Households - Families With School Age Children\n",
    "- 34: Comfortable Households - Older Families &amp; Mature Couples\n",
    "- 35: Comfortable Households - Elders In Retirement\n",
    "- 41: Less Affluent Households - Pre-Family Couples &amp; Singles\n",
    "- 42: Less Affluent Households - Young Couples With Children\n",
    "- 43: Less Affluent Households - Families With School Age Children\n",
    "- 44: Less Affluent Households - Older Families &amp; Mature Couples\n",
    "- 45: Less Affluent Households - Elders In Retirement\n",
    "- 51: Poorer Households - Pre-Family Couples &amp; Singles\n",
    "- 52: Poorer Households - Young Couples With Children\n",
    "- 53: Poorer Households - Families With School Age Children\n",
    "- 54: Poorer Households - Older Families &amp; Mature Couples\n",
    "- 55: Poorer Households - Elders In Retirement\n",
    "- XX: unknown</p>\n",
    "\n",
    "<hr />\n"
   ]
  },
  {
   "cell_type": "code",
   "execution_count": 188,
   "metadata": {},
   "outputs": [],
   "source": [
    "# \"CAMEO_INTL_2015\" combines information on two axes: wealth and life stage"
   ]
  },
  {
   "cell_type": "code",
   "execution_count": 189,
   "metadata": {},
   "outputs": [],
   "source": [
    "def generate_wealth_and_life_stage(df):\n",
    "    df['CAMEO_INTL_2015'] = df['CAMEO_INTL_2015'].fillna(-1)\n",
    "    df['CAMEO_INTL_2015'] = df['CAMEO_INTL_2015'].astype(str)\n",
    "    df['CAMEO_INTL_2015'] = df['CAMEO_INTL_2015'].apply(lambda x: list(x))\n",
    "    \n",
    "    df[['wealth','life_stage']] = df['CAMEO_INTL_2015'].astype(str).apply(lambda x: x.strip('][').replace('-','1').replace('1','-1')).str.split(',',n=1,expand=True)\n",
    "    \n",
    "    return df  "
   ]
  },
  {
   "cell_type": "code",
   "execution_count": 190,
   "metadata": {},
   "outputs": [],
   "source": [
    "result_df = generate_wealth_and_life_stage(after_pra_df)"
   ]
  },
  {
   "cell_type": "code",
   "execution_count": 191,
   "metadata": {},
   "outputs": [],
   "source": [
    "def string_to_int(string_value): \n",
    "    string_value = string_value.replace(\"'\",\"\")\n",
    "    try:\n",
    "        return int(string_value)\n",
    "    except ValueError:\n",
    "        return np.nan"
   ]
  },
  {
   "cell_type": "code",
   "execution_count": 192,
   "metadata": {},
   "outputs": [],
   "source": [
    "for col in ['wealth','life_stage']:\n",
    "    result_df[col] = result_df[col].apply(lambda x: string_to_int(x))    "
   ]
  },
  {
   "cell_type": "code",
   "execution_count": 193,
   "metadata": {},
   "outputs": [
    {
     "data": {
      "text/html": [
       "<div>\n",
       "<style scoped>\n",
       "    .dataframe tbody tr th:only-of-type {\n",
       "        vertical-align: middle;\n",
       "    }\n",
       "\n",
       "    .dataframe tbody tr th {\n",
       "        vertical-align: top;\n",
       "    }\n",
       "\n",
       "    .dataframe thead th {\n",
       "        text-align: right;\n",
       "    }\n",
       "</style>\n",
       "<table border=\"1\" class=\"dataframe\">\n",
       "  <thead>\n",
       "    <tr style=\"text-align: right;\">\n",
       "      <th></th>\n",
       "      <th>CAMEO_INTL_2015</th>\n",
       "      <th>wealth</th>\n",
       "      <th>life_stage</th>\n",
       "    </tr>\n",
       "  </thead>\n",
       "  <tbody>\n",
       "    <tr>\n",
       "      <th>0</th>\n",
       "      <td>[-, 1]</td>\n",
       "      <td>-1</td>\n",
       "      <td>-1</td>\n",
       "    </tr>\n",
       "    <tr>\n",
       "      <th>1</th>\n",
       "      <td>[5, 1]</td>\n",
       "      <td>5</td>\n",
       "      <td>-1</td>\n",
       "    </tr>\n",
       "    <tr>\n",
       "      <th>2</th>\n",
       "      <td>[2, 4]</td>\n",
       "      <td>2</td>\n",
       "      <td>4</td>\n",
       "    </tr>\n",
       "    <tr>\n",
       "      <th>3</th>\n",
       "      <td>[1, 2]</td>\n",
       "      <td>-1</td>\n",
       "      <td>2</td>\n",
       "    </tr>\n",
       "    <tr>\n",
       "      <th>4</th>\n",
       "      <td>[4, 3]</td>\n",
       "      <td>4</td>\n",
       "      <td>3</td>\n",
       "    </tr>\n",
       "    <tr>\n",
       "      <th>5</th>\n",
       "      <td>[5, 4]</td>\n",
       "      <td>5</td>\n",
       "      <td>4</td>\n",
       "    </tr>\n",
       "    <tr>\n",
       "      <th>6</th>\n",
       "      <td>[2, 2]</td>\n",
       "      <td>2</td>\n",
       "      <td>2</td>\n",
       "    </tr>\n",
       "    <tr>\n",
       "      <th>7</th>\n",
       "      <td>[1, 4]</td>\n",
       "      <td>-1</td>\n",
       "      <td>4</td>\n",
       "    </tr>\n",
       "    <tr>\n",
       "      <th>8</th>\n",
       "      <td>[1, 3]</td>\n",
       "      <td>-1</td>\n",
       "      <td>3</td>\n",
       "    </tr>\n",
       "    <tr>\n",
       "      <th>9</th>\n",
       "      <td>[1, 5]</td>\n",
       "      <td>-1</td>\n",
       "      <td>5</td>\n",
       "    </tr>\n",
       "  </tbody>\n",
       "</table>\n",
       "</div>"
      ],
      "text/plain": [
       "  CAMEO_INTL_2015  wealth  life_stage\n",
       "0          [-, 1]      -1          -1\n",
       "1          [5, 1]       5          -1\n",
       "2          [2, 4]       2           4\n",
       "3          [1, 2]      -1           2\n",
       "4          [4, 3]       4           3\n",
       "5          [5, 4]       5           4\n",
       "6          [2, 2]       2           2\n",
       "7          [1, 4]      -1           4\n",
       "8          [1, 3]      -1           3\n",
       "9          [1, 5]      -1           5"
      ]
     },
     "execution_count": 193,
     "metadata": {},
     "output_type": "execute_result"
    }
   ],
   "source": [
    "result_df[['CAMEO_INTL_2015','wealth','life_stage']].head(10)"
   ]
  },
  {
   "cell_type": "code",
   "execution_count": 194,
   "metadata": {},
   "outputs": [],
   "source": [
    "mixed_columns = list(features_df[features_df['type'] == 'mixed'].attribute)"
   ]
  },
  {
   "cell_type": "code",
   "execution_count": 195,
   "metadata": {},
   "outputs": [
    {
     "data": {
      "text/plain": [
       "['LP_LEBENSPHASE_FEIN',\n",
       " 'LP_LEBENSPHASE_GROB',\n",
       " 'PRAEGENDE_JUGENDJAHRE',\n",
       " 'WOHNLAGE',\n",
       " 'CAMEO_INTL_2015',\n",
       " 'KBA05_BAUMAX',\n",
       " 'PLZ8_BAUMAX']"
      ]
     },
     "execution_count": 195,
     "metadata": {},
     "output_type": "execute_result"
    }
   ],
   "source": [
    "mixed_columns"
   ]
  },
  {
   "cell_type": "code",
   "execution_count": 196,
   "metadata": {},
   "outputs": [],
   "source": [
    "# dropping LP_LEBENSPHASE_FEIN because LP_LEBENSPHASE_GROB explains precise\n",
    "result_df.drop(['LP_LEBENSPHASE_FEIN','CAMEO_INTL_2015','PRAEGENDE_JUGENDJAHRE'],axis=1,inplace=True)"
   ]
  },
  {
   "cell_type": "markdown",
   "metadata": {},
   "source": [
    "#### Discussion 1.2.2: Engineer Mixed-Type Features\n",
    "\n",
    "(Double-click this cell and replace this text with your own text, reporting your findings and decisions regarding mixed-value features. Which ones did you keep, which did you drop, and what engineering steps did you perform?)"
   ]
  },
  {
   "cell_type": "markdown",
   "metadata": {},
   "source": [
    "I have examined the mixed value features . I have performed the requested feature engineering for CAMEO_INTL_2015 and PRAEGENDE_JUGENDJAHRE. I am dropping LP_LEBENSPHASE_FEIN because LP_LEBENSPHASE_GROB explains precisely the same thing. The WOHNLAGE explained about the neighbourhood and the remaining BAUMAX suffix columns explained about the cell information so I kept them to see if they provide us more use later on ."
   ]
  },
  {
   "cell_type": "markdown",
   "metadata": {},
   "source": [
    "#### Step 1.2.3: Complete Feature Selection\n",
    "\n",
    "In order to finish this step up, you need to make sure that your data frame now only has the columns that you want to keep. To summarize, the dataframe should consist of the following:\n",
    "- All numeric, interval, and ordinal type columns from the original dataset.\n",
    "- Binary categorical features (all numerically-encoded).\n",
    "- Engineered features from other multi-level categorical features and mixed features.\n",
    "\n",
    "Make sure that for any new columns that you have engineered, that you've excluded the original columns from the final dataset. Otherwise, their values will interfere with the analysis later on the project. For example, you should not keep \"PRAEGENDE_JUGENDJAHRE\", since its values won't be useful for the algorithm: only the values derived from it in the engineered features you created should be retained. As a reminder, your data should only be from **the subset with few or no missing values**."
   ]
  },
  {
   "cell_type": "code",
   "execution_count": 197,
   "metadata": {},
   "outputs": [],
   "source": [
    "# If there are other re-engineering tasks you need to perform, make sure you\n",
    "# take care of them here. (Dealing with missing data will come in step 2.1.)\n",
    "def OST_WEST_KZ_num(value):\n",
    "    if value == 'W':\n",
    "        return 0\n",
    "    elif value == 'O':\n",
    "        return 1\n",
    "    else:\n",
    "        return value\n",
    "        \n",
    "def movement_num(value):\n",
    "    if value == \"mainstream\":\n",
    "        return 0\n",
    "    elif value == \"avantgarde\":\n",
    "        return 1\n",
    "    else:\n",
    "        return -1"
   ]
  },
  {
   "cell_type": "code",
   "execution_count": 198,
   "metadata": {},
   "outputs": [],
   "source": [
    "# Do whatever you need to in order to ensure that the dataframe only contains\n",
    "# the columns that should be passed to the algorithm functions.\n",
    "\n",
    "#further engineering is done \n",
    "result_df['OST_WEST_KZ'] = result_df['OST_WEST_KZ'].apply(lambda z: OST_WEST_KZ_num(z))\n",
    "\n",
    "result_df['movement'] = result_df['movement'].apply(lambda x: movement_num(x) )"
   ]
  },
  {
   "cell_type": "markdown",
   "metadata": {},
   "source": [
    "### Step 1.3: Create a Cleaning Function\n",
    "\n",
    "Even though you've finished cleaning up the general population demographics data, it's important to look ahead to the future and realize that you'll need to perform the same cleaning steps on the customer demographics data. In this substep, complete the function below to execute the main feature selection, encoding, and re-engineering steps you performed above. Then, when it comes to looking at the customer data in Step 3, you can just run this function on that DataFrame to get the trimmed dataset in a single step."
   ]
  },
  {
   "cell_type": "code",
   "execution_count": 199,
   "metadata": {},
   "outputs": [],
   "source": [
    "def clean_data(df):\n",
    "\n",
    "    # Load in the feature summary file.\n",
    "    features_df = pd.read_csv('AZDIAS_Feature_Summary.csv', delimiter = ';')\n",
    "    \n",
    "    features_df['NA_tags'] = features_df['missing_or_unknown'].apply(string_to_list)\n",
    "\n",
    "    # Identify missing or unknown data values and convert them to NaNs.\n",
    "    processing_df = df.copy()\n",
    "\n",
    "    for j in range(len(features_df)):\n",
    "        column_name = features_df.iloc[j][0]\n",
    "        missing_list = features_df.iloc[j][4]\n",
    "        \n",
    "        processing_df[column_name] =  processing_df[column_name].apply(lambda x: np.nan if x in missing_list else x)\n",
    "\n",
    "    #List of columns having missing more than 20% and only missing values\n",
    "    remove_columns = ['TITEL_KZ']\n",
    "\n",
    "    wo_outliers_df = processing_df.drop(columns = remove_columns)\n",
    "\n",
    "    drop_duplicates_df = wo_outliers_df.drop(['LP_FAMILIE_FEIN','CAMEO_DEUG_2015'],axis= 1)\n",
    "\n",
    "    # for columns containing numeric categorical data, we would be converting them into ordinal data using encoder\n",
    "    encoding_list = []\n",
    "    for col in features_df[features_df['type'] == 'categorical'].attribute.tolist():\n",
    "        if (col in drop_duplicates_df.columns):\n",
    "            if len(drop_duplicates_df[col].dropna().unique()) > 2:\n",
    "                encoding_list.append(col)\n",
    "\n",
    "    remove_cat = ['AGER_TYP','CJT_GESAMTTYP','FINANZTYP','GFK_URLAUBERTYP','LP_STATUS_FEIN','SHOPPER_TYP','ZABEOTYP','KK_KUNDENTYP','GEBAEUDETYP','CAMEO_DEU_2015']\n",
    "\n",
    "    drop_duplicates_df.drop(remove_cat,axis=1, inplace = True)\n",
    "    \n",
    "    drop_duplicates_df['LP_FAMILIE_GROB'].apply(lambda x :  x if x in [1.0, 5.0, 'other_LP_FAMILIE_GROB'] else 'other_LP_FAMILIE_GROB')\n",
    "\n",
    "    drop_duplicates_df['LP_STATUS_GROB'].apply(lambda x :  x if x in [1.0, 2.0, 'other_LP_STATUS_GROB'] else 'other_LP_STATUS_GROB')\n",
    "\n",
    "    drop_duplicates_df['NATIONALITAET_KZ'].apply(lambda x :  x if x in [1.0, 'other_NATIONALITAET_KZ'] else 'other_NATIONALITAET_KZ')\n",
    "\n",
    "    encoding_df = pd.DataFrame()\n",
    "\n",
    "    new_encoding_list = ['LP_FAMILIE_GROB','LP_STATUS_GROB','NATIONALITAET_KZ']\n",
    "\n",
    "    for each_col in new_encoding_list:\n",
    "        df = pd.DataFrame(encoder.fit_transform(drop_duplicates_df[[each_col]]),\n",
    "                 columns = encoder.get_feature_names_out([each_col])\n",
    "                )\n",
    "        encoding_df = pd.concat([encoding_df,df],axis = 1)\n",
    "\n",
    "    temp_df = drop_duplicates_df.copy()\n",
    "\n",
    "    new_temp_df = pd.concat([temp_df,encoding_df],axis = 1)\n",
    "\n",
    "    new_temp_df.drop(columns = new_encoding_list, inplace=True)\n",
    "\n",
    "    after_pra_df = generate_new_variables(new_temp_df)\n",
    "\n",
    "    result_df = generate_wealth_and_life_stage(after_pra_df)\n",
    "\n",
    "    for col in ['wealth','life_stage']:\n",
    "        result_df[col] = result_df[col].apply(lambda x: string_to_int(x))  \n",
    "\n",
    "    # dropping LP_LEBENSPHASE_FEIN because LP_LEBENSPHASE_GROB explains precise\n",
    "    result_df.drop(['LP_LEBENSPHASE_FEIN','CAMEO_INTL_2015','PRAEGENDE_JUGENDJAHRE'],axis=1,inplace=True)\n",
    "\n",
    "    #further engineering is done \n",
    "    result_df['OST_WEST_KZ'] = result_df['OST_WEST_KZ'].apply(lambda z: OST_WEST_KZ_num(z))\n",
    "\n",
    "    result_df['movement'] = result_df['movement'].apply(lambda x: movement_num(x) )\n",
    "\n",
    "    return result_df"
   ]
  },
  {
   "cell_type": "code",
   "execution_count": 200,
   "metadata": {},
   "outputs": [],
   "source": [
    "assert general_df.shape[0] == result_df.shape[0] ,\"clean_data function is not working properly, rows mismatch\" "
   ]
  },
  {
   "cell_type": "code",
   "execution_count": 201,
   "metadata": {},
   "outputs": [],
   "source": [
    "assert result_df.shape[1] == clean_data(general_df).shape[1] ,\"clean_data function is not working properly, columns mismatch\""
   ]
  },
  {
   "cell_type": "markdown",
   "metadata": {},
   "source": [
    "## Step 2: Feature Transformation\n",
    "\n",
    "### Step 2.1: Apply Feature Scaling\n",
    "\n",
    "Before we apply dimensionality reduction techniques to the data, we need to perform feature scaling so that the principal component vectors are not influenced by the natural differences in scale for features. Starting from this part of the project, you'll want to keep an eye on the [API reference page for sklearn](http://scikit-learn.org/stable/modules/classes.html) to help you navigate to all of the classes and functions that you'll need. In this substep, you'll need to check the following:\n",
    "\n",
    "- sklearn requires that data not have missing values in order for its estimators to work properly. So, before applying the scaler to your data, make sure that you've cleaned the DataFrame of the remaining missing values. This can be as simple as just removing all data points with missing data, or applying an [Imputer](https://scikit-learn.org/0.16/modules/generated/sklearn.preprocessing.Imputer.html) to replace all missing values. You might also try a more complicated procedure where you temporarily remove missing values in order to compute the scaling parameters before re-introducing those missing values and applying imputation. Think about how much missing data you have and what possible effects each approach might have on your analysis, and justify your decision in the discussion section below.\n",
    "- For the actual scaling function, a [StandardScaler](http://scikit-learn.org/stable/modules/generated/sklearn.preprocessing.StandardScaler.html) instance is suggested, scaling each feature to mean 0 and standard deviation 1.\n",
    "- For these classes, you can make use of the `.fit_transform()` method to both fit a procedure to the data as well as apply the transformation to the data at the same time. Don't forget to keep the fit sklearn objects handy, since you'll be applying them to the customer demographics data towards the end of the project."
   ]
  },
  {
   "cell_type": "code",
   "execution_count": 202,
   "metadata": {},
   "outputs": [],
   "source": [
    "#perform imputer and then scaling as per mentor suggestion\n",
    "from sklearn.preprocessing import StandardScaler\n",
    "from sklearn.impute import SimpleImputer\n",
    "\n",
    "imputer = SimpleImputer(strategy = 'median')\n",
    "\n",
    "scaler = StandardScaler()"
   ]
  },
  {
   "cell_type": "code",
   "execution_count": 203,
   "metadata": {},
   "outputs": [],
   "source": [
    "def feature_scaling(df):\n",
    "    #first perform imputer \n",
    "    \n",
    "    imputed_df = pd.DataFrame(imputer.fit_transform(df),columns = df.columns)\n",
    "    #then perform scaler\n",
    "    scaled_values = scaler.fit_transform(imputed_df)\n",
    "    scaled_df = pd.DataFrame(scaled_values,columns = df.columns)\n",
    "    return scaled_df"
   ]
  },
  {
   "cell_type": "code",
   "execution_count": 204,
   "metadata": {},
   "outputs": [],
   "source": [
    "# If you've not yet cleaned the dataset of all NaN values, then investigate and\n",
    "# do that now.\n",
    "\n",
    "# old method\n",
    "\n",
    "# df_no_missing = result_df.dropna()\n",
    "# scaler = StandardScaler()\n",
    "# scaled_values = scaler.fit_transform(df_no_missing)\n",
    "# result_df.iloc[df_no_missing.index,:]= scaled_values\n",
    "\n",
    "# # Apply feature scaling to the general population demographics data.\n",
    "\n",
    "\n",
    "# imputer = SimpleImputer(strategy = 'median')\n",
    "\n",
    "# imputed_df = pd.DataFrame(imputer.fit_transform(result_df), columns = result_df.columns)"
   ]
  },
  {
   "cell_type": "code",
   "execution_count": 205,
   "metadata": {},
   "outputs": [],
   "source": [
    "clean_df = clean_data(general_df)"
   ]
  },
  {
   "cell_type": "code",
   "execution_count": 206,
   "metadata": {},
   "outputs": [],
   "source": [
    "# Apply feature scaling to the general population demographics data.\n",
    "imputed_df = feature_scaling(clean_df)"
   ]
  },
  {
   "cell_type": "code",
   "execution_count": 207,
   "metadata": {},
   "outputs": [
    {
     "data": {
      "text/plain": [
       "(891221, 83)"
      ]
     },
     "execution_count": 207,
     "metadata": {},
     "output_type": "execute_result"
    }
   ],
   "source": [
    "imputed_df.shape"
   ]
  },
  {
   "cell_type": "markdown",
   "metadata": {},
   "source": [
    "### Discussion 2.1: Apply Feature Scaling\n",
    "\n",
    "(Double-click this cell and replace this text with your own text, reporting your decisions regarding feature scaling.)\n",
    "\n",
    "I have performed the Standard Scaler on the non missing values and then added back to the original dataframe. Then applied Imputer technique using median strategy for my feature scaling process."
   ]
  },
  {
   "cell_type": "markdown",
   "metadata": {},
   "source": [
    "### Step 2.2: Perform Dimensionality Reduction\n",
    "\n",
    "On your scaled data, you are now ready to apply dimensionality reduction techniques.\n",
    "\n",
    "- Use sklearn's [PCA](http://scikit-learn.org/stable/modules/generated/sklearn.decomposition.PCA.html) class to apply principal component analysis on the data, thus finding the vectors of maximal variance in the data. To start, you should not set any parameters (so all components are computed) or set a number of components that is at least half the number of features (so there's enough features to see the general trend in variability).\n",
    "- Check out the ratio of variance explained by each principal component as well as the cumulative variance explained. Try plotting the cumulative or sequential values using matplotlib's [`plot()`](https://matplotlib.org/api/_as_gen/matplotlib.pyplot.plot.html) function. Based on what you find, select a value for the number of transformed features you'll retain for the clustering part of the project.\n",
    "- Once you've made a choice for the number of components to keep, make sure you re-fit a PCA instance to perform the decided-on transformation."
   ]
  },
  {
   "cell_type": "code",
   "execution_count": 208,
   "metadata": {},
   "outputs": [],
   "source": [
    "# Apply PCA to the data.\n",
    "from sklearn.decomposition import PCA\n",
    "\n",
    "decomposition_pca = PCA()\n",
    "X_pca = decomposition_pca.fit_transform(imputed_df)"
   ]
  },
  {
   "cell_type": "code",
   "execution_count": 209,
   "metadata": {},
   "outputs": [],
   "source": [
    "explained_variance = decomposition_pca.explained_variance_ratio_"
   ]
  },
  {
   "cell_type": "code",
   "execution_count": 210,
   "metadata": {},
   "outputs": [],
   "source": [
    "#cumulative sum \n",
    "cum_sum = np.cumsum(explained_variance)"
   ]
  },
  {
   "cell_type": "code",
   "execution_count": 211,
   "metadata": {},
   "outputs": [],
   "source": [
    "no_of_features = [i for i in range(1,len(explained_variance)+1)]"
   ]
  },
  {
   "cell_type": "code",
   "execution_count": 212,
   "metadata": {},
   "outputs": [
    {
     "data": {
      "text/plain": [
       "[<matplotlib.lines.Line2D at 0x2af279690>]"
      ]
     },
     "execution_count": 212,
     "metadata": {},
     "output_type": "execute_result"
    },
    {
     "data": {
      "image/png": "[encoded data removed]",
      "text/plain": [
       "<Figure size 640x480 with 1 Axes>"
      ]
     },
     "metadata": {},
     "output_type": "display_data"
    }
   ],
   "source": [
    "fig , ax = plt.subplots()\n",
    "plt.plot(no_of_features,np.round(explained_variance,3),marker = 'o',color = 'b')\n",
    "plt.plot(no_of_features,np.round(cum_sum,3),marker = 'o',color = 'r')"
   ]
  },
  {
   "cell_type": "code",
   "execution_count": 213,
   "metadata": {},
   "outputs": [],
   "source": [
    "# Investigate the variance accounted for by each principal component.\n",
    "\n",
    "# weights = decomposition_pca.components_\n",
    "\n",
    "# ratios = decomposition_pca.explained_variance_ratio_\n",
    "\n",
    "# cumsum = np.cumsum(ratios)\n",
    "\n",
    "# features = [i for i in range(1,len(ratios))]\n",
    "\n",
    "# fig,ax = plt.figure(figsize = (10,6))\n",
    "\n",
    "# ratios.plot(ax = ax, kind='bar')\n",
    "\n",
    "# plt.plot(features,cumsum,marker= 'o',color='b')\n"
   ]
  },
  {
   "cell_type": "code",
   "execution_count": 214,
   "metadata": {},
   "outputs": [
    {
     "data": {
      "text/plain": [
       "array([0.143, 0.256, 0.332, 0.378, 0.42 , 0.452, 0.479, 0.504, 0.527,\n",
       "       0.547, 0.567, 0.584, 0.601, 0.617, 0.632, 0.646, 0.66 , 0.673,\n",
       "       0.686, 0.699, 0.711, 0.724, 0.736, 0.748, 0.759, 0.77 , 0.78 ,\n",
       "       0.79 , 0.8  , 0.809, 0.818, 0.827, 0.835, 0.843, 0.85 , 0.857,\n",
       "       0.864, 0.87 , 0.876, 0.882, 0.888, 0.893, 0.899, 0.904, 0.909,\n",
       "       0.913, 0.918, 0.922, 0.926, 0.93 , 0.934, 0.938, 0.941, 0.944,\n",
       "       0.948, 0.951, 0.954, 0.957, 0.96 , 0.963, 0.965, 0.968, 0.97 ,\n",
       "       0.973, 0.975, 0.977, 0.979, 0.981, 0.983, 0.985, 0.987, 0.988,\n",
       "       0.99 , 0.991, 0.993, 0.994, 0.996, 0.997, 0.998, 0.999, 1.   ,\n",
       "       1.   , 1.   ])"
      ]
     },
     "execution_count": 214,
     "metadata": {},
     "output_type": "execute_result"
    }
   ],
   "source": [
    "np.round(cum_sum,3)"
   ]
  },
  {
   "cell_type": "code",
   "execution_count": 215,
   "metadata": {},
   "outputs": [],
   "source": [
    "# Re-apply PCA to the data while selecting for number of components to retain.\n",
    "decomposition_pca = PCA(27)\n",
    "new_X_pca = decomposition_pca.fit_transform(imputed_df)"
   ]
  },
  {
   "cell_type": "markdown",
   "metadata": {},
   "source": [
    "### Discussion 2.2: Perform Dimensionality Reduction\n",
    "\n",
    "(Double-click this cell and replace this text with your own text, reporting your findings and decisions regarding dimensionality reduction. How many principal components / transformed features are you retaining for the next step of the analysis?)"
   ]
  },
  {
   "cell_type": "markdown",
   "metadata": {},
   "source": [
    "I am choosing 27 principal components as it is able to desribe 78% of the data clearly."
   ]
  },
  {
   "cell_type": "markdown",
   "metadata": {},
   "source": [
    "### Step 2.3: Interpret Principal Components\n",
    "\n",
    "Now that we have our transformed principal components, it's a nice idea to check out the weight of each variable on the first few components to see if they can be interpreted in some fashion.\n",
    "\n",
    "As a reminder, each principal component is a unit vector that points in the direction of highest variance (after accounting for the variance captured by earlier principal components). The further a weight is from zero, the more the principal component is in the direction of the corresponding feature. If two features have large weights of the same sign (both positive or both negative), then increases in one tend expect to be associated with increases in the other. To contrast, features with different signs can be expected to show a negative correlation: increases in one variable should result in a decrease in the other.\n",
    "\n",
    "- To investigate the features, you should map each weight to their corresponding feature name, then sort the features according to weight. The most interesting features for each principal component, then, will be those at the beginning and end of the sorted list. Use the data dictionary document to help you understand these most prominent features, their relationships, and what a positive or negative value on the principal component might indicate.\n",
    "- You should investigate and interpret feature associations from the first three principal components in this substep. To help facilitate this, you should write a function that you can call at any time to print the sorted list of feature weights, for the *i*-th principal component. This might come in handy in the next step of the project, when you interpret the tendencies of the discovered clusters."
   ]
  },
  {
   "cell_type": "code",
   "execution_count": 216,
   "metadata": {},
   "outputs": [],
   "source": [
    "w = decomposition_pca.components_"
   ]
  },
  {
   "cell_type": "code",
   "execution_count": 217,
   "metadata": {},
   "outputs": [
    {
     "data": {
      "text/plain": [
       "(27, 83)"
      ]
     },
     "execution_count": 217,
     "metadata": {},
     "output_type": "execute_result"
    }
   ],
   "source": [
    "w.shape"
   ]
  },
  {
   "cell_type": "code",
   "execution_count": 218,
   "metadata": {},
   "outputs": [],
   "source": [
    "def weights(pca,index,columns):\n",
    "    local_index = 0\n",
    "    df = pd.DataFrame(pca[index].reshape(1,pca[index].shape[0]),columns = columns, index = (['Dimension {}'.format(index+1)]))\n",
    "    sorted = df.iloc[local_index,:].sort_values(ascending=False)\n",
    "    return sorted\n",
    "\n",
    "def plot_component(df,index):\n",
    "    desired = pd.concat([df[:5],df[-5:]]) \n",
    "    plt.figure(figsize = (10,8))\n",
    "    plt.bar(desired.index,desired,\n",
    "            width=0.6,\n",
    "            linewidth = 2,\n",
    "            color = ['#008080','#ff0000','#003366','#fa8072','#20b2aa','#b4eeb4','#8a2be2','#ff1493','#420420','#3399ff']\n",
    "           )\n",
    "    plt.xticks(rotation = 90, fontsize = 8)\n",
    "    plt.xlabel('features')\n",
    "    plt.ylabel('weights')\n",
    "    plt.title('Component {}'.format(index))"
   ]
  },
  {
   "cell_type": "code",
   "execution_count": 219,
   "metadata": {},
   "outputs": [
    {
     "data": {
      "image/png": "[encoded data removed]",
      "text/plain": [
       "<Figure size 1000x800 with 1 Axes>"
      ]
     },
     "metadata": {},
     "output_type": "display_data"
    }
   ],
   "source": [
    "plot_component(weights(w,0,imputed_df.columns),1)"
   ]
  },
  {
   "cell_type": "code",
   "execution_count": 220,
   "metadata": {},
   "outputs": [
    {
     "data": {
      "image/png": "[encoded data removed]",
      "text/plain": [
       "<Figure size 1000x800 with 1 Axes>"
      ]
     },
     "metadata": {},
     "output_type": "display_data"
    }
   ],
   "source": [
    "# Map weights for the second principal component to corresponding feature names\n",
    "# and then print the linked values, sorted by weight.\n",
    "\n",
    "plot_component(weights(w,1,imputed_df.columns),2)"
   ]
  },
  {
   "cell_type": "code",
   "execution_count": 221,
   "metadata": {},
   "outputs": [
    {
     "data": {
      "image/png": "[encoded data removed]",
      "text/plain": [
       "<Figure size 1000x800 with 1 Axes>"
      ]
     },
     "metadata": {},
     "output_type": "display_data"
    }
   ],
   "source": [
    "# Map weights for the third principal component to corresponding feature names\n",
    "# and then print the linked values, sorted by weight.\n",
    "\n",
    "plot_component(weights(w,2,imputed_df.columns),3)"
   ]
  },
  {
   "cell_type": "markdown",
   "metadata": {},
   "source": [
    "### Discussion 2.3: Interpret Principal Components\n",
    "\n",
    "(Double-click this cell and replace this text with your own text, reporting your observations from detailed investigation of the first few principal components generated. Can we interpret positive and negative values from them in a meaningful way?)"
   ]
  },
  {
   "cell_type": "markdown",
   "metadata": {},
   "source": [
    "<b>I have selected 27 Principal Components.\n",
    "\n",
    "## First Component \n",
    "\n",
    "It gives more weightage to family homes in different PLZ8 macro cell region, Size of community  and Density of households per square kilometer and less weightage to low financial interest, KBA05_GBZ and antigen suffix features \n",
    "\n",
    "## Second Component \n",
    "\n",
    "It gives more weightage to people prepared for finance ,sensual-minded, event-oriented, return type and less to finance investor,inconspicuous and spender , generation of population features \n",
    "\n",
    "## Third Component\n",
    "\n",
    "It gives more weightage to dreamful,socially-minded,cultural-minded, family-minded and  low financial interest people and less to event-oriented,cultural-minded,dominant-minded,gender and combative attitude features of people\n",
    "</b>"
   ]
  },
  {
   "cell_type": "markdown",
   "metadata": {},
   "source": [
    "## Step 3: Clustering\n",
    "\n",
    "### Step 3.1: Apply Clustering to General Population\n",
    "\n",
    "You've assessed and cleaned the demographics data, then scaled and transformed them. Now, it's time to see how the data clusters in the principal components space. In this substep, you will apply k-means clustering to the dataset and use the average within-cluster distances from each point to their assigned cluster's centroid to decide on a number of clusters to keep.\n",
    "\n",
    "- Use sklearn's [KMeans](http://scikit-learn.org/stable/modules/generated/sklearn.cluster.KMeans.html#sklearn.cluster.KMeans) class to perform k-means clustering on the PCA-transformed data.\n",
    "- Then, compute the average difference from each point to its assigned cluster's center. **Hint**: The KMeans object's `.score()` method might be useful here, but note that in sklearn, scores tend to be defined so that larger is better. Try applying it to a small, toy dataset, or use an internet search to help your understanding.\n",
    "- Perform the above two steps for a number of different cluster counts. You can then see how the average distance decreases with an increasing number of clusters. However, each additional cluster provides a smaller net benefit. Use this fact to select a final number of clusters in which to group the data. **Warning**: because of the large size of the dataset, it can take a long time for the algorithm to resolve. The more clusters to fit, the longer the algorithm will take. You should test for cluster counts through at least 10 clusters to get the full picture, but you shouldn't need to test for a number of clusters above about 30.\n",
    "- Once you've selected a final number of clusters to use, re-fit a KMeans instance to perform the clustering operation. Make sure that you also obtain the cluster assignments for the general demographics data, since you'll be using them in the final Step 3.3."
   ]
  },
  {
   "cell_type": "code",
   "execution_count": 222,
   "metadata": {},
   "outputs": [
    {
     "data": {
      "text/plain": [
       "-35843287.82970871"
      ]
     },
     "execution_count": 222,
     "metadata": {},
     "output_type": "execute_result"
    }
   ],
   "source": [
    "# Over a number of different cluster counts...\n",
    "from sklearn.cluster import KMeans\n",
    "\n",
    "# run k-means clustering on the data and...\n",
    "kmean = KMeans()\n",
    "\n",
    "kmean.fit_predict(new_X_pca)\n",
    "# compute the average within-cluster distances.\n",
    "kmean.score(new_X_pca)"
   ]
  },
  {
   "cell_type": "code",
   "execution_count": 223,
   "metadata": {},
   "outputs": [],
   "source": [
    "# Investigate the change in within-cluster distance across number of clusters.\n",
    "# HINT: Use matplotlib's plot function to visualize this relationship.\n",
    "sum_of_squared_distances = []\n",
    "\n",
    "for i in range(1,30):\n",
    "    kmean = KMeans(i)\n",
    "    kmean.fit_predict(new_X_pca)\n",
    "    sum_of_squared_distances.append(kmean.inertia_)"
   ]
  },
  {
   "cell_type": "code",
   "execution_count": 224,
   "metadata": {},
   "outputs": [
    {
     "data": {
      "text/plain": [
       "Text(0.5, 1.0, 'Elbow Method')"
      ]
     },
     "execution_count": 224,
     "metadata": {},
     "output_type": "execute_result"
    },
    {
     "data": {
      "image/png": "[encoded data removed]",
      "text/plain": [
       "<Figure size 640x480 with 1 Axes>"
      ]
     },
     "metadata": {},
     "output_type": "display_data"
    }
   ],
   "source": [
    "plt.plot(range(1,30),sum_of_squared_distances,marker= 'o',color='r')\n",
    "plt.title('Elbow Method')"
   ]
  },
  {
   "cell_type": "code",
   "execution_count": 225,
   "metadata": {},
   "outputs": [],
   "source": [
    "# If the plot looks like an arm, then the elbow on the arm is optimal k.\n",
    "no_of_clusters = 8"
   ]
  },
  {
   "cell_type": "code",
   "execution_count": 226,
   "metadata": {},
   "outputs": [],
   "source": [
    "# new_scores = np.array([round(abs(x),3) for x in scores])\n",
    "# diff = np.diff(new_scores/new_scores[0])"
   ]
  },
  {
   "cell_type": "code",
   "execution_count": 227,
   "metadata": {},
   "outputs": [],
   "source": [
    "# no_of_clusters  = np.argwhere(diff < np.quantile(diff,0.9))[-1][0]"
   ]
  },
  {
   "cell_type": "code",
   "execution_count": 228,
   "metadata": {},
   "outputs": [],
   "source": [
    "# Re-fit the k-means model with the selected number of clusters and obtain\n",
    "# cluster predictions for the general population demographics data.\n",
    "\n",
    "kmean = KMeans(no_of_clusters)\n",
    "kmean.fit_transform(new_X_pca)\n",
    "original_df = pd.DataFrame(kmean.fit_predict(new_X_pca),columns = ['labels'])"
   ]
  },
  {
   "cell_type": "markdown",
   "metadata": {},
   "source": [
    "### Discussion 3.1: Apply Clustering to General Population\n",
    "\n",
    "(Double-click this cell and replace this text with your own text, reporting your findings and decisions regarding clustering. Into how many clusters have you decided to segment the population?)"
   ]
  },
  {
   "cell_type": "markdown",
   "metadata": {},
   "source": [
    "I have decided to take 8 clusters for the population by using the elbow method"
   ]
  },
  {
   "cell_type": "markdown",
   "metadata": {},
   "source": [
    "### Step 3.2: Apply All Steps to the Customer Data\n",
    "\n",
    "Now that you have clusters and cluster centers for the general population, it's time to see how the customer data maps on to those clusters. Take care to not confuse this for re-fitting all of the models to the customer data. Instead, you're going to use the fits from the general population to clean, transform, and cluster the customer data. In the last step of the project, you will interpret how the general population fits apply to the customer data.\n",
    "\n",
    "- Don't forget when loading in the customers data, that it is semicolon (`;`) delimited.\n",
    "- Apply the same feature wrangling, selection, and engineering steps to the customer demographics using the `clean_data()` function you created earlier. (You can assume that the customer demographics data has similar meaning behind missing data patterns as the general demographics data.)\n",
    "- Use the sklearn objects from the general demographics data, and apply their transformations to the customers data. That is, you should not be using a `.fit()` or `.fit_transform()` method to re-fit the old objects, nor should you be creating new sklearn objects! Carry the data through the feature scaling, PCA, and clustering steps, obtaining cluster assignments for all of the data in the customer demographics data."
   ]
  },
  {
   "cell_type": "code",
   "execution_count": 229,
   "metadata": {},
   "outputs": [],
   "source": [
    "# Load in the customer demographics data.\n",
    "customers = pd.read_csv('Udacity_CUSTOMERS_Subset.csv',delimiter = ';')"
   ]
  },
  {
   "cell_type": "code",
   "execution_count": 230,
   "metadata": {},
   "outputs": [
    {
     "data": {
      "text/plain": [
       "(191652, 85)"
      ]
     },
     "execution_count": 230,
     "metadata": {},
     "output_type": "execute_result"
    }
   ],
   "source": [
    "customers.shape"
   ]
  },
  {
   "cell_type": "code",
   "execution_count": 231,
   "metadata": {},
   "outputs": [],
   "source": [
    "customer_df = clean_data(customers)"
   ]
  },
  {
   "cell_type": "code",
   "execution_count": 232,
   "metadata": {},
   "outputs": [
    {
     "data": {
      "text/plain": [
       "(191652, 83)"
      ]
     },
     "execution_count": 232,
     "metadata": {},
     "output_type": "execute_result"
    }
   ],
   "source": [
    "customer_df.shape"
   ]
  },
  {
   "cell_type": "code",
   "execution_count": 233,
   "metadata": {},
   "outputs": [],
   "source": [
    "imputed_df = pd.DataFrame(imputer.transform(customer_df), columns = customer_df.columns)"
   ]
  },
  {
   "cell_type": "code",
   "execution_count": 234,
   "metadata": {},
   "outputs": [],
   "source": [
    "scaled_df = pd.DataFrame(scaler.transform(imputed_df),columns = customer_df.columns)"
   ]
  },
  {
   "cell_type": "code",
   "execution_count": 235,
   "metadata": {},
   "outputs": [
    {
     "data": {
      "text/plain": [
       "(191652, 83)"
      ]
     },
     "execution_count": 235,
     "metadata": {},
     "output_type": "execute_result"
    }
   ],
   "source": [
    "scaled_df.shape"
   ]
  },
  {
   "cell_type": "code",
   "execution_count": 236,
   "metadata": {},
   "outputs": [],
   "source": [
    "customer_X_pca = decomposition_pca.transform(scaled_df)"
   ]
  },
  {
   "cell_type": "code",
   "execution_count": 237,
   "metadata": {},
   "outputs": [
    {
     "data": {
      "text/plain": [
       "(191652, 27)"
      ]
     },
     "execution_count": 237,
     "metadata": {},
     "output_type": "execute_result"
    }
   ],
   "source": [
    "# Apply preprocessing, feature transformation, and clustering from the general\n",
    "# demographics onto the customer data, obtaining cluster predictions for the\n",
    "# customer demographics data.\n",
    "\n",
    "customer_X_pca.shape"
   ]
  },
  {
   "cell_type": "code",
   "execution_count": 238,
   "metadata": {},
   "outputs": [],
   "source": [
    "customer_results = kmean.transform(customer_X_pca)"
   ]
  },
  {
   "cell_type": "code",
   "execution_count": 239,
   "metadata": {},
   "outputs": [
    {
     "data": {
      "text/plain": [
       "array([[10.56650514, 10.53451517, 12.03377585, ..., 14.27185601,\n",
       "         7.20349748, 12.46833395],\n",
       "       [14.44297809, 15.14918532, 15.39242907, ..., 16.30278325,\n",
       "        14.11384212, 15.40120173],\n",
       "       [ 7.95449955, 11.59190419,  6.33823809, ..., 10.86358722,\n",
       "         8.2793322 ,  9.46790646],\n",
       "       ...,\n",
       "       [ 9.06045032, 10.27434764,  9.57827658, ..., 12.76256122,\n",
       "         6.23361331, 11.70105746],\n",
       "       [ 7.74112003,  9.50923916,  5.93719398, ...,  9.4369648 ,\n",
       "         7.38956344,  8.73473102],\n",
       "       [10.3305273 ,  8.2602943 , 12.046123  , ..., 12.46468301,\n",
       "         6.69555234, 11.33542304]])"
      ]
     },
     "execution_count": 239,
     "metadata": {},
     "output_type": "execute_result"
    }
   ],
   "source": [
    "customer_results"
   ]
  },
  {
   "cell_type": "code",
   "execution_count": 240,
   "metadata": {},
   "outputs": [
    {
     "data": {
      "text/plain": [
       "array([6, 2, 0, 3, 5, 7, 1, 4], dtype=int32)"
      ]
     },
     "execution_count": 240,
     "metadata": {},
     "output_type": "execute_result"
    }
   ],
   "source": [
    "pd.DataFrame(kmean.predict(customer_X_pca))[0].unique()"
   ]
  },
  {
   "cell_type": "code",
   "execution_count": 241,
   "metadata": {},
   "outputs": [],
   "source": [
    "predicted = pd.DataFrame(kmean.predict(customer_X_pca),columns = ['labels'])"
   ]
  },
  {
   "cell_type": "code",
   "execution_count": 242,
   "metadata": {},
   "outputs": [
    {
     "data": {
      "text/plain": [
       "-7913608.015214867"
      ]
     },
     "execution_count": 242,
     "metadata": {},
     "output_type": "execute_result"
    }
   ],
   "source": [
    "kmean.score(customer_X_pca)"
   ]
  },
  {
   "cell_type": "markdown",
   "metadata": {},
   "source": [
    "### Step 3.3: Compare Customer Data to Demographics Data\n",
    "\n",
    "At this point, you have clustered data based on demographics of the general population of Germany, and seen how the customer data for a mail-order sales company maps onto those demographic clusters. In this final substep, you will compare the two cluster distributions to see where the strongest customer base for the company is.\n",
    "\n",
    "Consider the proportion of persons in each cluster for the general population, and the proportions for the customers. If we think the company's customer base to be universal, then the cluster assignment proportions should be fairly similar between the two. If there are only particular segments of the population that are interested in the company's products, then we should see a mismatch from one to the other. If there is a higher proportion of persons in a cluster for the customer data compared to the general population (e.g. 5% of persons are assigned to a cluster for the general population, but 15% of the customer data is closest to that cluster's centroid) then that suggests the people in that cluster to be a target audience for the company. On the other hand, the proportion of the data in a cluster being larger in the general population than the customer data (e.g. only 2% of customers closest to a population centroid that captures 6% of the data) suggests that group of persons to be outside of the target demographics.\n",
    "\n",
    "Take a look at the following points in this step:\n",
    "\n",
    "- Compute the proportion of data points in each cluster for the general population and the customer data. Visualizations will be useful here: both for the individual dataset proportions, but also to visualize the ratios in cluster representation between groups. Seaborn's [`countplot()`](https://seaborn.pydata.org/generated/seaborn.countplot.html) or [`barplot()`](https://seaborn.pydata.org/generated/seaborn.barplot.html) function could be handy.\n",
    "  - Recall the analysis you performed in step 1.1.3 of the project, where you separated out certain data points from the dataset if they had more than a specified threshold of missing values. If you found that this group was qualitatively different from the main bulk of the data, you should treat this as an additional data cluster in this analysis. Make sure that you account for the number of data points in this subset, for both the general population and customer datasets, when making your computations!\n",
    "- Which cluster or clusters are overrepresented in the customer dataset compared to the general population? Select at least one such cluster and infer what kind of people might be represented by that cluster. Use the principal component interpretations from step 2.3 or look at additional components to help you make this inference. Alternatively, you can use the `.inverse_transform()` method of the PCA and StandardScaler objects to transform centroids back to the original data space and interpret the retrieved values directly.\n",
    "- Perform a similar investigation for the underrepresented clusters. Which cluster or clusters are underrepresented in the customer dataset compared to the general population, and what kinds of people are typified by these clusters?"
   ]
  },
  {
   "cell_type": "code",
   "execution_count": 248,
   "metadata": {},
   "outputs": [],
   "source": [
    "clusters_list = [i for i in range(no_of_clusters)]"
   ]
  },
  {
   "cell_type": "code",
   "execution_count": 259,
   "metadata": {},
   "outputs": [],
   "source": [
    "# Compare the proportion of data in each cluster for the customer data to the\n",
    "# proportion of data in each cluster for the general population.\n",
    "\n",
    "gen_perct  = (original_df['labels'].sort_index(ascending=True).value_counts()/original_df.shape[0]).sort_index()"
   ]
  },
  {
   "cell_type": "code",
   "execution_count": 260,
   "metadata": {},
   "outputs": [],
   "source": [
    "cust_perct = (predicted['labels'].value_counts()/customers.shape[0]).sort_index()"
   ]
  },
  {
   "cell_type": "code",
   "execution_count": 270,
   "metadata": {},
   "outputs": [
    {
     "data": {
      "text/plain": [
       "<BarContainer object of 8 artists>"
      ]
     },
     "execution_count": 270,
     "metadata": {},
     "output_type": "execute_result"
    },
    {
     "data": {
      "image/png": "[encoded data removed]",
      "text/plain": [
       "<Figure size 640x480 with 1 Axes>"
      ]
     },
     "metadata": {},
     "output_type": "display_data"
    }
   ],
   "source": [
    "plt.bar(clusters_list,gen_perct,alpha=0.4)\n",
    "plt.bar(clusters_list,cust_perct,alpha=0.7)"
   ]
  },
  {
   "cell_type": "markdown",
   "metadata": {},
   "source": [
    "cluster 5 is underrepresented and cluster 6 is overrrepresented "
   ]
  },
  {
   "cell_type": "code",
   "execution_count": null,
   "metadata": {},
   "outputs": [],
   "source": [
    "scaler.transform\n",
    "decomposition_pca.transform\n",
    "customer_X_pca"
   ]
  },
  {
   "cell_type": "code",
   "execution_count": 278,
   "metadata": {},
   "outputs": [],
   "source": [
    "underrepresented_index = predicted[predicted['labels'] == 6].index"
   ]
  },
  {
   "cell_type": "code",
   "execution_count": 277,
   "metadata": {},
   "outputs": [],
   "source": [
    "overrepresented_index = predicted[predicted['labels'] == 5].index"
   ]
  },
  {
   "cell_type": "code",
   "execution_count": 279,
   "metadata": {},
   "outputs": [],
   "source": [
    "inverse_pca = decomposition_pca.inverse_transform(customer_X_pca)"
   ]
  },
  {
   "cell_type": "code",
   "execution_count": 280,
   "metadata": {},
   "outputs": [],
   "source": [
    "inverse_scaled = scaler.inverse_transform(inverse_pca)"
   ]
  },
  {
   "cell_type": "code",
   "execution_count": 283,
   "metadata": {},
   "outputs": [],
   "source": [
    "columns  = scaled_df.columns"
   ]
  },
  {
   "cell_type": "code",
   "execution_count": 284,
   "metadata": {},
   "outputs": [],
   "source": [
    "back_df = pd.DataFrame(inverse_scaled,columns = columns)"
   ]
  },
  {
   "cell_type": "code",
   "execution_count": 295,
   "metadata": {},
   "outputs": [
    {
     "name": "stdout",
     "output_type": "stream",
     "text": [
      "Column  ALTERSKATEGORIE_GROB  --->  [ 4.  3.  2.  1. nan]\n",
      "Column  ALTERSKATEGORIE_GROB  --->  [ 2.  1.  3.  4. nan]\n",
      "Column  ANREDE_KZ  --->  [1 2]\n",
      "Column  ANREDE_KZ  --->  [1 2]\n",
      "Column  FINANZ_MINIMALIST  --->  [5 4 3 2]\n",
      "Column  FINANZ_MINIMALIST  --->  [2 3 1 4]\n",
      "Column  FINANZ_SPARER  --->  [1 2 3 4 5]\n",
      "Column  FINANZ_SPARER  --->  [4 1 2 5 3]\n",
      "Column  FINANZ_VORSORGER  --->  [5 4 1 3 2]\n",
      "Column  FINANZ_VORSORGER  --->  [2 5 1 3 4]\n",
      "Column  FINANZ_ANLEGER  --->  [1 2 3 4 5]\n",
      "Column  FINANZ_ANLEGER  --->  [2 4 5 3 1]\n",
      "Column  FINANZ_UNAUFFAELLIGER  --->  [2 3 1 4 5]\n",
      "Column  FINANZ_UNAUFFAELLIGER  --->  [3 1 2 4 5]\n",
      "Column  FINANZ_HAUSBAUER  --->  [2 3 1 4 5]\n",
      "Column  FINANZ_HAUSBAUER  --->  [3 5 4 2 1]\n",
      "Column  GEBURTSJAHR  --->  [  nan 1942. 1938. 1959. 1943. 1964. 1961. 1953. 1985. 1965. 1962. 1931.\n",
      " 1956. 1945. 1932. 1939. 1950. 1980. 1955. 1984. 1949. 1974. 1930. 1941.\n",
      " 1926. 1970. 1977. 1936. 1966. 1947. 1958. 1929. 1948. 1934. 1979. 1963.\n",
      " 1957. 1954. 1940. 1951. 1960. 1952. 1971. 1935. 1973. 1933. 1937. 1924.\n",
      " 1968. 1972. 1925. 1928. 1967. 1946. 1976. 1927. 1944. 1921. 1919. 1969.\n",
      " 1975. 2017. 1920. 1923. 1983. 1981. 1982. 1978. 1922. 1986. 1991. 1994.\n",
      " 1988. 2015. 1987. 1916. 2012. 1993. 1910. 1995. 1990. 1997. 1900. 1918.\n",
      " 1998. 1915. 1917. 2009. 1989. 1992. 1913. 1912. 2013. 1911. 1914. 2014.\n",
      " 2005. 2016. 2007. 2002. 2000. 1996. 1908.]\n",
      "Column  GEBURTSJAHR  --->  [  nan 1956. 1976. 1972. 1978. 1960. 1962. 1942. 1975. 1999. 1977. 1964.\n",
      " 1971. 1979. 1982. 1968. 1983. 1980. 1981. 1996. 1991. 1974. 1986. 1987.\n",
      " 2014. 1961. 1965. 1957. 1973. 2013. 1969. 1944. 1967. 1985. 1955. 1970.\n",
      " 2017. 1951. 1990. 1984. 1994. 1966. 1937. 1947. 1934. 1989. 2012. 1963.\n",
      " 1959. 1941. 1992. 2015. 2002. 2003. 1958. 1929. 1995. 1993. 1952. 1950.\n",
      " 1988. 1932. 1954. 1945. 1997. 1943. 2000. 1940. 1998. 1949. 1936. 1938.\n",
      " 1953. 2004. 1924. 1928. 1939. 1948. 1931. 1935. 1946.]\n",
      "Column  GREEN_AVANTGARDE  --->  [1 0]\n",
      "Column  GREEN_AVANTGARDE  --->  [0 1]\n",
      "Column  HEALTH_TYP  --->  [ 1.  2.  3. nan]\n",
      "Column  HEALTH_TYP  --->  [ 1.  2.  3. nan]\n",
      "Column  LP_LEBENSPHASE_GROB  --->  [ 5. nan  8.  3. 12. 11.  7. 10.  6.  4.  2.  9.  1.]\n",
      "Column  LP_LEBENSPHASE_GROB  --->  [ 1.  4.  6. 11.  9. nan 10.  7.  3.  2.  8. 12.  5.]\n",
      "Column  RETOURTYP_BK_S  --->  [ 5. nan  3.  2.  4.  1.]\n",
      "Column  RETOURTYP_BK_S  --->  [ 3.  5.  4.  2.  1. nan]\n",
      "Column  SEMIO_SOZ  --->  [6 3 4 7 2 5 1]\n",
      "Column  SEMIO_SOZ  --->  [7 5 1 2 6 3 4]\n",
      "Column  SEMIO_FAM  --->  [5 6 4 2 7]\n",
      "Column  SEMIO_FAM  --->  [7 5 4 2 6 1 3]\n",
      "Column  SEMIO_REL  --->  [2 3 4 5 6 7]\n",
      "Column  SEMIO_REL  --->  [6 7 4 5 3 2 1]\n",
      "Column  SEMIO_MAT  --->  [6 4 1 7 2 5 3]\n",
      "Column  SEMIO_MAT  --->  [3 7 5 4 6 2 1]\n",
      "Column  SEMIO_VERT  --->  [6 7 5 4 2 3 1]\n",
      "Column  SEMIO_VERT  --->  [6 3 7 2 5 1 4]\n",
      "Column  SEMIO_LUST  --->  [7 5 6 4 1 3 2]\n",
      "Column  SEMIO_LUST  --->  [6 3 2 7 1 4 5]\n",
      "Column  SEMIO_ERL  --->  [3 4 7 2 1 5]\n",
      "Column  SEMIO_ERL  --->  [2 5 3 7 1 4 6]\n",
      "Column  SEMIO_KULT  --->  [4 6 5 7 3 2]\n",
      "Column  SEMIO_KULT  --->  [7 5 6 3 2 4 1]\n",
      "Column  SEMIO_RAT  --->  [1 3 2 5 4 7 6]\n",
      "Column  SEMIO_RAT  --->  [5 7 4 1 6 2 3]\n",
      "Column  SEMIO_KRIT  --->  [3 5 1 4 2 7 6]\n",
      "Column  SEMIO_KRIT  --->  [2 4 1 6 5 7 3]\n",
      "Column  SEMIO_DOM  --->  [1 3 5 2 4 7 6]\n",
      "Column  SEMIO_DOM  --->  [2 7 1 4 5 6 3]\n",
      "Column  SEMIO_KAEM  --->  [1 2 3 4 6 5 7]\n",
      "Column  SEMIO_KAEM  --->  [4 7 2 1 6 3 5]\n",
      "Column  SEMIO_PFLICHT  --->  [2 4 3 1 5 7 6]\n",
      "Column  SEMIO_PFLICHT  --->  [7 6 5 3 4 1 2]\n",
      "Column  SEMIO_TRADV  --->  [1 4 2 5 6 3 7]\n",
      "Column  SEMIO_TRADV  --->  [5 7 3 6 4 2 1]\n",
      "Column  SOHO_KZ  --->  [0. 1.]\n",
      "Column  SOHO_KZ  --->  [0. 1.]\n",
      "Column  VERS_TYP  --->  [ 1.  2. nan]\n",
      "Column  VERS_TYP  --->  [ 2.  1. nan]\n",
      "Column  ALTER_HH  --->  [10. 11.  8. 20. 21. 15. 17. nan 19. 12.  9. 18. 13. 16.  7. 14.  6.  5.\n",
      "  2.  4.  3.]\n",
      "Column  ALTER_HH  --->  [17. 14. 16. nan 18.  5. 15.  7. 21. 20. 19.  9. 13. 10.  6. 12.  8. 11.]\n",
      "Column  ANZ_PERSONEN  --->  [ 2.  3.  0.  1.  5.  6.  4.  7.  8. 12.  9. 10. 11. 13.]\n",
      "Column  ANZ_PERSONEN  --->  [ 1.  2.  4.  5.  0.  3.  6. 10. 12.  7.]\n",
      "Column  ANZ_TITEL  --->  [0. 1. 2. 3. 5.]\n",
      "Column  ANZ_TITEL  --->  [0. 2. 1.]\n",
      "Column  HH_EINKOMMEN_SCORE  --->  [ 1. nan  4.  2.  3.  5.  6.]\n",
      "Column  HH_EINKOMMEN_SCORE  --->  [5. 6. 4. 3. 2. 1.]\n",
      "Column  W_KEIT_KIND_HH  --->  [ 6. nan  2.  4.  1.  3.  5.]\n",
      "Column  W_KEIT_KIND_HH  --->  [ 5.  6.  1.  2. nan  3.  4.]\n",
      "Column  WOHNDAUER_2008  --->  [9. 3. 8. 7. 6. 4. 5. 1. 2.]\n",
      "Column  WOHNDAUER_2008  --->  [9. 3. 4. 8. 5. 6. 7.]\n",
      "Column  ANZ_HAUSHALTE_AKTIV  --->  [ 1. nan  2.  3.  4.  6.  9. 24. 13.  7.  5. 10.  8. 23. 15. 18. 16. 11.\n",
      " 12. 19. 22. 38. 20. 14. 40. 25. 28. 57. 31. 17. 26. 21. 27. 29. 35. 48.\n",
      " 44. 42. 30. 34. 37.]\n",
      "Column  ANZ_HAUSHALTE_AKTIV  --->  [ 17.  25.  18.  47.   8.   4. 523.  11.  10.   9.  22.  23.  14.  20.\n",
      "  19.  48.  12.  13.  32.  43.  92.   7.  44.  35.  27.  16.   5.  45.\n",
      " 102.   1. 140.  21.   3.  40.  28.  29.  24.  37.  26.  31.  15.  52.\n",
      "  30.   6.  33.  39.  98.  34.  41.  80.  36.   2. 137.  56.  63.  64.\n",
      " 161.  81.  66.  61.  46.  58.  70.  99.  49.  71. 301.  38.  50.  54.\n",
      "  68. 344.  76.  78.  72. 108.  51. 304.  53.  60.  94.  74. 156. 122.\n",
      " 106.  59.  90.  42. 367.  55. 135. 112.  95.  85. 149. 259. 154.  83.]\n",
      "Column  ANZ_HH_TITEL  --->  [ 0. nan  2.  1.  3.]\n",
      "Column  ANZ_HH_TITEL  --->  [ 0.  1.  6.  2.  3. 20.  5. 17. 14.  4.  8.]\n",
      "Column  KONSUMNAEHE  --->  [ 5.  2.  4.  3.  1.  6.  7. nan]\n",
      "Column  KONSUMNAEHE  --->  [1. 3. 4. 2. 5.]\n",
      "Column  MIN_GEBAEUDEJAHR  --->  [1992.   nan 1997. 1995. 1994. 2008. 2005. 2001. 1993. 1999. 2003. 1998.\n",
      " 2000. 2011. 2004. 1996. 1991. 2010. 2002. 2007. 2012. 1990. 2009. 1989.\n",
      " 2013. 2014. 2006. 1988. 1987. 2015. 1986. 1985.]\n",
      "Column  MIN_GEBAEUDEJAHR  --->  [1992. 1994. 1993. 1989. 1995. 1991. 1988. 1997. 1990. 2006. 1996. 1987.\n",
      " 2004. 2008. 1999. 2009. 2003. 2007. 1985. 2000. 2002. 1998. 2001.]\n",
      "Column  OST_WEST_KZ  --->  [ 0. nan  1.]\n",
      "Column  OST_WEST_KZ  --->  [0. 1.]\n",
      "Column  WOHNLAGE  --->  [ 7. nan  1.  3.  5.  4.  2.  8.  0.]\n",
      "Column  WOHNLAGE  --->  [3. 4. 5. 2. 1. 0. 7.]\n",
      "Column  KBA05_ANTG1  --->  [ 2. nan  3.  4.  1.  0.]\n",
      "Column  KBA05_ANTG1  --->  [ 0.  1. nan  3.  2.  4.]\n",
      "Column  KBA05_ANTG2  --->  [ 2. nan  0.  1.  3.  4.]\n",
      "Column  KBA05_ANTG2  --->  [ 0.  2.  3.  1.  4. nan]\n",
      "Column  KBA05_ANTG3  --->  [ 0. nan  1.  2.  3.]\n",
      "Column  KBA05_ANTG3  --->  [ 2.  0.  3.  1. nan]\n",
      "Column  KBA05_ANTG4  --->  [ 0. nan  1.  2.]\n",
      "Column  KBA05_ANTG4  --->  [ 1.  2.  0. nan]\n",
      "Column  KBA05_BAUMAX  --->  [nan  1.  5.  3.  2.  4.]\n",
      "Column  KBA05_BAUMAX  --->  [ 5.  4.  3. nan  2.  1.]\n",
      "Column  KBA05_GBZ  --->  [ 4. nan  3.  5.  2.  1.]\n",
      "Column  KBA05_GBZ  --->  [ 1.  3.  2.  5. nan  4.]\n",
      "Column  BALLRAUM  --->  [ 3. nan  7.  6.  5.  2.  4.  1.]\n",
      "Column  BALLRAUM  --->  [1. 6. 2. 4. 3. 7. 5.]\n",
      "Column  EWDICHTE  --->  [ 2. nan  1.  5.  3.  4.  6.]\n",
      "Column  EWDICHTE  --->  [6. 5. 4. 3. 2. 1.]\n",
      "Column  INNENSTADT  --->  [ 4. nan  7.  8.  5.  6.  2.  3.  1.]\n",
      "Column  INNENSTADT  --->  [3. 2. 4. 1. 6. 8. 5. 7.]\n",
      "Column  GEBAEUDETYP_RASTER  --->  [ 4. nan  3.  5.  2.  1.]\n",
      "Column  GEBAEUDETYP_RASTER  --->  [2. 1. 3. 4. 5.]\n",
      "Column  KKK  --->  [ 1. nan  3.  2.  4.]\n",
      "Column  KKK  --->  [ 3.  1.  4.  2. nan]\n",
      "Column  MOBI_REGIO  --->  [ 4. nan  3.  5.  2.  1.  6.]\n",
      "Column  MOBI_REGIO  --->  [ 1.  2.  3. nan  4.  5.  6.]\n",
      "Column  ONLINE_AFFINITAET  --->  [ 3. nan  2.  4.  5.  1.  0.]\n",
      "Column  ONLINE_AFFINITAET  --->  [ 5.  1.  4.  3.  2.  0. nan]\n",
      "Column  REGIOTYP  --->  [ 1. nan  6.  3.  7.  5.  2.  4.]\n",
      "Column  REGIOTYP  --->  [ 6.  7.  2.  1.  5.  4.  3. nan]\n",
      "Column  KBA13_ANZAHL_PKW  --->  [1201.   nan  755. ...   52.   49.   25.]\n",
      "Column  KBA13_ANZAHL_PKW  --->  [ 155.  554.  439.  235.  579.  425.  221.   72.  285.  738.  254.  356.\n",
      "  201.  266.  405.  228.  335.  901.  397.  865.  287.  680.  576.  241.\n",
      "  258. 1059.  234.  857.  151.  633.  374.  458.  345.  577.  530.  463.\n",
      "  346.  179.  609.  414.  373.  338.  270.  380.  993.  512.  461.  486.\n",
      "  315.  455.  784.  131.  596.  777.  325.  294.  307.  296.  497.  359.\n",
      "  531.  328.  587.  354.  161.  222.  523.  286.  789.  166.  505.  474.\n",
      "  539.  352.  882.  226.  442.  809.  528.  821.  815.  476.  283.  190.\n",
      "  610.  611.  684.  310.  209.  830.  493.  632.  434.  284.  290.  795.\n",
      "  364.  376.  585.  248.  457.  122.  391.  745.  297.  597.  546.  370.\n",
      "  253.  572.  618.  231.  341.  339.  400.  851.  327.  408.   nan  696.\n",
      "  351.  494.  601.  675.  379.  278.  385.  495. 1137.  522.  623.  437.\n",
      "  264.  832.  185.  372.  216.  624.  837.  196.  426.  183.  422.  239.\n",
      "  337.  475.  203.  435.  620.  622.  761.  492.  349.  148.  249.  200.\n",
      " 1300.  170.  712.  788.  411.  571.  305.  663.  247.  448.  575.  219.\n",
      "  105.  230.  642.  282.  783.  586.  537.  681.  558.  747.  540.  513.\n",
      "  583.  468.  510.  991.  336.  452.  655.  308.  113.  299.  450.  363.\n",
      "  844.  969.  313.  348.  709.  662.  616.  423.  728.  772.  317.  666.\n",
      "  508.  224.  483.  469.  396.  582.  262. 1140.  454.  557.  905.  366.\n",
      "  390.  106.  660.  526.  607.  436.  524.  330.  303. 1061.   62.  473.\n",
      "  355.  342.  417.  598.  381.  589.  710.  404.  324.  357.  275.  394.\n",
      "  517.  413.  174.  111.  782.  470.  333.  748.  293.  491.   99.  188.\n",
      "  464.  827.  321.  237.  402.  509.  559.  403.  501.  467. 1106.  449.\n",
      " 1124.  719.  117.  514.  471.  441.  288.  625.  146.  311.  737.  547.\n",
      "  561.  378.  331. 1223.   94.  251.  409.  164.  682.  511.   47.  205.\n",
      "  534.  225.  535.  629.  977.  326.  430.  334.  621.  195.  466.  298.\n",
      "  638.  306.  590.  519.  314.  708.  459.   52.  172.  490.  472.  368.\n",
      "  924.  232.  751.  177.  252.  551.  421.  603.  888.  223.  936.  320.\n",
      "  635.  687.  269.  518.  679.  186.  602.  256.  358.  504.  319.  386.\n",
      "  399.  446.  104.  260.  255.  444. 1076.  371.  312.  858.  292.  549.\n",
      "  695.  758.  309.  889.  443.  798.  447.  592.  734.  431.  955.  353.\n",
      "  165.  274.  214.   64.  516.  627.  544.  552.  361.  688.  304.  881.\n",
      "  207.  520.  640.  387.  128.  533. 1023.  233. 1031.  631.  595.  727.\n",
      "  503.  206. 1107.  723.  367.  343.  156.  482.  220.  272.  451.  217.\n",
      "  487.  433.  238.  676.  866.  456.  750. 1007.  594.  139.  668.  930.\n",
      "  280.  462.  829.  478.  432.  377.  479.  485.   54.  670.  756.  630.\n",
      "  115.  733.  347.  157.  651.  204.  933.  730.  659.  243.  872.  706.\n",
      "  765.  416.  194.   23.  140.  615.  323.  268.  301.  460.  639.  316.\n",
      "  302.  569.  375.  246.  768.  101.  291.  393. 1018.  641.  619.  340.\n",
      "   56.  384.  637.  810.  718.  900.  153.  198.  398.  578.  242.  488.\n",
      "  187. 1187.  300.  244.  614.  726.  739.  754.  604.  135.  831.  965.\n",
      "  215.  134.  769.  109.  550.  731.  465.  792.  236.  847.  869.  118.\n",
      "  191.  500.  654.  707.  724.  360.  826.  418.  774.  671.  481.  212.\n",
      "  767.  694.  678.  515.  613.  289.  277.  445.  538.  759.  175.  329.\n",
      "  661.  529.  208.  279.  480.  879.   95.  163.  388. 1217. 1160.  229.\n",
      "  656.  123.  210.  440.  267.  159.  332.  588.  365.  669.  407.  580.\n",
      "  744.  180. 1246.  560.  202.  873.  646.  392.  564.  263.   65.   83.\n",
      "  732.  685.  322.  536. 1247.  145.  184.  563.  593.  412.  904.  664.\n",
      "  697.  842.  144. 1500.  149.  762.  401.  634.  570.  257.  182.  276.\n",
      " 1800. 1167.  805.  752.  970.   59.  453. 1214.  573.  850. 1092.  720.\n",
      "  369.  281.  389.  420.  506.  626.  427.  647.  543.  545.  240.  428.\n",
      "  874. 1013.  643.  686.  740.  884.  683.  211.  496.  424.  849.  716.\n",
      "  295.  961. 1700.  722.  265.   86.  617.  834.  743.  419.  691.  658.\n",
      "  606.  410.  532.  152.  819.  749.  119.  711.  644.  704.   26. 1005.\n",
      "  787.  271. 1095.  245.   69. 1400.  154.  541.  764.  645.  502.  648.\n",
      "  565.  811.  127.  919.  498.  649.  150.  438.  383.  169.  920.  160.\n",
      "  562.  863.  701.  521.  574.  807. 1011.  757.  197.  910.  997.  568.\n",
      "  484. 1002.  525.  344.  999.  199.  477.   57.   93. 1078.  608.  584.\n",
      "  273.]\n",
      "Column  PLZ8_ANTG1  --->  [ 3. nan  2.  4.  1.]\n",
      "Column  PLZ8_ANTG1  --->  [ 1.  0.  2. nan  3.  4.]\n",
      "Column  PLZ8_ANTG2  --->  [ 3. nan  2.  1.  4.  0.]\n",
      "Column  PLZ8_ANTG2  --->  [ 3.  2.  1.  0.  4. nan]\n",
      "Column  PLZ8_ANTG3  --->  [ 1. nan  2.  0.  3.]\n",
      "Column  PLZ8_ANTG3  --->  [ 3.  2.  0.  1. nan]\n",
      "Column  PLZ8_ANTG4  --->  [ 0. nan  1.  2.]\n",
      "Column  PLZ8_ANTG4  --->  [ 2.  1. nan  0.]\n",
      "Column  PLZ8_BAUMAX  --->  [ 1. nan  2.  3.  4.  5.]\n",
      "Column  PLZ8_BAUMAX  --->  [ 5.  3.  4.  2.  1. nan]\n",
      "Column  PLZ8_HHZ  --->  [ 5. nan  3.  4.  2.  1.]\n",
      "Column  PLZ8_HHZ  --->  [ 3.  5.  4.  1. nan  2.]\n",
      "Column  PLZ8_GBZ  --->  [ 5. nan  4.  3.  2.  1.]\n",
      "Column  PLZ8_GBZ  --->  [ 1.  3.  2.  4. nan  5.]\n",
      "Column  ARBEIT  --->  [ 1. nan  3.  2.  4.  5.]\n",
      "Column  ARBEIT  --->  [ 3.  4.  2.  1.  5. nan]\n",
      "Column  ORTSGR_KLS9  --->  [ 2. nan  3.  7.  4.  6.  5.  1.  8.  9.]\n",
      "Column  ORTSGR_KLS9  --->  [ 8.  9.  7.  5.  4.  6.  3. nan]\n",
      "Column  RELAT_AB  --->  [ 1. nan  5.  2.  3.  4.]\n",
      "Column  RELAT_AB  --->  [ 5.  3.  2.  4.  1. nan]\n",
      "Column  LP_FAMILIE_GROB_2.0  --->  [1. 0.]\n",
      "Column  LP_FAMILIE_GROB_2.0  --->  [0. 1.]\n",
      "Column  LP_FAMILIE_GROB_3.0  --->  [0. 1.]\n",
      "Column  LP_FAMILIE_GROB_3.0  --->  [0. 1.]\n",
      "Column  LP_FAMILIE_GROB_4.0  --->  [0. 1.]\n",
      "Column  LP_FAMILIE_GROB_4.0  --->  [0. 1.]\n",
      "Column  LP_FAMILIE_GROB_5.0  --->  [0. 1.]\n",
      "Column  LP_FAMILIE_GROB_5.0  --->  [0. 1.]\n",
      "Column  LP_FAMILIE_GROB_nan  --->  [0. 1.]\n",
      "Column  LP_FAMILIE_GROB_nan  --->  [0. 1.]\n",
      "Column  LP_STATUS_GROB_2.0  --->  [0. 1.]\n",
      "Column  LP_STATUS_GROB_2.0  --->  [0. 1.]\n",
      "Column  LP_STATUS_GROB_3.0  --->  [0. 1.]\n",
      "Column  LP_STATUS_GROB_3.0  --->  [0. 1.]\n",
      "Column  LP_STATUS_GROB_4.0  --->  [0. 1.]\n",
      "Column  LP_STATUS_GROB_4.0  --->  [0. 1.]\n",
      "Column  LP_STATUS_GROB_5.0  --->  [1. 0.]\n",
      "Column  LP_STATUS_GROB_5.0  --->  [0. 1.]\n",
      "Column  LP_STATUS_GROB_nan  --->  [0. 1.]\n",
      "Column  LP_STATUS_GROB_nan  --->  [0. 1.]\n",
      "Column  NATIONALITAET_KZ_2.0  --->  [0. 1.]\n",
      "Column  NATIONALITAET_KZ_2.0  --->  [1. 0.]\n",
      "Column  NATIONALITAET_KZ_3.0  --->  [0. 1.]\n",
      "Column  NATIONALITAET_KZ_3.0  --->  [0. 1.]\n",
      "Column  NATIONALITAET_KZ_nan  --->  [0. 1.]\n",
      "Column  NATIONALITAET_KZ_nan  --->  [0. 1.]\n",
      "Column  movement  --->  [-1]\n",
      "Column  movement  --->  [-1]\n",
      "Column  generation_by_decade  --->  [50. nan 40. 70. 60. 90. 80.]\n",
      "Column  generation_by_decade  --->  [90. 70. 80. nan 50. 40. 60.]\n",
      "Column  wealth  --->  [-1  2  3  4  5]\n",
      "Column  wealth  --->  [ 4  5  3  2 -1]\n",
      "Column  life_stage  --->  [ 3 -1  4  5  2]\n",
      "Column  life_stage  --->  [-1  4  2  5  3]\n"
     ]
    }
   ],
   "source": [
    "for i in range(0,len(columns)):\n",
    "    print('Column ',columns[i],' ---> ',customer_df.iloc[underrepresented_index,i].unique())\n",
    "    print('Column ',columns[i],' ---> ',customer_df.iloc[overrepresented_index,i].unique())"
   ]
  },
  {
   "cell_type": "markdown",
   "metadata": {},
   "source": [
    "# What kinds of people are part of a cluster that is overrepresented in the\n",
    "# customer data compared to the general population?\n",
    "\n",
    "Lesss than 5000 inhabitants, no of aduts in the household are more than 10, more than 2 professional academic title holders , all range of data distribution is more for Postcode-level features are \n",
    "the  kind of people part of a cluster that are overrrepresented."
   ]
  },
  {
   "cell_type": "markdown",
   "metadata": {},
   "source": [
    "# What kinds of people are part of a cluster that is underrepresented in the\n",
    "# customer data compared to the general population?\n",
    "\n",
    "More No of households in the building, length of residence is more than 2 years and less professional academic title holders in the building with more number of cars in the PLZ8 region are the kind of people part of a cluster that are underrepresented."
   ]
  },
  {
   "cell_type": "markdown",
   "metadata": {},
   "source": [
    "# What kinds of people are part of a cluster that is underrepresented in the\n",
    "# customer data compared to the general population?\n",
    "\n",
    "Lowly classified with less to average share of family homes in PLZ8 region are part of a cluster that is underrepresented in the \n",
    "customer data compared to the general population"
   ]
  },
  {
   "cell_type": "markdown",
   "metadata": {},
   "source": [
    "### Discussion 3.3: Compare Customer Data to Demographics Data\n",
    "\n",
    "(Double-click this cell and replace this text with your own text, reporting findings and conclusions from the clustering analysis. Can we describe segments of the population that are relatively popular with the mail-order company, or relatively unpopular with the company?)"
   ]
  },
  {
   "cell_type": "markdown",
   "metadata": {},
   "source": [
    "Yes we can describe segments of the population that are relatively popular with the mail-order company, or relatively unpopular with the company"
   ]
  },
  {
   "cell_type": "markdown",
   "metadata": {},
   "source": [
    "> Congratulations on making it this far in the project! Before you finish, make sure to check through the entire notebook from top to bottom to make sure that your analysis follows a logical flow and all of your findings are documented in **Discussion** cells. Once you've checked over all of your work, you should export the notebook as an HTML document to submit for evaluation. You can do this from the menu, navigating to **File -> Download as -> HTML (.html)**. You will submit both that document and this notebook for your project submission."
   ]
  },
  {
   "cell_type": "code",
   "execution_count": null,
   "metadata": {},
   "outputs": [],
   "source": []
  }
 ],
 "metadata": {
  "kernelspec": {
   "display_name": "Python 3 (ipykernel)",
   "language": "python",
   "name": "python3"
  },
  "language_info": {
   "codemirror_mode": {
    "name": "ipython",
    "version": 3
   },
   "file_extension": ".py",
   "mimetype": "text/x-python",
   "name": "python",
   "nbconvert_exporter": "python",
   "pygments_lexer": "ipython3",
   "version": "3.11.7"
  }
 },
 "nbformat": 4,
 "nbformat_minor": 4
}
